{
 "cells": [
  {
   "cell_type": "code",
   "execution_count": 1,
   "metadata": {},
   "outputs": [],
   "source": [
    "from selenium import webdriver\n",
    "from selenium.webdriver.common.keys import Keys\n",
    "from selenium.webdriver.support.ui import Select\n",
    "from selenium.webdriver.support.ui import WebDriverWait"
   ]
  },
  {
   "cell_type": "code",
   "execution_count": 2,
   "metadata": {},
   "outputs": [],
   "source": [
    "driver = webdriver.Chrome()"
   ]
  },
  {
   "cell_type": "code",
   "execution_count": 3,
   "metadata": {},
   "outputs": [],
   "source": [
    "driver.get('https://thebrowser.com/')"
   ]
  },
  {
   "cell_type": "code",
   "execution_count": 20,
   "metadata": {},
   "outputs": [],
   "source": [
    "# articles = driver.find_elements_by_class_name('link')\n",
    "# for article in articles:\n",
    "#     print(article.text)"
   ]
  },
  {
   "cell_type": "code",
   "execution_count": 21,
   "metadata": {},
   "outputs": [],
   "source": [
    "articles = driver.find_elements_by_class_name('browser-link')"
   ]
  },
  {
   "cell_type": "code",
   "execution_count": 34,
   "metadata": {},
   "outputs": [
    {
     "name": "stdout",
     "output_type": "stream",
     "text": [
      "Castration\n",
      "https://www.theparisreview.org/blog/2018/06/19/one-word-castration/\n",
      "------\n",
      "This Is A Nuclear Bomb\n",
      "https://nymag.com/daily/intelligencer/2018/06/what-a-nuclear-attack-in-new-york-would-look-like.html\n",
      "------\n",
      "Going Nowhere Fast\n",
      "https://aeon.co/essays/has-the-quest-for-top-down-unification-of-physics-stalled\n",
      "------\n",
      "[{'title': 'Castration', 'link': 'https://www.theparisreview.org/blog/2018/06/19/one-word-castration/'}, {'title': 'This Is A Nuclear Bomb', 'link': 'https://nymag.com/daily/intelligencer/2018/06/what-a-nuclear-attack-in-new-york-would-look-like.html'}, {'title': 'Going Nowhere Fast', 'link': 'https://aeon.co/essays/has-the-quest-for-top-down-unification-of-physics-stalled'}]\n"
     ]
    }
   ],
   "source": [
    "reads = []\n",
    "for article in articles:\n",
    "    hot_read = {}\n",
    "    link = article.get_attribute('href')\n",
    "    title = article.text\n",
    "    hot_read['title'] = title\n",
    "    hot_read['link'] = link\n",
    "    print(title)\n",
    "    print(link)\n",
    "    print(\"------\")\n",
    "    reads.append(hot_read)\n",
    "print(reads)"
   ]
  },
  {
   "cell_type": "code",
   "execution_count": 37,
   "metadata": {},
   "outputs": [
    {
     "name": "stdout",
     "output_type": "stream",
     "text": [
      "{'title': 'Castration', 'link': 'https://www.theparisreview.org/blog/2018/06/19/one-word-castration/'}\n",
      "{'title': 'This Is A Nuclear Bomb', 'link': 'https://nymag.com/daily/intelligencer/2018/06/what-a-nuclear-attack-in-new-york-would-look-like.html'}\n",
      "{'title': 'Going Nowhere Fast', 'link': 'https://aeon.co/essays/has-the-quest-for-top-down-unification-of-physics-stalled'}\n"
     ]
    }
   ],
   "source": [
    "for read in reads:\n",
    "    print(read)"
   ]
  },
  {
   "cell_type": "code",
   "execution_count": 24,
   "metadata": {},
   "outputs": [],
   "source": [
    "# texts = driver.find_elements_by_class_name('content')"
   ]
  },
  {
   "cell_type": "code",
   "execution_count": 26,
   "metadata": {},
   "outputs": [
    {
     "name": "stdout",
     "output_type": "stream",
     "text": [
      "A doctor on the benefits of castration. “Gelding animals takes testosterone out of their development, making them less aggressive and more biddable, but also bigger. Castrated dogs are simpler to train and will more readily round up castrated sheep in the fields. Early Assyrian and Chinese civilizations transposed this knowledge to humans: Boys born in poverty would be castrated and sent to work in the imperial household. Eunuchs were often taller, sometimes stronger than average” (1,930 words)\n",
      "------\n",
      "How terrorists might smuggle a nuclear bomb into New York, and what would happen if they detonated it. “A ten-kiloton bomb would be seven feet long and weigh about 1,000 pounds. It would be simple to transport such a device aboard a container ship, just another unseen object in a giant metal box among millions of other metal boxes on the ocean. A moderate amount of shielding would be enough to hide its radioactive signature from most detectors at shipping hubs” (4,150 words)\n",
      "------\n",
      "Scientists expected the Large Hadron Collider to complete and confirm the Standard Model of physics, which aspires to present a comprehensive account of all the particles and all the forces in our Universe. But the results from recent experiments have generated far more questions than answers. Could the Standard Model be wrong? “None of the more exotic particles and interactions that theorists hoped to see has been forthcoming. No stop squarks, no gluinos, no neutralinos” (2,900 words)\n",
      "------\n",
      "Bob Axelrod talks about game theory in international affairs, and why it’s sometimes a good idea to lose (16m 56s)\n",
      "------\n"
     ]
    }
   ],
   "source": [
    "# for text in texts:\n",
    "#     print(text.text)\n",
    "#     print(\"------\")"
   ]
  },
  {
   "cell_type": "code",
   "execution_count": 38,
   "metadata": {},
   "outputs": [],
   "source": [
    "import pandas as pd\n",
    "df = pd.DataFrame(reads)"
   ]
  },
  {
   "cell_type": "code",
   "execution_count": 39,
   "metadata": {},
   "outputs": [],
   "source": [
    "import datetime\n",
    "right_now = datetime.datetime.now()"
   ]
  },
  {
   "cell_type": "code",
   "execution_count": 40,
   "metadata": {},
   "outputs": [
    {
     "data": {
      "text/plain": [
       "'2018-06-19_22_52_50'"
      ]
     },
     "execution_count": 40,
     "metadata": {},
     "output_type": "execute_result"
    }
   ],
   "source": [
    "right_now.strftime(\"%Y-%m-%d_%H_%M_%S\")"
   ]
  },
  {
   "cell_type": "code",
   "execution_count": 42,
   "metadata": {},
   "outputs": [],
   "source": [
    "filename = \"browser-\" + str(right_now)"
   ]
  },
  {
   "cell_type": "code",
   "execution_count": 50,
   "metadata": {},
   "outputs": [],
   "source": [
    "df.to_csv(\"browser-stories.csv\", index=False)\n",
    "pd.set_option('display.max_colwidth', -1)"
   ]
  },
  {
   "cell_type": "code",
   "execution_count": 51,
   "metadata": {},
   "outputs": [
    {
     "data": {
      "text/html": [
       "<div>\n",
       "<style scoped>\n",
       "    .dataframe tbody tr th:only-of-type {\n",
       "        vertical-align: middle;\n",
       "    }\n",
       "\n",
       "    .dataframe tbody tr th {\n",
       "        vertical-align: top;\n",
       "    }\n",
       "\n",
       "    .dataframe thead th {\n",
       "        text-align: right;\n",
       "    }\n",
       "</style>\n",
       "<table border=\"1\" class=\"dataframe\">\n",
       "  <thead>\n",
       "    <tr style=\"text-align: right;\">\n",
       "      <th></th>\n",
       "      <th>link</th>\n",
       "      <th>title</th>\n",
       "    </tr>\n",
       "  </thead>\n",
       "  <tbody>\n",
       "    <tr>\n",
       "      <th>0</th>\n",
       "      <td>https://www.theparisreview.org/blog/2018/06/19/one-word-castration/</td>\n",
       "      <td>Castration</td>\n",
       "    </tr>\n",
       "    <tr>\n",
       "      <th>1</th>\n",
       "      <td>https://nymag.com/daily/intelligencer/2018/06/what-a-nuclear-attack-in-new-york-would-look-like.html</td>\n",
       "      <td>This Is A Nuclear Bomb</td>\n",
       "    </tr>\n",
       "    <tr>\n",
       "      <th>2</th>\n",
       "      <td>https://aeon.co/essays/has-the-quest-for-top-down-unification-of-physics-stalled</td>\n",
       "      <td>Going Nowhere Fast</td>\n",
       "    </tr>\n",
       "  </tbody>\n",
       "</table>\n",
       "</div>"
      ],
      "text/plain": [
       "                                                                                                   link  \\\n",
       "0  https://www.theparisreview.org/blog/2018/06/19/one-word-castration/                                    \n",
       "1  https://nymag.com/daily/intelligencer/2018/06/what-a-nuclear-attack-in-new-york-would-look-like.html   \n",
       "2  https://aeon.co/essays/has-the-quest-for-top-down-unification-of-physics-stalled                       \n",
       "\n",
       "                    title  \n",
       "0  Castration              \n",
       "1  This Is A Nuclear Bomb  \n",
       "2  Going Nowhere Fast      "
      ]
     },
     "execution_count": 51,
     "metadata": {},
     "output_type": "execute_result"
    }
   ],
   "source": [
    "df.head()"
   ]
  },
  {
   "cell_type": "code",
   "execution_count": 52,
   "metadata": {},
   "outputs": [],
   "source": [
    "import requests"
   ]
  },
  {
   "cell_type": "code",
   "execution_count": 53,
   "metadata": {},
   "outputs": [
    {
     "data": {
      "text/plain": [
       "'{\\n  \"id\": \"<20180620030225.1.BCDBF65BDCDD08BE@sandbox0f742042c64749b58a5e48c29e0c0658.mailgun.org>\",\\n  \"message\": \"Queued. Thank you.\"\\n}'"
      ]
     },
     "execution_count": 53,
     "metadata": {},
     "output_type": "execute_result"
    }
   ],
   "source": [
    "response = requests.post(\n",
    "        \"https://api.mailgun.net/v3/API?.mailgun.org/messages\",\n",
    "        auth=(\"api\", \"API\"),\n",
    "        files=[(\"attachment\", open(\"browser-stories.csv\"))],\n",
    "        data={\"from\": \"Jessica McKenzie <mailgun@sandboxAPI.mailgun.org>\",\n",
    "              \"to\": [\"jessicastarmckenzie@gmail.com\"],\n",
    "              \"subject\": \"Morning reads\",\n",
    "              \"text\": \"Morning reads\"}) \n",
    "response.text"
   ]
  },
  {
   "cell_type": "code",
   "execution_count": null,
   "metadata": {},
   "outputs": [],
   "source": []
  }
 ],
 "metadata": {
  "kernelspec": {
   "display_name": "Python 3",
   "language": "python",
   "name": "python3"
  },
  "language_info": {
   "codemirror_mode": {
    "name": "ipython",
    "version": 3
   },
   "file_extension": ".py",
   "mimetype": "text/x-python",
   "name": "python",
   "nbconvert_exporter": "python",
   "pygments_lexer": "ipython3",
   "version": "3.6.5"
  }
 },
 "nbformat": 4,
 "nbformat_minor": 2
}
