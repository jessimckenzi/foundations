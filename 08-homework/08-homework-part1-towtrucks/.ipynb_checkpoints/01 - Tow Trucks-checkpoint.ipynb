{
 "cells": [
  {
   "cell_type": "markdown",
   "metadata": {},
   "source": [
    "# Texas Tow Trucks\n",
    "\n",
    "We're going to scrape some [tow trucks in Texas](https://www.tdlr.texas.gov/tools_search/)."
   ]
  },
  {
   "cell_type": "markdown",
   "metadata": {},
   "source": [
    "## Import your imports"
   ]
  },
  {
   "cell_type": "code",
   "execution_count": 1,
   "metadata": {},
   "outputs": [],
   "source": [
    "from selenium import webdriver\n",
    "from selenium.webdriver.common.keys import Keys\n",
    "from selenium.webdriver.support.ui import Select\n",
    "from selenium.webdriver.support.ui import WebDriverWait\n",
    "import time"
   ]
  },
  {
   "cell_type": "code",
   "execution_count": 2,
   "metadata": {},
   "outputs": [],
   "source": [
    "driver = webdriver.Chrome()\n",
    "driver.get('https://www.tdlr.texas.gov/tools_search/')"
   ]
  },
  {
   "cell_type": "markdown",
   "metadata": {},
   "source": [
    "## Search for the TLDR Number `006179570C`, and scrape the information on that company\n",
    "\n",
    "Using [license information system](https://www.tdlr.texas.gov/tools_search/), find information about the tow truck number above, displaying the\n",
    "\n",
    "- The business name\n",
    "- Owner/operator\n",
    "- Phone number\n",
    "- License status (Active, Expired, Etc)\n",
    "- Physical address\n",
    "\n",
    "If you can't figure a 'nice' way to locate something, your two last options might be:\n",
    "\n",
    "- **Find a \"parent\" element, then dig inside**\n",
    "- **Find all of a type of element** (like we did with `td` before) and get the `[0]`, `[1]`, `[2]`, etc\n",
    "- **XPath** (inspect an element, Copy > Copy XPath)\n",
    "\n",
    "These kinds of techniques tend to break when you're on other result pages, but... maybe not! You won't know until you try.\n",
    "\n",
    "> - *TIP: When you use xpath, you CANNOT use double quotes or Python will get confused. Use single quotes.*\n",
    "> - *TIP: You can clean your data up if you want to, or leave it dirty to clean later*\n",
    "> - *TIP: The address part can be tough, but you have a few options. You can use a combination of `.split` and list slicing to clean it now, or clean it later in the dataframe with regular expressions. Or other options, too, probably*"
   ]
  },
  {
   "cell_type": "code",
   "execution_count": 3,
   "metadata": {},
   "outputs": [],
   "source": [
    "text_input = driver.find_element_by_id('mcrdata')"
   ]
  },
  {
   "cell_type": "code",
   "execution_count": 4,
   "metadata": {},
   "outputs": [],
   "source": [
    "text_input.send_keys('006179570C')"
   ]
  },
  {
   "cell_type": "code",
   "execution_count": 5,
   "metadata": {},
   "outputs": [],
   "source": [
    "search_button = driver.find_element_by_id('submit3')\n",
    "search_button.click()"
   ]
  },
  {
   "cell_type": "code",
   "execution_count": 6,
   "metadata": {},
   "outputs": [],
   "source": [
    "row = {}\n",
    "\n",
    "name = driver.find_elements_by_tag_name('td')[5]\n",
    "name.text[8:]\n",
    "row['name'] = name.text[8:]"
   ]
  },
  {
   "cell_type": "code",
   "execution_count": 7,
   "metadata": {},
   "outputs": [],
   "source": [
    "operator = driver.find_elements_by_tag_name('td')[7]\n",
    "operator.text[17:]\n",
    "row['operator'] = operator.text[17:]"
   ]
  },
  {
   "cell_type": "code",
   "execution_count": 8,
   "metadata": {},
   "outputs": [],
   "source": [
    "phone = driver.find_elements_by_tag_name('td')[9]\n",
    "phone.text[9:]\n",
    "row['phone'] = phone.text[9:]"
   ]
  },
  {
   "cell_type": "code",
   "execution_count": 9,
   "metadata": {},
   "outputs": [],
   "source": [
    "status = driver.find_elements_by_tag_name('td')[12]\n",
    "status.text[9:]\n",
    "row['status'] = status.text[9:]"
   ]
  },
  {
   "cell_type": "code",
   "execution_count": 10,
   "metadata": {},
   "outputs": [
    {
     "name": "stdout",
     "output_type": "stream",
     "text": [
      "\n",
      "13619 BRETT JACKSON RD.\n",
      "FORT WORTH, TX. 76179\n"
     ]
    }
   ],
   "source": [
    "address = driver.find_elements_by_tag_name('td')[14].text.split(\":\")[-1]\n",
    "print(address)\n",
    "row['address'] = address"
   ]
  },
  {
   "cell_type": "code",
   "execution_count": 11,
   "metadata": {},
   "outputs": [
    {
     "data": {
      "text/plain": [
       "{'name': 'B.D. SMITH TOWING',\n",
       " 'operator': 'BRANDT SMITH / OWNER',\n",
       " 'phone': '8173330706',\n",
       " 'status': 'Expired',\n",
       " 'address': '\\n13619 BRETT JACKSON RD.\\nFORT WORTH, TX. 76179'}"
      ]
     },
     "execution_count": 11,
     "metadata": {},
     "output_type": "execute_result"
    }
   ],
   "source": [
    "row"
   ]
  },
  {
   "cell_type": "markdown",
   "metadata": {},
   "source": [
    "# Adapt this to work inside of a single cell\n",
    "\n",
    "Double-check that it works. You want it to print out all of the details."
   ]
  },
  {
   "cell_type": "code",
   "execution_count": 12,
   "metadata": {},
   "outputs": [
    {
     "data": {
      "text/plain": [
       "{'name': 'B.D. SMITH TOWING',\n",
       " 'operator': 'BRANDT SMITH / OWNER',\n",
       " 'phone': '8173330706',\n",
       " 'status': 'Expired',\n",
       " 'address': '\\n13619 BRETT JACKSON RD.\\nFORT WORTH, TX. 76179'}"
      ]
     },
     "execution_count": 12,
     "metadata": {},
     "output_type": "execute_result"
    }
   ],
   "source": [
    "driver.get('https://www.tdlr.texas.gov/tools_search/')\n",
    "\n",
    "text_input = driver.find_element_by_id('mcrdata')\n",
    "text_input.send_keys('006179570C')\n",
    "\n",
    "search_button = driver.find_element_by_id('submit3')\n",
    "search_button.click()\n",
    "\n",
    "row = {}\n",
    "\n",
    "name = driver.find_elements_by_tag_name('td')[5]\n",
    "row['name'] = name.text[8:]\n",
    "\n",
    "operator = driver.find_elements_by_tag_name('td')[7]\n",
    "row['operator'] = operator.text[17:]\n",
    "\n",
    "phone = driver.find_elements_by_tag_name('td')[9]\n",
    "row['phone'] = phone.text[9:]\n",
    "\n",
    "status = driver.find_elements_by_tag_name('td')[12]\n",
    "row['status'] = status.text[9:]\n",
    "\n",
    "address = driver.find_elements_by_tag_name('td')[14].text.split(\":\")[-1]\n",
    "row['address'] = address\n",
    "\n",
    "row"
   ]
  },
  {
   "cell_type": "markdown",
   "metadata": {},
   "source": [
    "# Using .apply to find data about SEVERAL tow truck companies\n",
    "\n",
    "The file `trucks-subset.csv` has information about the trucks, we'll use it to find the pages to scrape.\n",
    "\n",
    "### Open up `trucks-subset.csv` and save it into a dataframe"
   ]
  },
  {
   "cell_type": "code",
   "execution_count": 13,
   "metadata": {},
   "outputs": [],
   "source": [
    "import pandas as pd\n",
    "\n",
    "df = pd.read_csv(\"trucks-subset.csv\")"
   ]
  },
  {
   "cell_type": "code",
   "execution_count": 17,
   "metadata": {},
   "outputs": [
    {
     "data": {
      "text/html": [
       "<div>\n",
       "<style scoped>\n",
       "    .dataframe tbody tr th:only-of-type {\n",
       "        vertical-align: middle;\n",
       "    }\n",
       "\n",
       "    .dataframe tbody tr th {\n",
       "        vertical-align: top;\n",
       "    }\n",
       "\n",
       "    .dataframe thead th {\n",
       "        text-align: right;\n",
       "    }\n",
       "</style>\n",
       "<table border=\"1\" class=\"dataframe\">\n",
       "  <thead>\n",
       "    <tr style=\"text-align: right;\">\n",
       "      <th></th>\n",
       "      <th>TDLR Number</th>\n",
       "    </tr>\n",
       "  </thead>\n",
       "  <tbody>\n",
       "    <tr>\n",
       "      <th>0</th>\n",
       "      <td>006507931C</td>\n",
       "    </tr>\n",
       "    <tr>\n",
       "      <th>1</th>\n",
       "      <td>006179570C</td>\n",
       "    </tr>\n",
       "    <tr>\n",
       "      <th>2</th>\n",
       "      <td>006502097C</td>\n",
       "    </tr>\n",
       "  </tbody>\n",
       "</table>\n",
       "</div>"
      ],
      "text/plain": [
       "  TDLR Number\n",
       "0  006507931C\n",
       "1  006179570C\n",
       "2  006502097C"
      ]
     },
     "execution_count": 17,
     "metadata": {},
     "output_type": "execute_result"
    }
   ],
   "source": [
    "df.head(10)"
   ]
  },
  {
   "cell_type": "code",
   "execution_count": null,
   "metadata": {},
   "outputs": [],
   "source": []
  },
  {
   "cell_type": "markdown",
   "metadata": {},
   "source": [
    "## Go through each row of the dataset, displaying the URL you will need to scrape for the information on that row\n",
    "\n",
    "You don't have to actually use the search form for each of these - look at the URL you're on, it has the number in it!\n",
    "\n",
    "For example, one URL might look like `https://www.tdlr.texas.gov/tools_search/mccs_display.asp?mcrnumber=006495492C`.\n",
    "\n",
    "- *TIP: Use .apply and a function*\n",
    "- *TIP: Unlike the Yelp example, you'll need to build this URL from pieces*\n",
    "- *TIP: You probably don't want to `print` unless you're going to fix it for the next question \n",
    "- *TIP: pandas won't showing you the entire url! Run `pd.set_option('display.max_colwidth', -1)` to display aaaalll of the text in a cell*"
   ]
  },
  {
   "cell_type": "code",
   "execution_count": 22,
   "metadata": {},
   "outputs": [],
   "source": [
    "def full_url(tdlr_string):\n",
    "    return str('https://www.tdlr.texas.gov/tools_search/mccs_display.asp?mcrnumber=' + tdlr_string)"
   ]
  },
  {
   "cell_type": "code",
   "execution_count": 23,
   "metadata": {},
   "outputs": [
    {
     "data": {
      "text/plain": [
       "0    https://www.tdlr.texas.gov/tools_search/mccs_display.asp?mcrnumber=006507931C\n",
       "1    https://www.tdlr.texas.gov/tools_search/mccs_display.asp?mcrnumber=006179570C\n",
       "2    https://www.tdlr.texas.gov/tools_search/mccs_display.asp?mcrnumber=006502097C\n",
       "Name: TDLR Number, dtype: object"
      ]
     },
     "execution_count": 23,
     "metadata": {},
     "output_type": "execute_result"
    }
   ],
   "source": [
    "df['TDLR Number'].apply(full_url)"
   ]
  },
  {
   "cell_type": "code",
   "execution_count": null,
   "metadata": {},
   "outputs": [],
   "source": []
  },
  {
   "cell_type": "markdown",
   "metadata": {},
   "source": [
    "### Save this URL into a new column of your dataframe, called `url`\n",
    "\n",
    "- *TIP: Use a function and `.apply`*\n",
    "- *TIP: Be sure to use `return`*"
   ]
  },
  {
   "cell_type": "code",
   "execution_count": 24,
   "metadata": {},
   "outputs": [],
   "source": [
    "df['url'] = df['TDLR Number'].apply(full_url)"
   ]
  },
  {
   "cell_type": "code",
   "execution_count": 26,
   "metadata": {},
   "outputs": [
    {
     "data": {
      "text/html": [
       "<div>\n",
       "<style scoped>\n",
       "    .dataframe tbody tr th:only-of-type {\n",
       "        vertical-align: middle;\n",
       "    }\n",
       "\n",
       "    .dataframe tbody tr th {\n",
       "        vertical-align: top;\n",
       "    }\n",
       "\n",
       "    .dataframe thead th {\n",
       "        text-align: right;\n",
       "    }\n",
       "</style>\n",
       "<table border=\"1\" class=\"dataframe\">\n",
       "  <thead>\n",
       "    <tr style=\"text-align: right;\">\n",
       "      <th></th>\n",
       "      <th>TDLR Number</th>\n",
       "      <th>url</th>\n",
       "    </tr>\n",
       "  </thead>\n",
       "  <tbody>\n",
       "    <tr>\n",
       "      <th>0</th>\n",
       "      <td>006507931C</td>\n",
       "      <td>https://www.tdlr.texas.gov/tools_search/mccs_display.asp?mcrnumber=006507931C</td>\n",
       "    </tr>\n",
       "    <tr>\n",
       "      <th>1</th>\n",
       "      <td>006179570C</td>\n",
       "      <td>https://www.tdlr.texas.gov/tools_search/mccs_display.asp?mcrnumber=006179570C</td>\n",
       "    </tr>\n",
       "    <tr>\n",
       "      <th>2</th>\n",
       "      <td>006502097C</td>\n",
       "      <td>https://www.tdlr.texas.gov/tools_search/mccs_display.asp?mcrnumber=006502097C</td>\n",
       "    </tr>\n",
       "  </tbody>\n",
       "</table>\n",
       "</div>"
      ],
      "text/plain": [
       "  TDLR Number  \\\n",
       "0  006507931C   \n",
       "1  006179570C   \n",
       "2  006502097C   \n",
       "\n",
       "                                                                             url  \n",
       "0  https://www.tdlr.texas.gov/tools_search/mccs_display.asp?mcrnumber=006507931C  \n",
       "1  https://www.tdlr.texas.gov/tools_search/mccs_display.asp?mcrnumber=006179570C  \n",
       "2  https://www.tdlr.texas.gov/tools_search/mccs_display.asp?mcrnumber=006502097C  "
      ]
     },
     "execution_count": 26,
     "metadata": {},
     "output_type": "execute_result"
    }
   ],
   "source": [
    "df.head()"
   ]
  },
  {
   "cell_type": "code",
   "execution_count": null,
   "metadata": {},
   "outputs": [],
   "source": []
  },
  {
   "cell_type": "markdown",
   "metadata": {},
   "source": [
    "## Go through each row of the dataset, printing out information about each tow truck company.\n",
    "\n",
    "Now will be **scraping** inside of your function.\n",
    "\n",
    "- The business name\n",
    "- Owner/operator\n",
    "- Phone number\n",
    "- License status (Active, Expired, Etc)\n",
    "- Physical address\n",
    "\n",
    "Just print it out for now.\n",
    "\n",
    "- *TIP: use .apply*\n",
    "- *TIP: You'll be using the code you wrote before, but converted into a function*\n",
    "- *TIP: Remember how the TDLR Number is in the URL? You don't need to do the form submission if you don't want!*\n",
    "- *TIP: Make sure you adjust any variables so you don't scrape the same page again and again*"
   ]
  },
  {
   "cell_type": "code",
   "execution_count": 61,
   "metadata": {},
   "outputs": [],
   "source": [
    "def scrape_tow_trucks(row):\n",
    "    driver.get(row['url'])\n",
    "\n",
    "    name = driver.find_elements_by_tag_name('td')[5].text[8:]\n",
    "    operator = driver.find_elements_by_tag_name('td')[7].text[17:]\n",
    "    phone = driver.find_elements_by_tag_name('td')[9].text[9:]\n",
    "    status = driver.find_elements_by_tag_name('td')[12].text[9:]\n",
    "    address = driver.find_elements_by_tag_name('td')[14].text.split(\":\")[-1]\n",
    "    \n",
    "    return pd.Series({\n",
    "    'name': name,\n",
    "    'operator': operator,\n",
    "    'phone': phone,\n",
    "    'status': status,\n",
    "    'address' : address\n",
    "    })"
   ]
  },
  {
   "cell_type": "code",
   "execution_count": 62,
   "metadata": {},
   "outputs": [
    {
     "data": {
      "text/html": [
       "<div>\n",
       "<style scoped>\n",
       "    .dataframe tbody tr th:only-of-type {\n",
       "        vertical-align: middle;\n",
       "    }\n",
       "\n",
       "    .dataframe tbody tr th {\n",
       "        vertical-align: top;\n",
       "    }\n",
       "\n",
       "    .dataframe thead th {\n",
       "        text-align: right;\n",
       "    }\n",
       "</style>\n",
       "<table border=\"1\" class=\"dataframe\">\n",
       "  <thead>\n",
       "    <tr style=\"text-align: right;\">\n",
       "      <th></th>\n",
       "      <th>name</th>\n",
       "      <th>operator</th>\n",
       "      <th>phone</th>\n",
       "      <th>status</th>\n",
       "      <th>address</th>\n",
       "    </tr>\n",
       "  </thead>\n",
       "  <tbody>\n",
       "    <tr>\n",
       "      <th>0</th>\n",
       "      <td>AUGUSTUS E SMITH</td>\n",
       "      <td>AUGUSTUS EUGENE SMITH / OWNER</td>\n",
       "      <td>9032276464</td>\n",
       "      <td>Active</td>\n",
       "      <td>\\n103 N MAIN ST\\nBONHAM, TX. 75418</td>\n",
       "    </tr>\n",
       "    <tr>\n",
       "      <th>1</th>\n",
       "      <td>B.D. SMITH TOWING</td>\n",
       "      <td>BRANDT SMITH / OWNER</td>\n",
       "      <td>8173330706</td>\n",
       "      <td>Expired</td>\n",
       "      <td>\\n13619 BRETT JACKSON RD.\\nFORT WORTH, TX. 76179</td>\n",
       "    </tr>\n",
       "    <tr>\n",
       "      <th>2</th>\n",
       "      <td>BARRY MICHAEL SMITH</td>\n",
       "      <td>BARRY MICHAEL SMITH / OWNER</td>\n",
       "      <td>8066544404</td>\n",
       "      <td>Active</td>\n",
       "      <td>\\n4501 W CEMETERY RD\\nCANYON, TX. 79015</td>\n",
       "    </tr>\n",
       "  </tbody>\n",
       "</table>\n",
       "</div>"
      ],
      "text/plain": [
       "                  name                       operator       phone   status  \\\n",
       "0  AUGUSTUS E SMITH     AUGUSTUS EUGENE SMITH / OWNER  9032276464  Active    \n",
       "1  B.D. SMITH TOWING    BRANDT SMITH / OWNER           8173330706  Expired   \n",
       "2  BARRY MICHAEL SMITH  BARRY MICHAEL SMITH / OWNER    8066544404  Active    \n",
       "\n",
       "                                            address  \n",
       "0  \\n103 N MAIN ST\\nBONHAM, TX. 75418                \n",
       "1  \\n13619 BRETT JACKSON RD.\\nFORT WORTH, TX. 76179  \n",
       "2  \\n4501 W CEMETERY RD\\nCANYON, TX. 79015           "
      ]
     },
     "execution_count": 62,
     "metadata": {},
     "output_type": "execute_result"
    }
   ],
   "source": [
    "driver = webdriver.Chrome()\n",
    "\n",
    "df.apply(scrape_tow_trucks, axis=1)"
   ]
  },
  {
   "cell_type": "code",
   "execution_count": null,
   "metadata": {},
   "outputs": [],
   "source": []
  },
  {
   "cell_type": "code",
   "execution_count": null,
   "metadata": {},
   "outputs": [],
   "source": []
  },
  {
   "cell_type": "markdown",
   "metadata": {},
   "source": [
    "## Scrape the following information for each row of the dataset, and save it into new columns in your dataframe.\n",
    "\n",
    "- The business name\n",
    "- Owner/operator\n",
    "- Phone number\n",
    "- License status (Active, Expired, Etc)\n",
    "- Physical address\n",
    "\n",
    "It's basically what we did before, but using the function a little differently.\n",
    "\n",
    "- *TIP: Same as above, but you'll be returning a `pd.Series` and the `.apply` line is going to be a lot longer*\n",
    "- *TIP: Save it to a new dataframe!*\n",
    "- *TIP: Make sure you change your `df` variable names correctly if you're cutting and pasting - there are a few so it can get tricky*"
   ]
  },
  {
   "cell_type": "code",
   "execution_count": 65,
   "metadata": {},
   "outputs": [
    {
     "data": {
      "text/html": [
       "<div>\n",
       "<style scoped>\n",
       "    .dataframe tbody tr th:only-of-type {\n",
       "        vertical-align: middle;\n",
       "    }\n",
       "\n",
       "    .dataframe tbody tr th {\n",
       "        vertical-align: top;\n",
       "    }\n",
       "\n",
       "    .dataframe thead th {\n",
       "        text-align: right;\n",
       "    }\n",
       "</style>\n",
       "<table border=\"1\" class=\"dataframe\">\n",
       "  <thead>\n",
       "    <tr style=\"text-align: right;\">\n",
       "      <th></th>\n",
       "      <th>name</th>\n",
       "      <th>operator</th>\n",
       "      <th>phone</th>\n",
       "      <th>status</th>\n",
       "      <th>address</th>\n",
       "      <th>TDLR Number</th>\n",
       "      <th>url</th>\n",
       "    </tr>\n",
       "  </thead>\n",
       "  <tbody>\n",
       "    <tr>\n",
       "      <th>0</th>\n",
       "      <td>AUGUSTUS E SMITH</td>\n",
       "      <td>AUGUSTUS EUGENE SMITH / OWNER</td>\n",
       "      <td>9032276464</td>\n",
       "      <td>Active</td>\n",
       "      <td>\\n103 N MAIN ST\\nBONHAM, TX. 75418</td>\n",
       "      <td>006507931C</td>\n",
       "      <td>https://www.tdlr.texas.gov/tools_search/mccs_display.asp?mcrnumber=006507931C</td>\n",
       "    </tr>\n",
       "    <tr>\n",
       "      <th>1</th>\n",
       "      <td>B.D. SMITH TOWING</td>\n",
       "      <td>BRANDT SMITH / OWNER</td>\n",
       "      <td>8173330706</td>\n",
       "      <td>Expired</td>\n",
       "      <td>\\n13619 BRETT JACKSON RD.\\nFORT WORTH, TX. 76179</td>\n",
       "      <td>006179570C</td>\n",
       "      <td>https://www.tdlr.texas.gov/tools_search/mccs_display.asp?mcrnumber=006179570C</td>\n",
       "    </tr>\n",
       "    <tr>\n",
       "      <th>2</th>\n",
       "      <td>BARRY MICHAEL SMITH</td>\n",
       "      <td>BARRY MICHAEL SMITH / OWNER</td>\n",
       "      <td>8066544404</td>\n",
       "      <td>Active</td>\n",
       "      <td>\\n4501 W CEMETERY RD\\nCANYON, TX. 79015</td>\n",
       "      <td>006502097C</td>\n",
       "      <td>https://www.tdlr.texas.gov/tools_search/mccs_display.asp?mcrnumber=006502097C</td>\n",
       "    </tr>\n",
       "  </tbody>\n",
       "</table>\n",
       "</div>"
      ],
      "text/plain": [
       "                  name                       operator       phone   status  \\\n",
       "0  AUGUSTUS E SMITH     AUGUSTUS EUGENE SMITH / OWNER  9032276464  Active    \n",
       "1  B.D. SMITH TOWING    BRANDT SMITH / OWNER           8173330706  Expired   \n",
       "2  BARRY MICHAEL SMITH  BARRY MICHAEL SMITH / OWNER    8066544404  Active    \n",
       "\n",
       "                                            address TDLR Number  \\\n",
       "0  \\n103 N MAIN ST\\nBONHAM, TX. 75418                006507931C   \n",
       "1  \\n13619 BRETT JACKSON RD.\\nFORT WORTH, TX. 76179  006179570C   \n",
       "2  \\n4501 W CEMETERY RD\\nCANYON, TX. 79015           006502097C   \n",
       "\n",
       "                                                                             url  \n",
       "0  https://www.tdlr.texas.gov/tools_search/mccs_display.asp?mcrnumber=006507931C  \n",
       "1  https://www.tdlr.texas.gov/tools_search/mccs_display.asp?mcrnumber=006179570C  \n",
       "2  https://www.tdlr.texas.gov/tools_search/mccs_display.asp?mcrnumber=006502097C  "
      ]
     },
     "execution_count": 65,
     "metadata": {},
     "output_type": "execute_result"
    }
   ],
   "source": [
    "driver = webdriver.Chrome()\n",
    "new_df = df.apply(scrape_tow_trucks, axis=1).join(df)\n",
    "new_df.head()"
   ]
  },
  {
   "cell_type": "code",
   "execution_count": null,
   "metadata": {},
   "outputs": [],
   "source": []
  },
  {
   "cell_type": "code",
   "execution_count": null,
   "metadata": {},
   "outputs": [],
   "source": []
  },
  {
   "cell_type": "markdown",
   "metadata": {},
   "source": [
    "### Save your dataframe as a CSV named `tow-trucks-extended.csv`"
   ]
  },
  {
   "cell_type": "code",
   "execution_count": 66,
   "metadata": {},
   "outputs": [],
   "source": [
    "new_df.to_csv(\"tow-trucks-extended.csv\", index=False)"
   ]
  },
  {
   "cell_type": "markdown",
   "metadata": {},
   "source": [
    "### Re-open your dataframe to confirm you didn't save any extra weird columns"
   ]
  },
  {
   "cell_type": "code",
   "execution_count": 69,
   "metadata": {},
   "outputs": [
    {
     "data": {
      "text/html": [
       "<div>\n",
       "<style scoped>\n",
       "    .dataframe tbody tr th:only-of-type {\n",
       "        vertical-align: middle;\n",
       "    }\n",
       "\n",
       "    .dataframe tbody tr th {\n",
       "        vertical-align: top;\n",
       "    }\n",
       "\n",
       "    .dataframe thead th {\n",
       "        text-align: right;\n",
       "    }\n",
       "</style>\n",
       "<table border=\"1\" class=\"dataframe\">\n",
       "  <thead>\n",
       "    <tr style=\"text-align: right;\">\n",
       "      <th></th>\n",
       "      <th>name</th>\n",
       "      <th>operator</th>\n",
       "      <th>phone</th>\n",
       "      <th>status</th>\n",
       "      <th>address</th>\n",
       "      <th>TDLR Number</th>\n",
       "      <th>url</th>\n",
       "    </tr>\n",
       "  </thead>\n",
       "  <tbody>\n",
       "    <tr>\n",
       "      <th>0</th>\n",
       "      <td>AUGUSTUS E SMITH</td>\n",
       "      <td>AUGUSTUS EUGENE SMITH / OWNER</td>\n",
       "      <td>9032276464</td>\n",
       "      <td>Active</td>\n",
       "      <td>\\n103 N MAIN ST\\nBONHAM, TX. 75418</td>\n",
       "      <td>006507931C</td>\n",
       "      <td>https://www.tdlr.texas.gov/tools_search/mccs_display.asp?mcrnumber=006507931C</td>\n",
       "    </tr>\n",
       "    <tr>\n",
       "      <th>1</th>\n",
       "      <td>B.D. SMITH TOWING</td>\n",
       "      <td>BRANDT SMITH / OWNER</td>\n",
       "      <td>8173330706</td>\n",
       "      <td>Expired</td>\n",
       "      <td>\\n13619 BRETT JACKSON RD.\\nFORT WORTH, TX. 76179</td>\n",
       "      <td>006179570C</td>\n",
       "      <td>https://www.tdlr.texas.gov/tools_search/mccs_display.asp?mcrnumber=006179570C</td>\n",
       "    </tr>\n",
       "    <tr>\n",
       "      <th>2</th>\n",
       "      <td>BARRY MICHAEL SMITH</td>\n",
       "      <td>BARRY MICHAEL SMITH / OWNER</td>\n",
       "      <td>8066544404</td>\n",
       "      <td>Active</td>\n",
       "      <td>\\n4501 W CEMETERY RD\\nCANYON, TX. 79015</td>\n",
       "      <td>006502097C</td>\n",
       "      <td>https://www.tdlr.texas.gov/tools_search/mccs_display.asp?mcrnumber=006502097C</td>\n",
       "    </tr>\n",
       "  </tbody>\n",
       "</table>\n",
       "</div>"
      ],
      "text/plain": [
       "                  name                       operator       phone   status  \\\n",
       "0  AUGUSTUS E SMITH     AUGUSTUS EUGENE SMITH / OWNER  9032276464  Active    \n",
       "1  B.D. SMITH TOWING    BRANDT SMITH / OWNER           8173330706  Expired   \n",
       "2  BARRY MICHAEL SMITH  BARRY MICHAEL SMITH / OWNER    8066544404  Active    \n",
       "\n",
       "                                            address TDLR Number  \\\n",
       "0  \\n103 N MAIN ST\\nBONHAM, TX. 75418                006507931C   \n",
       "1  \\n13619 BRETT JACKSON RD.\\nFORT WORTH, TX. 76179  006179570C   \n",
       "2  \\n4501 W CEMETERY RD\\nCANYON, TX. 79015           006502097C   \n",
       "\n",
       "                                                                             url  \n",
       "0  https://www.tdlr.texas.gov/tools_search/mccs_display.asp?mcrnumber=006507931C  \n",
       "1  https://www.tdlr.texas.gov/tools_search/mccs_display.asp?mcrnumber=006179570C  \n",
       "2  https://www.tdlr.texas.gov/tools_search/mccs_display.asp?mcrnumber=006502097C  "
      ]
     },
     "execution_count": 69,
     "metadata": {},
     "output_type": "execute_result"
    }
   ],
   "source": [
    "df = pd.read_csv(\"tow-trucks-extended.csv\")\n",
    "df.head()"
   ]
  },
  {
   "cell_type": "markdown",
   "metadata": {},
   "source": [
    "## Process the entire `tow-trucks.csv` file\n",
    "\n",
    "We just did it on a short subset so far. Now try it on all of the tow trucks. **Save as the same filename as before**"
   ]
  },
  {
   "cell_type": "code",
   "execution_count": 70,
   "metadata": {},
   "outputs": [
    {
     "data": {
      "text/html": [
       "<div>\n",
       "<style scoped>\n",
       "    .dataframe tbody tr th:only-of-type {\n",
       "        vertical-align: middle;\n",
       "    }\n",
       "\n",
       "    .dataframe tbody tr th {\n",
       "        vertical-align: top;\n",
       "    }\n",
       "\n",
       "    .dataframe thead th {\n",
       "        text-align: right;\n",
       "    }\n",
       "</style>\n",
       "<table border=\"1\" class=\"dataframe\">\n",
       "  <thead>\n",
       "    <tr style=\"text-align: right;\">\n",
       "      <th></th>\n",
       "      <th>TDLR Number</th>\n",
       "    </tr>\n",
       "  </thead>\n",
       "  <tbody>\n",
       "    <tr>\n",
       "      <th>0</th>\n",
       "      <td>006507931C</td>\n",
       "    </tr>\n",
       "    <tr>\n",
       "      <th>1</th>\n",
       "      <td>006179570C</td>\n",
       "    </tr>\n",
       "    <tr>\n",
       "      <th>2</th>\n",
       "      <td>006502097C</td>\n",
       "    </tr>\n",
       "    <tr>\n",
       "      <th>3</th>\n",
       "      <td>006494912C</td>\n",
       "    </tr>\n",
       "    <tr>\n",
       "      <th>4</th>\n",
       "      <td>0649468VSF</td>\n",
       "    </tr>\n",
       "  </tbody>\n",
       "</table>\n",
       "</div>"
      ],
      "text/plain": [
       "  TDLR Number\n",
       "0  006507931C\n",
       "1  006179570C\n",
       "2  006502097C\n",
       "3  006494912C\n",
       "4  0649468VSF"
      ]
     },
     "execution_count": 70,
     "metadata": {},
     "output_type": "execute_result"
    }
   ],
   "source": [
    "df = pd.read_csv(\"tow-trucks.csv\")\n",
    "df.head()"
   ]
  },
  {
   "cell_type": "code",
   "execution_count": 71,
   "metadata": {},
   "outputs": [],
   "source": [
    "def full_url(tdlr_string):\n",
    "    return str('https://www.tdlr.texas.gov/tools_search/mccs_display.asp?mcrnumber=' + tdlr_string)"
   ]
  },
  {
   "cell_type": "code",
   "execution_count": 72,
   "metadata": {},
   "outputs": [],
   "source": [
    "df['url'] = df['TDLR Number'].apply(full_url)"
   ]
  },
  {
   "cell_type": "code",
   "execution_count": 73,
   "metadata": {},
   "outputs": [
    {
     "data": {
      "text/html": [
       "<div>\n",
       "<style scoped>\n",
       "    .dataframe tbody tr th:only-of-type {\n",
       "        vertical-align: middle;\n",
       "    }\n",
       "\n",
       "    .dataframe tbody tr th {\n",
       "        vertical-align: top;\n",
       "    }\n",
       "\n",
       "    .dataframe thead th {\n",
       "        text-align: right;\n",
       "    }\n",
       "</style>\n",
       "<table border=\"1\" class=\"dataframe\">\n",
       "  <thead>\n",
       "    <tr style=\"text-align: right;\">\n",
       "      <th></th>\n",
       "      <th>TDLR Number</th>\n",
       "      <th>url</th>\n",
       "    </tr>\n",
       "  </thead>\n",
       "  <tbody>\n",
       "    <tr>\n",
       "      <th>0</th>\n",
       "      <td>006507931C</td>\n",
       "      <td>https://www.tdlr.texas.gov/tools_search/mccs_display.asp?mcrnumber=006507931C</td>\n",
       "    </tr>\n",
       "    <tr>\n",
       "      <th>1</th>\n",
       "      <td>006179570C</td>\n",
       "      <td>https://www.tdlr.texas.gov/tools_search/mccs_display.asp?mcrnumber=006179570C</td>\n",
       "    </tr>\n",
       "    <tr>\n",
       "      <th>2</th>\n",
       "      <td>006502097C</td>\n",
       "      <td>https://www.tdlr.texas.gov/tools_search/mccs_display.asp?mcrnumber=006502097C</td>\n",
       "    </tr>\n",
       "    <tr>\n",
       "      <th>3</th>\n",
       "      <td>006494912C</td>\n",
       "      <td>https://www.tdlr.texas.gov/tools_search/mccs_display.asp?mcrnumber=006494912C</td>\n",
       "    </tr>\n",
       "    <tr>\n",
       "      <th>4</th>\n",
       "      <td>0649468VSF</td>\n",
       "      <td>https://www.tdlr.texas.gov/tools_search/mccs_display.asp?mcrnumber=0649468VSF</td>\n",
       "    </tr>\n",
       "  </tbody>\n",
       "</table>\n",
       "</div>"
      ],
      "text/plain": [
       "  TDLR Number  \\\n",
       "0  006507931C   \n",
       "1  006179570C   \n",
       "2  006502097C   \n",
       "3  006494912C   \n",
       "4  0649468VSF   \n",
       "\n",
       "                                                                             url  \n",
       "0  https://www.tdlr.texas.gov/tools_search/mccs_display.asp?mcrnumber=006507931C  \n",
       "1  https://www.tdlr.texas.gov/tools_search/mccs_display.asp?mcrnumber=006179570C  \n",
       "2  https://www.tdlr.texas.gov/tools_search/mccs_display.asp?mcrnumber=006502097C  \n",
       "3  https://www.tdlr.texas.gov/tools_search/mccs_display.asp?mcrnumber=006494912C  \n",
       "4  https://www.tdlr.texas.gov/tools_search/mccs_display.asp?mcrnumber=0649468VSF  "
      ]
     },
     "execution_count": 73,
     "metadata": {},
     "output_type": "execute_result"
    }
   ],
   "source": [
    "df.head()"
   ]
  },
  {
   "cell_type": "code",
   "execution_count": 74,
   "metadata": {},
   "outputs": [],
   "source": [
    "def scrape_tow_trucks(row):\n",
    "    driver.get(row['url'])\n",
    "\n",
    "    name = driver.find_elements_by_tag_name('td')[5].text[8:]\n",
    "    operator = driver.find_elements_by_tag_name('td')[7].text[17:]\n",
    "    phone = driver.find_elements_by_tag_name('td')[9].text[9:]\n",
    "    status = driver.find_elements_by_tag_name('td')[12].text[9:]\n",
    "    address = driver.find_elements_by_tag_name('td')[14].text.split(\":\")[-1]\n",
    "    \n",
    "    return pd.Series({\n",
    "    'name': name,\n",
    "    'operator': operator,\n",
    "    'phone': phone,\n",
    "    'status': status,\n",
    "    'address' : address\n",
    "    })"
   ]
  },
  {
   "cell_type": "code",
   "execution_count": 75,
   "metadata": {},
   "outputs": [
    {
     "data": {
      "text/html": [
       "<div>\n",
       "<style scoped>\n",
       "    .dataframe tbody tr th:only-of-type {\n",
       "        vertical-align: middle;\n",
       "    }\n",
       "\n",
       "    .dataframe tbody tr th {\n",
       "        vertical-align: top;\n",
       "    }\n",
       "\n",
       "    .dataframe thead th {\n",
       "        text-align: right;\n",
       "    }\n",
       "</style>\n",
       "<table border=\"1\" class=\"dataframe\">\n",
       "  <thead>\n",
       "    <tr style=\"text-align: right;\">\n",
       "      <th></th>\n",
       "      <th>name</th>\n",
       "      <th>operator</th>\n",
       "      <th>phone</th>\n",
       "      <th>status</th>\n",
       "      <th>address</th>\n",
       "      <th>TDLR Number</th>\n",
       "      <th>url</th>\n",
       "    </tr>\n",
       "  </thead>\n",
       "  <tbody>\n",
       "    <tr>\n",
       "      <th>0</th>\n",
       "      <td>AUGUSTUS E SMITH</td>\n",
       "      <td>AUGUSTUS EUGENE SMITH / OWNER</td>\n",
       "      <td>9032276464</td>\n",
       "      <td>Active</td>\n",
       "      <td>\\n103 N MAIN ST\\nBONHAM, TX. 75418</td>\n",
       "      <td>006507931C</td>\n",
       "      <td>https://www.tdlr.texas.gov/tools_search/mccs_display.asp?mcrnumber=006507931C</td>\n",
       "    </tr>\n",
       "    <tr>\n",
       "      <th>1</th>\n",
       "      <td>B.D. SMITH TOWING</td>\n",
       "      <td>BRANDT SMITH / OWNER</td>\n",
       "      <td>8173330706</td>\n",
       "      <td>Expired</td>\n",
       "      <td>\\n13619 BRETT JACKSON RD.\\nFORT WORTH, TX. 76179</td>\n",
       "      <td>006179570C</td>\n",
       "      <td>https://www.tdlr.texas.gov/tools_search/mccs_display.asp?mcrnumber=006179570C</td>\n",
       "    </tr>\n",
       "    <tr>\n",
       "      <th>2</th>\n",
       "      <td>BARRY MICHAEL SMITH</td>\n",
       "      <td>BARRY MICHAEL SMITH / OWNER</td>\n",
       "      <td>8066544404</td>\n",
       "      <td>Active</td>\n",
       "      <td>\\n4501 W CEMETERY RD\\nCANYON, TX. 79015</td>\n",
       "      <td>006502097C</td>\n",
       "      <td>https://www.tdlr.texas.gov/tools_search/mccs_display.asp?mcrnumber=006502097C</td>\n",
       "    </tr>\n",
       "    <tr>\n",
       "      <th>3</th>\n",
       "      <td>HEATH SMITH</td>\n",
       "      <td>HEATH A SMITH / OWNER</td>\n",
       "      <td>940-552-0687</td>\n",
       "      <td>Expired</td>\n",
       "      <td>\\n1529 WILBARGER ST\\nVERNON, TX. 76384</td>\n",
       "      <td>006494912C</td>\n",
       "      <td>https://www.tdlr.texas.gov/tools_search/mccs_display.asp?mcrnumber=006494912C</td>\n",
       "    </tr>\n",
       "    <tr>\n",
       "      <th>4</th>\n",
       "      <td>HEATH SMITH</td>\n",
       "      <td>HEATH A SMITH / OWNER</td>\n",
       "      <td>9405520687</td>\n",
       "      <td>Expired</td>\n",
       "      <td>\\n1529 WILBARGER ST\\nVERNON, TX. 76384</td>\n",
       "      <td>0649468VSF</td>\n",
       "      <td>https://www.tdlr.texas.gov/tools_search/mccs_display.asp?mcrnumber=0649468VSF</td>\n",
       "    </tr>\n",
       "  </tbody>\n",
       "</table>\n",
       "</div>"
      ],
      "text/plain": [
       "                  name                       operator         phone   status  \\\n",
       "0  AUGUSTUS E SMITH     AUGUSTUS EUGENE SMITH / OWNER  9032276464    Active    \n",
       "1  B.D. SMITH TOWING    BRANDT SMITH / OWNER           8173330706    Expired   \n",
       "2  BARRY MICHAEL SMITH  BARRY MICHAEL SMITH / OWNER    8066544404    Active    \n",
       "3  HEATH SMITH          HEATH A SMITH / OWNER          940-552-0687  Expired   \n",
       "4  HEATH SMITH          HEATH A SMITH / OWNER          9405520687    Expired   \n",
       "\n",
       "                                            address TDLR Number  \\\n",
       "0  \\n103 N MAIN ST\\nBONHAM, TX. 75418                006507931C   \n",
       "1  \\n13619 BRETT JACKSON RD.\\nFORT WORTH, TX. 76179  006179570C   \n",
       "2  \\n4501 W CEMETERY RD\\nCANYON, TX. 79015           006502097C   \n",
       "3  \\n1529 WILBARGER ST\\nVERNON, TX. 76384            006494912C   \n",
       "4  \\n1529 WILBARGER ST\\nVERNON, TX. 76384            0649468VSF   \n",
       "\n",
       "                                                                             url  \n",
       "0  https://www.tdlr.texas.gov/tools_search/mccs_display.asp?mcrnumber=006507931C  \n",
       "1  https://www.tdlr.texas.gov/tools_search/mccs_display.asp?mcrnumber=006179570C  \n",
       "2  https://www.tdlr.texas.gov/tools_search/mccs_display.asp?mcrnumber=006502097C  \n",
       "3  https://www.tdlr.texas.gov/tools_search/mccs_display.asp?mcrnumber=006494912C  \n",
       "4  https://www.tdlr.texas.gov/tools_search/mccs_display.asp?mcrnumber=0649468VSF  "
      ]
     },
     "execution_count": 75,
     "metadata": {},
     "output_type": "execute_result"
    }
   ],
   "source": [
    "driver = webdriver.Chrome()\n",
    "new_df = df.apply(scrape_tow_trucks, axis=1).join(df)\n",
    "new_df.head()"
   ]
  },
  {
   "cell_type": "code",
   "execution_count": 76,
   "metadata": {},
   "outputs": [],
   "source": [
    "new_df.to_csv(\"tow-trucks-extended.csv\", index=False)"
   ]
  },
  {
   "cell_type": "markdown",
   "metadata": {},
   "source": [
    "I can see that something went very, very wrong when I read in the full dataset—presumably there are additonal or fewer 'td's in these entries and I should have used something else, maybe xpath, to navigate to that info. But, I'm not sure spending hours fixing this code is the best use of my time, so I'm going to press on with the rest of the homework and only if I have extra time this weekend will I circle back to this."
   ]
  },
  {
   "cell_type": "code",
   "execution_count": 78,
   "metadata": {},
   "outputs": [
    {
     "data": {
      "text/html": [
       "<div>\n",
       "<style scoped>\n",
       "    .dataframe tbody tr th:only-of-type {\n",
       "        vertical-align: middle;\n",
       "    }\n",
       "\n",
       "    .dataframe tbody tr th {\n",
       "        vertical-align: top;\n",
       "    }\n",
       "\n",
       "    .dataframe thead th {\n",
       "        text-align: right;\n",
       "    }\n",
       "</style>\n",
       "<table border=\"1\" class=\"dataframe\">\n",
       "  <thead>\n",
       "    <tr style=\"text-align: right;\">\n",
       "      <th></th>\n",
       "      <th>name</th>\n",
       "      <th>operator</th>\n",
       "      <th>phone</th>\n",
       "      <th>status</th>\n",
       "      <th>address</th>\n",
       "      <th>TDLR Number</th>\n",
       "      <th>url</th>\n",
       "    </tr>\n",
       "  </thead>\n",
       "  <tbody>\n",
       "    <tr>\n",
       "      <th>0</th>\n",
       "      <td>AUGUSTUS E SMITH</td>\n",
       "      <td>AUGUSTUS EUGENE SMITH / OWNER</td>\n",
       "      <td>9032276464</td>\n",
       "      <td>Active</td>\n",
       "      <td>\\n103 N MAIN ST\\nBONHAM, TX. 75418</td>\n",
       "      <td>006507931C</td>\n",
       "      <td>https://www.tdlr.texas.gov/tools_search/mccs_display.asp?mcrnumber=006507931C</td>\n",
       "    </tr>\n",
       "    <tr>\n",
       "      <th>1</th>\n",
       "      <td>B.D. SMITH TOWING</td>\n",
       "      <td>BRANDT SMITH / OWNER</td>\n",
       "      <td>8173330706</td>\n",
       "      <td>Expired</td>\n",
       "      <td>\\n13619 BRETT JACKSON RD.\\nFORT WORTH, TX. 76179</td>\n",
       "      <td>006179570C</td>\n",
       "      <td>https://www.tdlr.texas.gov/tools_search/mccs_display.asp?mcrnumber=006179570C</td>\n",
       "    </tr>\n",
       "    <tr>\n",
       "      <th>2</th>\n",
       "      <td>BARRY MICHAEL SMITH</td>\n",
       "      <td>BARRY MICHAEL SMITH / OWNER</td>\n",
       "      <td>8066544404</td>\n",
       "      <td>Active</td>\n",
       "      <td>\\n4501 W CEMETERY RD\\nCANYON, TX. 79015</td>\n",
       "      <td>006502097C</td>\n",
       "      <td>https://www.tdlr.texas.gov/tools_search/mccs_display.asp?mcrnumber=006502097C</td>\n",
       "    </tr>\n",
       "    <tr>\n",
       "      <th>3</th>\n",
       "      <td>HEATH SMITH</td>\n",
       "      <td>HEATH A SMITH / OWNER</td>\n",
       "      <td>940-552-0687</td>\n",
       "      <td>Expired</td>\n",
       "      <td>\\n1529 WILBARGER ST\\nVERNON, TX. 76384</td>\n",
       "      <td>006494912C</td>\n",
       "      <td>https://www.tdlr.texas.gov/tools_search/mccs_display.asp?mcrnumber=006494912C</td>\n",
       "    </tr>\n",
       "    <tr>\n",
       "      <th>4</th>\n",
       "      <td>HEATH SMITH</td>\n",
       "      <td>HEATH A SMITH / OWNER</td>\n",
       "      <td>9405520687</td>\n",
       "      <td>Expired</td>\n",
       "      <td>\\n1529 WILBARGER ST\\nVERNON, TX. 76384</td>\n",
       "      <td>0649468VSF</td>\n",
       "      <td>https://www.tdlr.texas.gov/tools_search/mccs_display.asp?mcrnumber=0649468VSF</td>\n",
       "    </tr>\n",
       "    <tr>\n",
       "      <th>5</th>\n",
       "      <td>HYSMITH AUTOMOTIVE</td>\n",
       "      <td>WILLIAM THOMAS HYSMITH / PRESIDENT</td>\n",
       "      <td>icer:   ASHLEY ERIN HYSMITH / TREASURER</td>\n",
       "      <td>NaN</td>\n",
       "      <td>Active</td>\n",
       "      <td>006448786C</td>\n",
       "      <td>https://www.tdlr.texas.gov/tools_search/mccs_display.asp?mcrnumber=006448786C</td>\n",
       "    </tr>\n",
       "    <tr>\n",
       "      <th>6</th>\n",
       "      <td>HYSMITH AUTOMOTIVE &amp; TRUCK REPAIR INC</td>\n",
       "      <td>HYSMITH ERIN ASHLEY / TREASURER</td>\n",
       "      <td>icer:   WILLIAM THOMAS HYSMITH / PRESIDENT</td>\n",
       "      <td>NaN</td>\n",
       "      <td>Suspended</td>\n",
       "      <td>0648444VSF</td>\n",
       "      <td>https://www.tdlr.texas.gov/tools_search/mccs_display.asp?mcrnumber=0648444VSF</td>\n",
       "    </tr>\n",
       "    <tr>\n",
       "      <th>7</th>\n",
       "      <td>HYSMITH AUTOMOTIVE &amp; TRUCK REPAIR INC</td>\n",
       "      <td>WILLIAM THOMAS HYSMITH / PRESIDENT</td>\n",
       "      <td>icer:   ASHLEY ERIN HYSMITH / TREASURER</td>\n",
       "      <td>NaN</td>\n",
       "      <td>Active</td>\n",
       "      <td>0651667VSF</td>\n",
       "      <td>https://www.tdlr.texas.gov/tools_search/mccs_display.asp?mcrnumber=0651667VSF</td>\n",
       "    </tr>\n",
       "    <tr>\n",
       "      <th>8</th>\n",
       "      <td>JEFF &amp; WENDY SMITH</td>\n",
       "      <td>JEFF SMITH / PARTNER</td>\n",
       "      <td>icer:   WENDY SMITH / PARTNER</td>\n",
       "      <td>NaN</td>\n",
       "      <td>Suspended</td>\n",
       "      <td>006017767C</td>\n",
       "      <td>https://www.tdlr.texas.gov/tools_search/mccs_display.asp?mcrnumber=006017767C</td>\n",
       "    </tr>\n",
       "    <tr>\n",
       "      <th>9</th>\n",
       "      <td>JEFF SMITH</td>\n",
       "      <td>JEFFREY JOHN SMITH / OWNER</td>\n",
       "      <td>8324354670</td>\n",
       "      <td>Active</td>\n",
       "      <td>\\n4338 HARVEY RD\\nCROSBY, TX. 77532</td>\n",
       "      <td>006495492C</td>\n",
       "      <td>https://www.tdlr.texas.gov/tools_search/mccs_display.asp?mcrnumber=006495492C</td>\n",
       "    </tr>\n",
       "    <tr>\n",
       "      <th>10</th>\n",
       "      <td>LUTHER SMITH</td>\n",
       "      <td>LUTHER EUGENE SMITH / OWNER</td>\n",
       "      <td>281-838-9435</td>\n",
       "      <td>Insurance and/or fees not applied</td>\n",
       "      <td>\\n20001 FM 2100 RD\\nCROSBY, TX. 77532</td>\n",
       "      <td>006518521C</td>\n",
       "      <td>https://www.tdlr.texas.gov/tools_search/mccs_display.asp?mcrnumber=006518521C</td>\n",
       "    </tr>\n",
       "    <tr>\n",
       "      <th>11</th>\n",
       "      <td>MAURICE SMITH</td>\n",
       "      <td>MAURICE SMITH / OWNER</td>\n",
       "      <td>7134544462</td>\n",
       "      <td>Active</td>\n",
       "      <td>\\n5505 SAVANNAH WOODS LN\\nROSHARON, TX. 77583</td>\n",
       "      <td>006521662C</td>\n",
       "      <td>https://www.tdlr.texas.gov/tools_search/mccs_display.asp?mcrnumber=006521662C</td>\n",
       "    </tr>\n",
       "    <tr>\n",
       "      <th>12</th>\n",
       "      <td>METRO LOCKSMITHS INC</td>\n",
       "      <td>ESTHER ENRIQUEZ / MANAGER</td>\n",
       "      <td>icer:   SOCORRO M ARREOLA / OWNER</td>\n",
       "      <td>NaN</td>\n",
       "      <td>Suspended</td>\n",
       "      <td>006482451C</td>\n",
       "      <td>https://www.tdlr.texas.gov/tools_search/mccs_display.asp?mcrnumber=006482451C</td>\n",
       "    </tr>\n",
       "    <tr>\n",
       "      <th>13</th>\n",
       "      <td>RICKY SMITH</td>\n",
       "      <td>RICKY SMITH / OWNER</td>\n",
       "      <td>9364997917</td>\n",
       "      <td>Suspended</td>\n",
       "      <td>\\n115 CARTWRIGHT\\nCONROE, TX. 77301</td>\n",
       "      <td>0646264VSF</td>\n",
       "      <td>https://www.tdlr.texas.gov/tools_search/mccs_display.asp?mcrnumber=0646264VSF</td>\n",
       "    </tr>\n",
       "    <tr>\n",
       "      <th>14</th>\n",
       "      <td>RICKY SMITH</td>\n",
       "      <td>RICKY SMITH / OWNER</td>\n",
       "      <td>9364997917</td>\n",
       "      <td>Suspended</td>\n",
       "      <td>\\n11426 FOSTORIA RD\\nCLEVELAND, TX. 77328</td>\n",
       "      <td>0650690VSF</td>\n",
       "      <td>https://www.tdlr.texas.gov/tools_search/mccs_display.asp?mcrnumber=0650690VSF</td>\n",
       "    </tr>\n",
       "    <tr>\n",
       "      <th>15</th>\n",
       "      <td>SAMMY L SMITH</td>\n",
       "      <td>SAMMY LEE SMITH / OWNER</td>\n",
       "      <td>3252159496</td>\n",
       "      <td>Expired</td>\n",
       "      <td>\\n355 N 16TH ST\\nJUNCTION, TX. 76849</td>\n",
       "      <td>006505010C</td>\n",
       "      <td>https://www.tdlr.texas.gov/tools_search/mccs_display.asp?mcrnumber=006505010C</td>\n",
       "    </tr>\n",
       "    <tr>\n",
       "      <th>16</th>\n",
       "      <td>SMITH BRO. WRECKER SERVICE</td>\n",
       "      <td>JEFF SMITH / PARTNER</td>\n",
       "      <td>icer:   GLEN SMITH / PARTNER</td>\n",
       "      <td>NaN</td>\n",
       "      <td>Expired</td>\n",
       "      <td>0000210VSF</td>\n",
       "      <td>https://www.tdlr.texas.gov/tools_search/mccs_display.asp?mcrnumber=0000210VSF</td>\n",
       "    </tr>\n",
       "    <tr>\n",
       "      <th>17</th>\n",
       "      <td>SMITH BROS. WRECKER SERVICE</td>\n",
       "      <td>JEFF SMITH / PARTNER</td>\n",
       "      <td>icer:   GLEN SMITH / PARTNER</td>\n",
       "      <td>NaN</td>\n",
       "      <td>Suspended</td>\n",
       "      <td>005029369C</td>\n",
       "      <td>https://www.tdlr.texas.gov/tools_search/mccs_display.asp?mcrnumber=005029369C</td>\n",
       "    </tr>\n",
       "    <tr>\n",
       "      <th>18</th>\n",
       "      <td>SMITH TOWING &amp; RECOVERY, LLC</td>\n",
       "      <td>RICKY L SMITH / OWNER</td>\n",
       "      <td>9362693915</td>\n",
       "      <td>Active</td>\n",
       "      <td>\\n12741 HWY 84E\\nJOAQUIN, TX. 75954</td>\n",
       "      <td>006410509C</td>\n",
       "      <td>https://www.tdlr.texas.gov/tools_search/mccs_display.asp?mcrnumber=006410509C</td>\n",
       "    </tr>\n",
       "    <tr>\n",
       "      <th>19</th>\n",
       "      <td>SMITH TOWING &amp; RECOVERY,LLC</td>\n",
       "      <td>RICKY L SMITH / CEO</td>\n",
       "      <td>9362693915</td>\n",
       "      <td>Active</td>\n",
       "      <td>\\n12741 HWY 84 E\\nJOAQUIN, TX. 75954</td>\n",
       "      <td>0643482VSF</td>\n",
       "      <td>https://www.tdlr.texas.gov/tools_search/mccs_display.asp?mcrnumber=0643482VSF</td>\n",
       "    </tr>\n",
       "  </tbody>\n",
       "</table>\n",
       "</div>"
      ],
      "text/plain": [
       "                                     name                            operator  \\\n",
       "0   AUGUSTUS E SMITH                       AUGUSTUS EUGENE SMITH / OWNER        \n",
       "1   B.D. SMITH TOWING                      BRANDT SMITH / OWNER                 \n",
       "2   BARRY MICHAEL SMITH                    BARRY MICHAEL SMITH / OWNER          \n",
       "3   HEATH SMITH                            HEATH A SMITH / OWNER                \n",
       "4   HEATH SMITH                            HEATH A SMITH / OWNER                \n",
       "5   HYSMITH AUTOMOTIVE                     WILLIAM THOMAS HYSMITH / PRESIDENT   \n",
       "6   HYSMITH AUTOMOTIVE & TRUCK REPAIR INC  HYSMITH ERIN ASHLEY / TREASURER      \n",
       "7   HYSMITH AUTOMOTIVE & TRUCK REPAIR INC  WILLIAM THOMAS HYSMITH / PRESIDENT   \n",
       "8   JEFF & WENDY SMITH                     JEFF SMITH / PARTNER                 \n",
       "9   JEFF SMITH                             JEFFREY JOHN SMITH / OWNER           \n",
       "10  LUTHER SMITH                           LUTHER EUGENE SMITH / OWNER          \n",
       "11  MAURICE SMITH                          MAURICE SMITH / OWNER                \n",
       "12  METRO LOCKSMITHS INC                   ESTHER ENRIQUEZ / MANAGER            \n",
       "13  RICKY SMITH                            RICKY SMITH / OWNER                  \n",
       "14  RICKY SMITH                            RICKY SMITH / OWNER                  \n",
       "15  SAMMY L SMITH                          SAMMY LEE SMITH / OWNER              \n",
       "16  SMITH BRO. WRECKER SERVICE             JEFF SMITH / PARTNER                 \n",
       "17  SMITH BROS. WRECKER SERVICE            JEFF SMITH / PARTNER                 \n",
       "18  SMITH TOWING & RECOVERY, LLC           RICKY L SMITH / OWNER                \n",
       "19  SMITH TOWING & RECOVERY,LLC            RICKY L SMITH / CEO                  \n",
       "\n",
       "                                         phone  \\\n",
       "0   9032276464                                   \n",
       "1   8173330706                                   \n",
       "2   8066544404                                   \n",
       "3   940-552-0687                                 \n",
       "4   9405520687                                   \n",
       "5   icer:   ASHLEY ERIN HYSMITH / TREASURER      \n",
       "6   icer:   WILLIAM THOMAS HYSMITH / PRESIDENT   \n",
       "7   icer:   ASHLEY ERIN HYSMITH / TREASURER      \n",
       "8   icer:   WENDY SMITH / PARTNER                \n",
       "9   8324354670                                   \n",
       "10  281-838-9435                                 \n",
       "11  7134544462                                   \n",
       "12  icer:   SOCORRO M ARREOLA / OWNER            \n",
       "13  9364997917                                   \n",
       "14  9364997917                                   \n",
       "15  3252159496                                   \n",
       "16  icer:   GLEN SMITH / PARTNER                 \n",
       "17  icer:   GLEN SMITH / PARTNER                 \n",
       "18  9362693915                                   \n",
       "19  9362693915                                   \n",
       "\n",
       "                               status  \\\n",
       "0   Active                              \n",
       "1   Expired                             \n",
       "2   Active                              \n",
       "3   Expired                             \n",
       "4   Expired                             \n",
       "5   NaN                                 \n",
       "6   NaN                                 \n",
       "7   NaN                                 \n",
       "8   NaN                                 \n",
       "9   Active                              \n",
       "10  Insurance and/or fees not applied   \n",
       "11  Active                              \n",
       "12  NaN                                 \n",
       "13  Suspended                           \n",
       "14  Suspended                           \n",
       "15  Expired                             \n",
       "16  NaN                                 \n",
       "17  NaN                                 \n",
       "18  Active                              \n",
       "19  Active                              \n",
       "\n",
       "                                             address TDLR Number  \\\n",
       "0   \\n103 N MAIN ST\\nBONHAM, TX. 75418                006507931C   \n",
       "1   \\n13619 BRETT JACKSON RD.\\nFORT WORTH, TX. 76179  006179570C   \n",
       "2   \\n4501 W CEMETERY RD\\nCANYON, TX. 79015           006502097C   \n",
       "3   \\n1529 WILBARGER ST\\nVERNON, TX. 76384            006494912C   \n",
       "4   \\n1529 WILBARGER ST\\nVERNON, TX. 76384            0649468VSF   \n",
       "5     Active                                          006448786C   \n",
       "6     Suspended                                       0648444VSF   \n",
       "7     Active                                          0651667VSF   \n",
       "8     Suspended                                       006017767C   \n",
       "9   \\n4338 HARVEY RD\\nCROSBY, TX. 77532               006495492C   \n",
       "10  \\n20001 FM 2100 RD\\nCROSBY, TX. 77532             006518521C   \n",
       "11  \\n5505 SAVANNAH WOODS LN\\nROSHARON, TX. 77583     006521662C   \n",
       "12    Suspended                                       006482451C   \n",
       "13  \\n115 CARTWRIGHT\\nCONROE, TX. 77301               0646264VSF   \n",
       "14  \\n11426 FOSTORIA RD\\nCLEVELAND, TX. 77328         0650690VSF   \n",
       "15  \\n355 N 16TH ST\\nJUNCTION, TX. 76849              006505010C   \n",
       "16    Expired                                         0000210VSF   \n",
       "17    Suspended                                       005029369C   \n",
       "18  \\n12741 HWY 84E\\nJOAQUIN, TX. 75954               006410509C   \n",
       "19  \\n12741 HWY 84 E\\nJOAQUIN, TX. 75954              0643482VSF   \n",
       "\n",
       "                                                                              url  \n",
       "0   https://www.tdlr.texas.gov/tools_search/mccs_display.asp?mcrnumber=006507931C  \n",
       "1   https://www.tdlr.texas.gov/tools_search/mccs_display.asp?mcrnumber=006179570C  \n",
       "2   https://www.tdlr.texas.gov/tools_search/mccs_display.asp?mcrnumber=006502097C  \n",
       "3   https://www.tdlr.texas.gov/tools_search/mccs_display.asp?mcrnumber=006494912C  \n",
       "4   https://www.tdlr.texas.gov/tools_search/mccs_display.asp?mcrnumber=0649468VSF  \n",
       "5   https://www.tdlr.texas.gov/tools_search/mccs_display.asp?mcrnumber=006448786C  \n",
       "6   https://www.tdlr.texas.gov/tools_search/mccs_display.asp?mcrnumber=0648444VSF  \n",
       "7   https://www.tdlr.texas.gov/tools_search/mccs_display.asp?mcrnumber=0651667VSF  \n",
       "8   https://www.tdlr.texas.gov/tools_search/mccs_display.asp?mcrnumber=006017767C  \n",
       "9   https://www.tdlr.texas.gov/tools_search/mccs_display.asp?mcrnumber=006495492C  \n",
       "10  https://www.tdlr.texas.gov/tools_search/mccs_display.asp?mcrnumber=006518521C  \n",
       "11  https://www.tdlr.texas.gov/tools_search/mccs_display.asp?mcrnumber=006521662C  \n",
       "12  https://www.tdlr.texas.gov/tools_search/mccs_display.asp?mcrnumber=006482451C  \n",
       "13  https://www.tdlr.texas.gov/tools_search/mccs_display.asp?mcrnumber=0646264VSF  \n",
       "14  https://www.tdlr.texas.gov/tools_search/mccs_display.asp?mcrnumber=0650690VSF  \n",
       "15  https://www.tdlr.texas.gov/tools_search/mccs_display.asp?mcrnumber=006505010C  \n",
       "16  https://www.tdlr.texas.gov/tools_search/mccs_display.asp?mcrnumber=0000210VSF  \n",
       "17  https://www.tdlr.texas.gov/tools_search/mccs_display.asp?mcrnumber=005029369C  \n",
       "18  https://www.tdlr.texas.gov/tools_search/mccs_display.asp?mcrnumber=006410509C  \n",
       "19  https://www.tdlr.texas.gov/tools_search/mccs_display.asp?mcrnumber=0643482VSF  "
      ]
     },
     "execution_count": 78,
     "metadata": {},
     "output_type": "execute_result"
    }
   ],
   "source": [
    "df = pd.read_csv(\"tow-trucks-extended.csv\")\n",
    "df"
   ]
  },
  {
   "cell_type": "code",
   "execution_count": null,
   "metadata": {},
   "outputs": [],
   "source": []
  }
 ],
 "metadata": {
  "kernelspec": {
   "display_name": "Python 3",
   "language": "python",
   "name": "python3"
  },
  "language_info": {
   "codemirror_mode": {
    "name": "ipython",
    "version": 3
   },
   "file_extension": ".py",
   "mimetype": "text/x-python",
   "name": "python",
   "nbconvert_exporter": "python",
   "pygments_lexer": "ipython3",
   "version": "3.6.5"
  }
 },
 "nbformat": 4,
 "nbformat_minor": 2
}
