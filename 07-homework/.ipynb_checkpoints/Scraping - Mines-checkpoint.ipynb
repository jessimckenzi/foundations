{
 "cells": [
  {
   "cell_type": "markdown",
   "metadata": {},
   "source": [
    "# Mine Safety\n",
    "\n",
    "We're interested in [US mine safety](https://arlweb.msha.gov/drs/drshome.htm), thank goodness we can search for these things."
   ]
  },
  {
   "cell_type": "markdown",
   "metadata": {},
   "source": [
    "## Setup: Import what you'll need to search and scrape and Selenium"
   ]
  },
  {
   "cell_type": "code",
   "execution_count": 1,
   "metadata": {},
   "outputs": [],
   "source": [
    "from selenium import webdriver\n",
    "from selenium.webdriver.common.keys import Keys\n",
    "from selenium.webdriver.support.ui import Select\n",
    "from selenium.webdriver.support.ui import WebDriverWait"
   ]
  },
  {
   "cell_type": "markdown",
   "metadata": {},
   "source": [
    "## Starting from `https://arlweb.msha.gov/drs/drshome.htm`, search for every operator with 'dirt' in their name, including abandoned mines.\n",
    "\n",
    "> - *Tip: If you can't make an element work using name, class or ID, try to use the XPath*"
   ]
  },
  {
   "cell_type": "code",
   "execution_count": 2,
   "metadata": {},
   "outputs": [],
   "source": [
    "driver = webdriver.Chrome()"
   ]
  },
  {
   "cell_type": "code",
   "execution_count": 3,
   "metadata": {},
   "outputs": [],
   "source": [
    "driver.get('https://arlweb.msha.gov/drs/drshome.htm')"
   ]
  },
  {
   "cell_type": "code",
   "execution_count": 4,
   "metadata": {},
   "outputs": [],
   "source": [
    "operator = driver.find_element_by_name('OperSearch')\n",
    "driver.execute_script(\"arguments[0].scrollIntoView(true)\", operator)"
   ]
  },
  {
   "cell_type": "code",
   "execution_count": 5,
   "metadata": {},
   "outputs": [],
   "source": [
    "operator.send_keys('dirt')"
   ]
  },
  {
   "cell_type": "code",
   "execution_count": 6,
   "metadata": {},
   "outputs": [],
   "source": [
    "button = driver.find_element_by_xpath('//*[@id=\"content\"]/form[1]/table/tbody/tr[7]/td[3]/input[1]')\n",
    "button.click()"
   ]
  },
  {
   "cell_type": "markdown",
   "metadata": {},
   "source": [
    "## Scrape the results page, saving it as `dirt-operators.csv`\n",
    "\n",
    "> - *Tip: Think about what each row in your dataset will be, and start by looping through that*\n",
    "> - *Tip: Printing is cool and good! Print everything! Move it into a dictionary later.*\n",
    "> - *Tip: If you don't want a row, think about what's in the row that makes it different. You can use an `if` statement or list slicing to skip the ones you aren't interested in.*\n",
    "> - *Tip: Make sure your dictionary and your loop variable have DIFFERENT NAMES*\n",
    "> - *Tip: After you've made your dictionary (and printed it, of course), you'll want to add it to your list of rows*\n",
    "> - *Tip: Be sure to import pandas to convert it to a dataframe*\n",
    "> - *Tip: Make sure you don't include the index when saving your dataframe*"
   ]
  },
  {
   "cell_type": "markdown",
   "metadata": {},
   "source": [
    "### Hopefully you know that each `tr` is supposed to be a row of your data. What is the index of the first row element that is actually a result?\n",
    "\n",
    "> - *Tip: `.text` will help you here.*\n",
    "> - *Tip: You aren't interesting in annotations or anything, just mines and where they are from*\n",
    "> - *Tip: Using `print(\"-----\")` will help you keep track of different rows*\n",
    "> - *Tip: If you have a list called `animals`, `animals[2:]` will skip the first two and start with the third. You can use this to skip ahead to the 'good' data if you want*"
   ]
  },
  {
   "cell_type": "code",
   "execution_count": 7,
   "metadata": {},
   "outputs": [],
   "source": [
    "results = driver.find_elements_by_tag_name('tr')"
   ]
  },
  {
   "cell_type": "code",
   "execution_count": 9,
   "metadata": {},
   "outputs": [
    {
     "name": "stdout",
     "output_type": "stream",
     "text": [
      "{'ids': '3503598', 'states': 'OR ', 'operators': 'Newberg Rock & Dirt  ', 'names': 'Newberg Rock & Dirt', 'types': 'Newberg Rock & Dirt', 'cm': 'Newberg Rock & Dirt', 'commodity': 'Newberg Rock & Dirt', 'more': 'Newberg Rock & Dirt'}\n",
      "{'ids': '1401575', 'states': 'KS ', 'operators': 'Bender Sand & Dirt  ', 'names': 'BENDER SAND & DIRT', 'types': 'BENDER SAND & DIRT', 'cm': 'BENDER SAND & DIRT', 'commodity': 'BENDER SAND & DIRT', 'more': 'BENDER SAND & DIRT'}\n",
      "{'ids': '5001797', 'states': 'AK ', 'operators': 'Dirt Company  ', 'names': 'Bush Pilot', 'types': 'Bush Pilot', 'cm': 'Bush Pilot', 'commodity': 'Bush Pilot', 'more': 'Bush Pilot'}\n",
      "{'ids': '2103723', 'states': 'MN ', 'operators': 'Dirt Doctor Inc  ', 'names': 'Rock Lake Plant', 'types': 'Rock Lake Plant', 'cm': 'Rock Lake Plant', 'commodity': 'Rock Lake Plant', 'more': 'Rock Lake Plant'}\n",
      "{'ids': '2103914', 'states': 'MN ', 'operators': 'Dirt Work Specialists LLC  ', 'names': 'Astec Plant', 'types': 'Astec Plant', 'cm': 'Astec Plant', 'commodity': 'Astec Plant', 'more': 'Astec Plant'}\n",
      "{'ids': '4104757', 'states': 'TX ', 'operators': 'Dirt Works  ', 'names': 'Portable #1', 'types': 'Portable #1', 'cm': 'Portable #1', 'commodity': 'Portable #1', 'more': 'Portable #1'}\n",
      "{'ids': '0801306', 'states': 'FL ', 'operators': 'Holley Dirt Company, Inc  ', 'names': 'River Road Pit', 'types': 'River Road Pit', 'cm': 'River Road Pit', 'commodity': 'River Road Pit', 'more': 'River Road Pit'}\n",
      "{'ids': '3901432', 'states': 'SD ', 'operators': 'Krueger Brothers Gravel & Dirt  ', 'names': 'PORTABLE SCREENER', 'types': 'PORTABLE SCREENER', 'cm': 'PORTABLE SCREENER', 'commodity': 'PORTABLE SCREENER', 'more': 'PORTABLE SCREENER'}\n",
      "{'ids': '3609624', 'states': 'PA ', 'operators': 'M R Dirt  ', 'names': 'Forbes Pit', 'types': 'Forbes Pit', 'cm': 'Forbes Pit', 'commodity': 'Forbes Pit', 'more': 'Forbes Pit'}\n",
      "{'ids': '3609931', 'states': 'PA ', 'operators': 'M.R. Dirt Inc.  ', 'names': 'Camptown Quarry', 'types': 'Camptown Quarry', 'cm': 'Camptown Quarry', 'commodity': 'Camptown Quarry', 'more': 'Camptown Quarry'}\n",
      "{'ids': '1519799', 'states': 'KY ', 'operators': 'P B Dirt Movers, Inc  ', 'names': 'Fedscreek Surface', 'types': 'Fedscreek Surface', 'cm': 'Fedscreek Surface', 'commodity': 'Fedscreek Surface', 'more': 'Fedscreek Surface'}\n",
      "{'ids': '4407379', 'states': 'VA ', 'operators': 'P B Dirt Movers, Inc.  ', 'names': 'No. 3', 'types': 'No. 3', 'cm': 'No. 3', 'commodity': 'No. 3', 'more': 'No. 3'}\n",
      "{'ids': '4407296', 'states': 'VA ', 'operators': 'PB Dirt Movers  ', 'names': 'Mine No. 6', 'types': 'Mine No. 6', 'cm': 'Mine No. 6', 'commodity': 'Mine No. 6', 'more': 'Mine No. 6'}\n",
      "{'ids': '0203332', 'states': 'AZ ', 'operators': 'Prescott Dirt, LLC  ', 'names': 'Sandretto Drive', 'types': 'Sandretto Drive', 'cm': 'Sandretto Drive', 'commodity': 'Sandretto Drive', 'more': 'Sandretto Drive'}\n",
      "{'ids': '2901986', 'states': 'NM ', 'operators': 'R D Blankenship Dirt Work LLC  ', 'names': 'R D BLANKENSHIP DIRT WORK', 'types': 'R D BLANKENSHIP DIRT WORK', 'cm': 'R D BLANKENSHIP DIRT WORK', 'commodity': 'R D BLANKENSHIP DIRT WORK', 'more': 'R D BLANKENSHIP DIRT WORK'}\n",
      "{'ids': '0801417', 'states': 'FL ', 'operators': 'Sand & Dirt, Inc  ', 'names': 'Molino Pit', 'types': 'Molino Pit', 'cm': 'Molino Pit', 'commodity': 'Molino Pit', 'more': 'Molino Pit'}\n",
      "{'ids': '4300768', 'states': 'VT ', 'operators': 'SIMPSON DIRTWORX LLC  ', 'names': 'Pettibone Jaw Crusher', 'types': 'Pettibone Jaw Crusher', 'cm': 'Pettibone Jaw Crusher', 'commodity': 'Pettibone Jaw Crusher', 'more': 'Pettibone Jaw Crusher'}\n",
      "{'ids': '4300776', 'states': 'VT ', 'operators': 'SIMPSON DIRTWORX LLC  ', 'names': 'Chieftan 1400', 'types': 'Chieftan 1400', 'cm': 'Chieftan 1400', 'commodity': 'Chieftan 1400', 'more': 'Chieftan 1400'}\n",
      "{'ids': '2302283', 'states': 'MO ', 'operators': \"Spry's Dirt & Gravel, Inc.  \", 'names': \"Mike's Money Pit\", 'types': \"Mike's Money Pit\", 'cm': \"Mike's Money Pit\", 'commodity': \"Mike's Money Pit\", 'more': \"Mike's Money Pit\"}\n",
      "{'ids': '2103518', 'states': 'MN ', 'operators': 'Vogt Dirt Service  ', 'names': 'Crusher', 'types': 'Crusher', 'cm': 'Crusher', 'commodity': 'Crusher', 'more': 'Crusher'}\n"
     ]
    }
   ],
   "source": [
    "rows = []\n",
    "\n",
    "for result in results[7:-1]:\n",
    "    #print(\"-----\")\n",
    "    #print(result.text)\n",
    "    row = {}\n",
    "    \n",
    "    ids = result.find_element_by_tag_name(\"td\")\n",
    "    row['ids'] = ids.text\n",
    "    \n",
    "    states = result.find_elements_by_tag_name(\"td\")[1]\n",
    "    row['states'] = states.text\n",
    "    \n",
    "    operators = result.find_elements_by_tag_name(\"td\")[2]\n",
    "    row['operators'] = operators.text\n",
    "    \n",
    "    names = result.find_elements_by_tag_name(\"td\")[3]\n",
    "    row['names'] = names.text\n",
    "    \n",
    "    types = result.find_elements_by_tag_name(\"td\")[3]\n",
    "    row['types'] = types.text\n",
    "    \n",
    "    cm = result.find_elements_by_tag_name(\"td\")[3]\n",
    "    row['cm'] = cm.text\n",
    "    \n",
    "    commodity = result.find_elements_by_tag_name(\"td\")[3]\n",
    "    row['commodity'] = commodity.text\n",
    "    \n",
    "    more = result.find_elements_by_tag_name(\"td\")[3]\n",
    "    row['more'] = more.text\n",
    "    \n",
    "    print(row)\n",
    "    rows.append(row)\n",
    "    "
   ]
  },
  {
   "cell_type": "code",
   "execution_count": 11,
   "metadata": {},
   "outputs": [
    {
     "data": {
      "text/html": [
       "<div>\n",
       "<style scoped>\n",
       "    .dataframe tbody tr th:only-of-type {\n",
       "        vertical-align: middle;\n",
       "    }\n",
       "\n",
       "    .dataframe tbody tr th {\n",
       "        vertical-align: top;\n",
       "    }\n",
       "\n",
       "    .dataframe thead th {\n",
       "        text-align: right;\n",
       "    }\n",
       "</style>\n",
       "<table border=\"1\" class=\"dataframe\">\n",
       "  <thead>\n",
       "    <tr style=\"text-align: right;\">\n",
       "      <th></th>\n",
       "      <th>cm</th>\n",
       "      <th>commodity</th>\n",
       "      <th>ids</th>\n",
       "      <th>more</th>\n",
       "      <th>names</th>\n",
       "      <th>operators</th>\n",
       "      <th>states</th>\n",
       "      <th>types</th>\n",
       "    </tr>\n",
       "  </thead>\n",
       "  <tbody>\n",
       "    <tr>\n",
       "      <th>0</th>\n",
       "      <td>Newberg Rock &amp; Dirt</td>\n",
       "      <td>Newberg Rock &amp; Dirt</td>\n",
       "      <td>3503598</td>\n",
       "      <td>Newberg Rock &amp; Dirt</td>\n",
       "      <td>Newberg Rock &amp; Dirt</td>\n",
       "      <td>Newberg Rock &amp; Dirt</td>\n",
       "      <td>OR</td>\n",
       "      <td>Newberg Rock &amp; Dirt</td>\n",
       "    </tr>\n",
       "    <tr>\n",
       "      <th>1</th>\n",
       "      <td>BENDER SAND &amp; DIRT</td>\n",
       "      <td>BENDER SAND &amp; DIRT</td>\n",
       "      <td>1401575</td>\n",
       "      <td>BENDER SAND &amp; DIRT</td>\n",
       "      <td>BENDER SAND &amp; DIRT</td>\n",
       "      <td>Bender Sand &amp; Dirt</td>\n",
       "      <td>KS</td>\n",
       "      <td>BENDER SAND &amp; DIRT</td>\n",
       "    </tr>\n",
       "    <tr>\n",
       "      <th>2</th>\n",
       "      <td>Bush Pilot</td>\n",
       "      <td>Bush Pilot</td>\n",
       "      <td>5001797</td>\n",
       "      <td>Bush Pilot</td>\n",
       "      <td>Bush Pilot</td>\n",
       "      <td>Dirt Company</td>\n",
       "      <td>AK</td>\n",
       "      <td>Bush Pilot</td>\n",
       "    </tr>\n",
       "    <tr>\n",
       "      <th>3</th>\n",
       "      <td>Rock Lake Plant</td>\n",
       "      <td>Rock Lake Plant</td>\n",
       "      <td>2103723</td>\n",
       "      <td>Rock Lake Plant</td>\n",
       "      <td>Rock Lake Plant</td>\n",
       "      <td>Dirt Doctor Inc</td>\n",
       "      <td>MN</td>\n",
       "      <td>Rock Lake Plant</td>\n",
       "    </tr>\n",
       "    <tr>\n",
       "      <th>4</th>\n",
       "      <td>Astec Plant</td>\n",
       "      <td>Astec Plant</td>\n",
       "      <td>2103914</td>\n",
       "      <td>Astec Plant</td>\n",
       "      <td>Astec Plant</td>\n",
       "      <td>Dirt Work Specialists LLC</td>\n",
       "      <td>MN</td>\n",
       "      <td>Astec Plant</td>\n",
       "    </tr>\n",
       "    <tr>\n",
       "      <th>5</th>\n",
       "      <td>Portable #1</td>\n",
       "      <td>Portable #1</td>\n",
       "      <td>4104757</td>\n",
       "      <td>Portable #1</td>\n",
       "      <td>Portable #1</td>\n",
       "      <td>Dirt Works</td>\n",
       "      <td>TX</td>\n",
       "      <td>Portable #1</td>\n",
       "    </tr>\n",
       "    <tr>\n",
       "      <th>6</th>\n",
       "      <td>River Road Pit</td>\n",
       "      <td>River Road Pit</td>\n",
       "      <td>0801306</td>\n",
       "      <td>River Road Pit</td>\n",
       "      <td>River Road Pit</td>\n",
       "      <td>Holley Dirt Company, Inc</td>\n",
       "      <td>FL</td>\n",
       "      <td>River Road Pit</td>\n",
       "    </tr>\n",
       "    <tr>\n",
       "      <th>7</th>\n",
       "      <td>PORTABLE SCREENER</td>\n",
       "      <td>PORTABLE SCREENER</td>\n",
       "      <td>3901432</td>\n",
       "      <td>PORTABLE SCREENER</td>\n",
       "      <td>PORTABLE SCREENER</td>\n",
       "      <td>Krueger Brothers Gravel &amp; Dirt</td>\n",
       "      <td>SD</td>\n",
       "      <td>PORTABLE SCREENER</td>\n",
       "    </tr>\n",
       "    <tr>\n",
       "      <th>8</th>\n",
       "      <td>Forbes Pit</td>\n",
       "      <td>Forbes Pit</td>\n",
       "      <td>3609624</td>\n",
       "      <td>Forbes Pit</td>\n",
       "      <td>Forbes Pit</td>\n",
       "      <td>M R Dirt</td>\n",
       "      <td>PA</td>\n",
       "      <td>Forbes Pit</td>\n",
       "    </tr>\n",
       "    <tr>\n",
       "      <th>9</th>\n",
       "      <td>Camptown Quarry</td>\n",
       "      <td>Camptown Quarry</td>\n",
       "      <td>3609931</td>\n",
       "      <td>Camptown Quarry</td>\n",
       "      <td>Camptown Quarry</td>\n",
       "      <td>M.R. Dirt Inc.</td>\n",
       "      <td>PA</td>\n",
       "      <td>Camptown Quarry</td>\n",
       "    </tr>\n",
       "  </tbody>\n",
       "</table>\n",
       "</div>"
      ],
      "text/plain": [
       "                    cm            commodity      ids                 more  \\\n",
       "0  Newberg Rock & Dirt  Newberg Rock & Dirt  3503598  Newberg Rock & Dirt   \n",
       "1   BENDER SAND & DIRT   BENDER SAND & DIRT  1401575   BENDER SAND & DIRT   \n",
       "2           Bush Pilot           Bush Pilot  5001797           Bush Pilot   \n",
       "3      Rock Lake Plant      Rock Lake Plant  2103723      Rock Lake Plant   \n",
       "4          Astec Plant          Astec Plant  2103914          Astec Plant   \n",
       "5          Portable #1          Portable #1  4104757          Portable #1   \n",
       "6       River Road Pit       River Road Pit  0801306       River Road Pit   \n",
       "7    PORTABLE SCREENER    PORTABLE SCREENER  3901432    PORTABLE SCREENER   \n",
       "8           Forbes Pit           Forbes Pit  3609624           Forbes Pit   \n",
       "9      Camptown Quarry      Camptown Quarry  3609931      Camptown Quarry   \n",
       "\n",
       "                 names                         operators states  \\\n",
       "0  Newberg Rock & Dirt             Newberg Rock & Dirt      OR    \n",
       "1   BENDER SAND & DIRT              Bender Sand & Dirt      KS    \n",
       "2           Bush Pilot                    Dirt Company      AK    \n",
       "3      Rock Lake Plant                 Dirt Doctor Inc      MN    \n",
       "4          Astec Plant       Dirt Work Specialists LLC      MN    \n",
       "5          Portable #1                      Dirt Works      TX    \n",
       "6       River Road Pit        Holley Dirt Company, Inc      FL    \n",
       "7    PORTABLE SCREENER  Krueger Brothers Gravel & Dirt      SD    \n",
       "8           Forbes Pit                        M R Dirt      PA    \n",
       "9      Camptown Quarry                  M.R. Dirt Inc.      PA    \n",
       "\n",
       "                 types  \n",
       "0  Newberg Rock & Dirt  \n",
       "1   BENDER SAND & DIRT  \n",
       "2           Bush Pilot  \n",
       "3      Rock Lake Plant  \n",
       "4          Astec Plant  \n",
       "5          Portable #1  \n",
       "6       River Road Pit  \n",
       "7    PORTABLE SCREENER  \n",
       "8           Forbes Pit  \n",
       "9      Camptown Quarry  "
      ]
     },
     "execution_count": 11,
     "metadata": {},
     "output_type": "execute_result"
    }
   ],
   "source": [
    "import pandas as pd\n",
    "\n",
    "df = pd.DataFrame(rows)\n",
    "df.head(10)"
   ]
  },
  {
   "cell_type": "code",
   "execution_count": 12,
   "metadata": {},
   "outputs": [],
   "source": [
    "df.to_csv(\"dirt-operators.csv\", index=False)"
   ]
  },
  {
   "cell_type": "markdown",
   "metadata": {},
   "source": [
    "### Loop through each operator result, printing its name\n",
    "\n",
    "> - *Tip: If you have a list called `animals`, `animals[2:]` will skip the first two and start with the third.*\n",
    "> - *Tip: You can use list slicing or an `if` statement to skip the non-data row(s). List slicing is probably easier, even if you aren't comfortable with it.*\n",
    "> - *Tip: or honestly you can use `try` and `except` if you know how it works.*\n",
    "> - *Tip: Once you have the \"right\" rows of data, you're going to be looking for a certain tag inside*\n",
    "> - *Tip: Sometimes you can't say \"give me this class,\" and instead you have to say \"give me all of the `div` elements, and then give me the third one.\"*"
   ]
  },
  {
   "cell_type": "code",
   "execution_count": 23,
   "metadata": {},
   "outputs": [
    {
     "data": {
      "text/plain": [
       "0           Newberg Rock & Dirt\n",
       "1            BENDER SAND & DIRT\n",
       "2                    Bush Pilot\n",
       "3               Rock Lake Plant\n",
       "4                   Astec Plant\n",
       "5                   Portable #1\n",
       "6                River Road Pit\n",
       "7             PORTABLE SCREENER\n",
       "8                    Forbes Pit\n",
       "9               Camptown Quarry\n",
       "10            Fedscreek Surface\n",
       "11                        No. 3\n",
       "12                   Mine No. 6\n",
       "13              Sandretto Drive\n",
       "14    R D BLANKENSHIP DIRT WORK\n",
       "15                   Molino Pit\n",
       "16        Pettibone Jaw Crusher\n",
       "17                Chieftan 1400\n",
       "18             Mike's Money Pit\n",
       "19                      Crusher\n",
       "Name: names, dtype: object"
      ]
     },
     "execution_count": 23,
     "metadata": {},
     "output_type": "execute_result"
    }
   ],
   "source": [
    "df.names"
   ]
  },
  {
   "cell_type": "code",
   "execution_count": null,
   "metadata": {},
   "outputs": [],
   "source": []
  },
  {
   "cell_type": "markdown",
   "metadata": {},
   "source": [
    "### Loop through each operator result, printing its ID\n",
    "\n",
    "There should be ONE code per row, and NO empty rows between them."
   ]
  },
  {
   "cell_type": "code",
   "execution_count": 31,
   "metadata": {},
   "outputs": [
    {
     "data": {
      "text/plain": [
       "0     3503598\n",
       "1     1401575\n",
       "2     5001797\n",
       "3     2103723\n",
       "4     2103914\n",
       "5     4104757\n",
       "6     0801306\n",
       "7     3901432\n",
       "8     3609624\n",
       "9     3609931\n",
       "10    1519799\n",
       "11    4407379\n",
       "12    4407296\n",
       "13    0203332\n",
       "14    2901986\n",
       "15    0801417\n",
       "16    4300768\n",
       "17    4300776\n",
       "18    2302283\n",
       "19    2103518\n",
       "Name: ids, dtype: object"
      ]
     },
     "execution_count": 31,
     "metadata": {},
     "output_type": "execute_result"
    }
   ],
   "source": [
    "df.ids"
   ]
  },
  {
   "cell_type": "markdown",
   "metadata": {},
   "source": [
    "## Saving the results\n",
    "\n",
    "### Loop through each `tr` to create a list of dictionaries\n",
    "\n",
    "Each dictionary must contain\n",
    "\n",
    "- Operator ID\n",
    "- Operator name\n",
    "- Mine name\n",
    "- State\n",
    "- Mine type\n",
    "- Coal or metal\n",
    "- Status\n",
    "- Commodity\n",
    "\n",
    "Create a new dictionary for each row.\n",
    "\n",
    "> - *Tip: Start with an empty dictionary, then add the keys one at a time like we did during class*\n",
    "> - *Tip: You might want to save all of the cells in a variable, then use indexes to get the second, third, fourth, etc.*\n",
    "> - *Tip: I know you already skipped a bunch of rows already, but one of them still might be bad! Which one is it? How can you skip it? You might need to slice out some of the end of your list, too. Use `print` to help you debug, or just look at the page closely.*\n",
    "> - *Tip: Or, if you did the other homework already, `try` / `except` is also an option*"
   ]
  },
  {
   "cell_type": "code",
   "execution_count": null,
   "metadata": {
    "scrolled": true
   },
   "outputs": [],
   "source": []
  },
  {
   "cell_type": "markdown",
   "metadata": {},
   "source": [
    "### Save that to a CSV named `dirt-operators.csv`"
   ]
  },
  {
   "cell_type": "code",
   "execution_count": null,
   "metadata": {},
   "outputs": [],
   "source": []
  },
  {
   "cell_type": "code",
   "execution_count": null,
   "metadata": {},
   "outputs": [],
   "source": []
  },
  {
   "cell_type": "code",
   "execution_count": null,
   "metadata": {},
   "outputs": [],
   "source": []
  },
  {
   "cell_type": "markdown",
   "metadata": {},
   "source": [
    "### Open the CSV file and examine the first few.\n",
    "\n",
    "Make sure you didn't save that extra weird unnamed index column."
   ]
  },
  {
   "cell_type": "code",
   "execution_count": null,
   "metadata": {},
   "outputs": [],
   "source": []
  }
 ],
 "metadata": {
  "kernelspec": {
   "display_name": "Python 3",
   "language": "python",
   "name": "python3"
  },
  "language_info": {
   "codemirror_mode": {
    "name": "ipython",
    "version": 3
   },
   "file_extension": ".py",
   "mimetype": "text/x-python",
   "name": "python",
   "nbconvert_exporter": "python",
   "pygments_lexer": "ipython3",
   "version": "3.6.5"
  }
 },
 "nbformat": 4,
 "nbformat_minor": 2
}
