{
 "cells": [
  {
   "cell_type": "markdown",
   "metadata": {},
   "source": [
    "# Texas Cosmetologist Violations\n",
    "\n",
    "Texas has a system for [searching for license violations](https://www.tdlr.texas.gov/cimsfo/fosearch.asp). You're going to search for cosmetologists!"
   ]
  },
  {
   "cell_type": "markdown",
   "metadata": {},
   "source": [
    "## Setup: Import what you'll need to scrape the page\n",
    "\n",
    "We'll be using Selenium for this, *not* BeautifulSoup and requests."
   ]
  },
  {
   "cell_type": "code",
   "execution_count": 12,
   "metadata": {},
   "outputs": [],
   "source": [
    "from selenium import webdriver\n",
    "from selenium.webdriver.common.keys import Keys\n",
    "from selenium.webdriver.support.ui import Select\n",
    "from selenium.webdriver.support.ui import WebDriverWait"
   ]
  },
  {
   "cell_type": "markdown",
   "metadata": {
    "collapsed": true
   },
   "source": [
    "## Starting your search\n",
    "\n",
    "Starting from [here](https://www.tdlr.texas.gov/cimsfo/fosearch.asp), search for cosmetologist violations for people with the last name **Nguyen**."
   ]
  },
  {
   "cell_type": "code",
   "execution_count": 13,
   "metadata": {},
   "outputs": [],
   "source": [
    "driver = webdriver.Chrome()\n",
    "driver.get('https://www.tdlr.texas.gov/cimsfo/fosearch.asp')"
   ]
  },
  {
   "cell_type": "code",
   "execution_count": 14,
   "metadata": {},
   "outputs": [],
   "source": [
    "from selenium.webdriver.support.ui import Select\n",
    "select = Select(driver.find_element_by_name('pht_status'))\n",
    "select.select_by_visible_text('Cosmetologists')"
   ]
  },
  {
   "cell_type": "code",
   "execution_count": 15,
   "metadata": {},
   "outputs": [],
   "source": [
    "text_input = driver.find_element_by_name('pht_lnm')\n",
    "text_input.send_keys('Nguyen')"
   ]
  },
  {
   "cell_type": "code",
   "execution_count": 16,
   "metadata": {},
   "outputs": [],
   "source": [
    "search_button = driver.find_element_by_name('B1')\n",
    "search_button.click()"
   ]
  },
  {
   "cell_type": "markdown",
   "metadata": {},
   "source": [
    "## Scraping\n",
    "\n",
    "Once you are on the results page, do this."
   ]
  },
  {
   "cell_type": "markdown",
   "metadata": {},
   "source": [
    "### Loop through each result and print the entire row\n",
    "\n",
    "Okay wait, that's a heck of a lot. Use `[:10]` to only do the first ten (`listname[:10]` gives you the first ten)."
   ]
  },
  {
   "cell_type": "code",
   "execution_count": 17,
   "metadata": {},
   "outputs": [
    {
     "name": "stdout",
     "output_type": "stream",
     "text": [
      "Name and Location Order Basis for Order\n",
      "NGUYEN, TOAN HUU\n",
      "City: SAN ANTONIO\n",
      "County: BEXAR\n",
      "Zip Code: 78217\n",
      "\n",
      "\n",
      "License #(s): 780948, 1706491, 1699123\n",
      "\n",
      "Complaint # COS20180004289 Date: 5/30/2018\n",
      "\n",
      "Respondent is assessed an administrative penalty in the amount of $500. Respondent failed to clean and sanitize whirlpool foot spas as required at the end of each day.\n",
      "NGUYEN, HANH CONG\n",
      "City: EL PASO\n",
      "County: EL PASO\n",
      "Zip Code: 79934\n",
      "\n",
      "\n",
      "License #: 737708\n",
      "\n",
      "Complaint # COS20180006594 Date: 5/30/2018\n",
      "\n",
      "Respondent is assessed an administrative penalty in the amount of $1,000. Respondent failed to clean and sanitize whirlpool foot spas as required at the end of each day; Respondent failed to use items subject to possible cross contamination in a manner that does not contaminate the remaining product.\n",
      "NGUYEN, KHIEM VAN\n",
      "City: LONGVIEW\n",
      "County: GREGG\n",
      "Zip Code: 75604\n",
      "\n",
      "\n",
      "License #: 731665\n",
      "\n",
      "Complaint # COS20180000257 Date: 5/17/2018\n",
      "\n",
      "Respondent is assessed an administrative penalty in the amount of $1,250. Respondent failed to follow whirlpool foot spas cleaning and sanitization procedures as required; Respondent failed to clean, disinfect, and sterilize manicure and pedicure implements after each use; Respondent failed to clean and disinfect all wax pots.\n",
      "NGUYEN, DIEP THI NGOC\n",
      "City: HOUSTON\n",
      "County: HARRIS\n",
      "Zip Code: 77014\n",
      "\n",
      "\n",
      "License #(s): 1347649, 760528\n",
      "\n",
      "Complaint # COS20180004915 Date: 5/17/2018\n",
      "\n",
      "Respondent is assessed an administrative penalty in the amount of $500. Respondent failed to disinfect tools, implements, and supplies with an EPA-registered disinfectant solution; Respondent failed to disinfect multi-use equipment, implements, and tools prior to use on each client.\n",
      "NGUYEN, LAN T-THUY\n",
      "City: SAN ANTONIO\n",
      "County: BEXAR\n",
      "Zip Code: 78255\n",
      "\n",
      "NGUYEN, SAMLOI\n",
      "City: SAN ANTONIO\n",
      "County: BEXAR\n",
      "Zip Code: 78255\n",
      "\n",
      "\n",
      "License #: 767339\n",
      "\n",
      "Complaint # COS20180009255 Date: 5/17/2018\n",
      "\n",
      "Respondent is assessed an administrative penalty in the amount of $575. Respondent failed to clean, disinfect, and sterilize manicure and pedicure implements after each use.\n",
      "NGUYEN, TUAN A\n",
      "City: AUSTIN\n",
      "County: TRAVIS\n",
      "Zip Code: 78723\n",
      "\n",
      "NGUYEN, TUAN VAN\n",
      "City: ARLINGTON\n",
      "County: TARRANT\n",
      "Zip Code: 76011\n",
      "\n",
      "\n",
      "License #: 681274\n",
      "\n",
      "Complaint # COS20140018343 Date: 5/9/2018\n",
      "\n",
      "Respondent is assessed an administrative penalty in the amount of $1,000. Respondent failed to clean and disinfect all wax pots; Respondent failed to disinfect tools, implements, and supplies with a hospital-grade EPA-registered disinfectant solution; Respondent failed to replace materials that contact skin, or skin products from multi-use containers, with new or clean articles for each client.\n",
      "NGUYEN, THAO B\n",
      "City: EULESS\n",
      "County: TARRANT\n",
      "Zip Code: 76039\n",
      "\n",
      "\n",
      "License #(s): 721373, 1142884\n",
      "\n",
      "Complaint # COS20180008846 Date: 5/9/2018\n",
      "\n",
      "Respondent is assessed an administrative penalty in the amount of $750. Respondent failed to clean and sanitize whirlpool foot spas as required at the end of each day.\n",
      "NGUYEN, BETH MARIA\n",
      "City: HOUSTON\n",
      "County: HARRIS\n",
      "Zip Code: 77083\n",
      "\n",
      "\n",
      "License #: 1470271\n",
      "\n",
      "Complaint # COS20180000897 Date: 4/30/2018\n",
      "\n",
      "Respondent's Cosmetology Operator license was revoked by operation of law on 03/29/16. The Respondent's license was revoked upon Respondent's imprisonment in a penitentiary.\n",
      "NGUYEN, TRUNG N\n",
      "City: AMARILLO\n",
      "County: POTTER\n",
      "Zip Code: 79106\n",
      "\n",
      "\n",
      "License #(s): 1196244, 767015, 767014\n",
      "\n",
      "Complaint # COS20170023893 Date: 4/25/2018\n",
      "\n",
      "Respondent is assessed an administrative penalty in the amount of $1,300. Respondent failed to clean, disinfect, and sterilize manicure and pedicure implements after each use.\n"
     ]
    }
   ],
   "source": [
    "cosmetologists = driver.find_elements_by_tag_name('tr')\n",
    "for cosmetologist in cosmetologists[:10]:\n",
    "    print(cosmetologist.text)"
   ]
  },
  {
   "cell_type": "markdown",
   "metadata": {},
   "source": [
    "### Loop through each result and print each person's name\n",
    "\n",
    "You'll get an error because the first one doesn't have a name. How do you make that not happen?! If you want to ignore an error, you use code like this:\n",
    "\n",
    "```python\n",
    "try:\n",
    "   try to do something\n",
    "except:\n",
    "   print(\"It didn't work')\n",
    "```\n",
    "\n",
    "It should help you out. If you don't want to print anything, you can type `pass` instead of the `print` statement.\n",
    "\n",
    "**Why doesn't the first one have a name?**"
   ]
  },
  {
   "cell_type": "code",
   "execution_count": 7,
   "metadata": {},
   "outputs": [
    {
     "name": "stdout",
     "output_type": "stream",
     "text": [
      "NGUYEN, TOAN HUU\n",
      "NGUYEN, HANH CONG\n",
      "NGUYEN, KHIEM VAN\n",
      "NGUYEN, DIEP THI NGOC\n",
      "NGUYEN, LAN T-THUY\n",
      "NGUYEN, TUAN A\n",
      "NGUYEN, THAO B\n",
      "NGUYEN, BETH MARIA\n",
      "NGUYEN, TRUNG N\n"
     ]
    }
   ],
   "source": [
    "for cosmetologist in cosmetologists[:10]:\n",
    "    try:\n",
    "        print(cosmetologist.find_element_by_class_name('results_text').text)\n",
    "    except:\n",
    "        pass"
   ]
  },
  {
   "cell_type": "markdown",
   "metadata": {},
   "source": [
    "## Loop through each result, printing each violation description (\"Basis for order\")\n",
    "\n",
    "> - *Tip: You'll get an error even if you're ALMOST right - which row is causing the problem?*\n",
    "> - *Tip: You can get the HTML of something by doing `.get_attribute('innerHTML')` - it might help you diagnose your issue.*\n",
    "> - *Tip: Or I guess you could just skip the one with the problem..."
   ]
  },
  {
   "cell_type": "code",
   "execution_count": 8,
   "metadata": {},
   "outputs": [
    {
     "name": "stdout",
     "output_type": "stream",
     "text": [
      "Respondent failed to clean and sanitize whirlpool foot spas as required at the end of each day.\n",
      "Respondent failed to clean and sanitize whirlpool foot spas as required at the end of each day; Respondent failed to use items subject to possible cross contamination in a manner that does not contaminate the remaining product.\n",
      "Respondent failed to follow whirlpool foot spas cleaning and sanitization procedures as required; Respondent failed to clean, disinfect, and sterilize manicure and pedicure implements after each use; Respondent failed to clean and disinfect all wax pots.\n",
      "Respondent failed to disinfect tools, implements, and supplies with an EPA-registered disinfectant solution; Respondent failed to disinfect multi-use equipment, implements, and tools prior to use on each client.\n",
      "Respondent failed to clean, disinfect, and sterilize manicure and pedicure implements after each use.\n",
      "Respondent failed to clean and disinfect all wax pots; Respondent failed to disinfect tools, implements, and supplies with a hospital-grade EPA-registered disinfectant solution; Respondent failed to replace materials that contact skin, or skin products from multi-use containers, with new or clean articles for each client.\n",
      "Respondent failed to clean and sanitize whirlpool foot spas as required at the end of each day.\n",
      "The Respondent's license was revoked upon Respondent's imprisonment in a penitentiary.\n",
      "Respondent failed to clean, disinfect, and sterilize manicure and pedicure implements after each use.\n"
     ]
    }
   ],
   "source": [
    "for cosmetologist in cosmetologists[:10]:\n",
    "    try:\n",
    "        print(cosmetologist.find_elements_by_tag_name('td')[2].text)\n",
    "    except:\n",
    "        pass"
   ]
  },
  {
   "cell_type": "markdown",
   "metadata": {},
   "source": [
    "## Loop through each result, printing the complaint number\n",
    "\n",
    "- TIP: Think about the order of the elements"
   ]
  },
  {
   "cell_type": "code",
   "execution_count": 9,
   "metadata": {},
   "outputs": [
    {
     "name": "stdout",
     "output_type": "stream",
     "text": [
      "It didn't work.\n",
      "COS20180004289\n",
      "COS20180006594\n",
      "COS20180000257\n",
      "COS20180004915\n",
      "COS20180009255\n",
      "COS20140018343\n",
      "COS20180008846\n",
      "COS20180000897\n",
      "COS20170023893\n"
     ]
    }
   ],
   "source": [
    "for cosmetologist in cosmetologists[:10]:\n",
    "    try:\n",
    "        print(cosmetologist.find_elements_by_class_name('results_text')[-2].text)\n",
    "    except:\n",
    "        print('It didn\\'t work.')"
   ]
  },
  {
   "cell_type": "markdown",
   "metadata": {},
   "source": [
    "## Saving the results\n",
    "\n",
    "### Loop through each result to create a list of dictionaries\n",
    "\n",
    "Each dictionary must contain\n",
    "\n",
    "- Person's name\n",
    "- Violation description\n",
    "- Violation number\n",
    "- License Numbers\n",
    "- Zip Code\n",
    "- County\n",
    "- City\n",
    "\n",
    "Create a new dictionary for each result (except the header).\n",
    "\n",
    "> *Tip: If you want to ask for the \"next sibling,\" you can't use `find_next_sibling` in Selenium, you need to use `element.find_element_by_xpath(\"following-sibling::div\")` to find the next div, or `element.find_element_by_xpath(\"following-sibling::*\")` to find the next anything."
   ]
  },
  {
   "cell_type": "code",
   "execution_count": 18,
   "metadata": {},
   "outputs": [],
   "source": [
    "rows = []\n",
    "for cosmetologist in cosmetologists[1:]:\n",
    "    row = {}\n",
    "    \n",
    "    Name = cosmetologist.find_element_by_class_name('results_text')\n",
    "    row['Name'] = Name.text\n",
    "    \n",
    "    Violation_description = cosmetologist.find_elements_by_tag_name('td')[2]\n",
    "    row['Violation_description'] = Violation_description.text\n",
    "    \n",
    "    Complaint_number = cosmetologist.find_elements_by_class_name('results_text')[-2]\n",
    "    row['Complaint_number'] = Complaint_number.text\n",
    "    \n",
    "    License_numbers = cosmetologist.find_elements_by_class_name('results_text')[-3]\n",
    "    row['License_numbers'] = License_numbers.text\n",
    "    \n",
    "    Zip = cosmetologist.find_elements_by_class_name('results_text')[-4]\n",
    "    row['Zip'] = Zip.text\n",
    "    \n",
    "    County = cosmetologist.find_elements_by_class_name('results_text')[-5]\n",
    "    row['County'] = County.text\n",
    "    \n",
    "    City = cosmetologist.find_elements_by_class_name('results_text')[-6]\n",
    "    row['City'] = City.text\n",
    "    \n",
    "    rows.append(row)"
   ]
  },
  {
   "cell_type": "markdown",
   "metadata": {},
   "source": [
    "### Save that to a CSV\n",
    "\n",
    "- Tip: You'll want to use pandas here"
   ]
  },
  {
   "cell_type": "code",
   "execution_count": 19,
   "metadata": {},
   "outputs": [
    {
     "data": {
      "text/html": [
       "<div>\n",
       "<style scoped>\n",
       "    .dataframe tbody tr th:only-of-type {\n",
       "        vertical-align: middle;\n",
       "    }\n",
       "\n",
       "    .dataframe tbody tr th {\n",
       "        vertical-align: top;\n",
       "    }\n",
       "\n",
       "    .dataframe thead th {\n",
       "        text-align: right;\n",
       "    }\n",
       "</style>\n",
       "<table border=\"1\" class=\"dataframe\">\n",
       "  <thead>\n",
       "    <tr style=\"text-align: right;\">\n",
       "      <th></th>\n",
       "      <th>City</th>\n",
       "      <th>Complaint_number</th>\n",
       "      <th>County</th>\n",
       "      <th>License_numbers</th>\n",
       "      <th>Name</th>\n",
       "      <th>Violation_description</th>\n",
       "      <th>Zip</th>\n",
       "    </tr>\n",
       "  </thead>\n",
       "  <tbody>\n",
       "    <tr>\n",
       "      <th>0</th>\n",
       "      <td>SAN ANTONIO</td>\n",
       "      <td>COS20180004289</td>\n",
       "      <td>BEXAR</td>\n",
       "      <td>780948, 1706491, 1699123</td>\n",
       "      <td>NGUYEN, TOAN HUU</td>\n",
       "      <td>Respondent failed to clean and sanitize whirlp...</td>\n",
       "      <td>78217</td>\n",
       "    </tr>\n",
       "    <tr>\n",
       "      <th>1</th>\n",
       "      <td>EL PASO</td>\n",
       "      <td>COS20180006594</td>\n",
       "      <td>EL PASO</td>\n",
       "      <td>737708</td>\n",
       "      <td>NGUYEN, HANH CONG</td>\n",
       "      <td>Respondent failed to clean and sanitize whirlp...</td>\n",
       "      <td>79934</td>\n",
       "    </tr>\n",
       "    <tr>\n",
       "      <th>2</th>\n",
       "      <td>LONGVIEW</td>\n",
       "      <td>COS20180000257</td>\n",
       "      <td>GREGG</td>\n",
       "      <td>731665</td>\n",
       "      <td>NGUYEN, KHIEM VAN</td>\n",
       "      <td>Respondent failed to follow whirlpool foot spa...</td>\n",
       "      <td>75604</td>\n",
       "    </tr>\n",
       "    <tr>\n",
       "      <th>3</th>\n",
       "      <td>HOUSTON</td>\n",
       "      <td>COS20180004915</td>\n",
       "      <td>HARRIS</td>\n",
       "      <td>1347649, 760528</td>\n",
       "      <td>NGUYEN, DIEP THI NGOC</td>\n",
       "      <td>Respondent failed to disinfect tools, implemen...</td>\n",
       "      <td>77014</td>\n",
       "    </tr>\n",
       "    <tr>\n",
       "      <th>4</th>\n",
       "      <td>SAN ANTONIO</td>\n",
       "      <td>COS20180009255</td>\n",
       "      <td>BEXAR</td>\n",
       "      <td>767339</td>\n",
       "      <td>NGUYEN, LAN T-THUY</td>\n",
       "      <td>Respondent failed to clean, disinfect, and ste...</td>\n",
       "      <td>78255</td>\n",
       "    </tr>\n",
       "    <tr>\n",
       "      <th>5</th>\n",
       "      <td>ARLINGTON</td>\n",
       "      <td>COS20140018343</td>\n",
       "      <td>TARRANT</td>\n",
       "      <td>681274</td>\n",
       "      <td>NGUYEN, TUAN A</td>\n",
       "      <td>Respondent failed to clean and disinfect all w...</td>\n",
       "      <td>76011</td>\n",
       "    </tr>\n",
       "    <tr>\n",
       "      <th>6</th>\n",
       "      <td>EULESS</td>\n",
       "      <td>COS20180008846</td>\n",
       "      <td>TARRANT</td>\n",
       "      <td>721373, 1142884</td>\n",
       "      <td>NGUYEN, THAO B</td>\n",
       "      <td>Respondent failed to clean and sanitize whirlp...</td>\n",
       "      <td>76039</td>\n",
       "    </tr>\n",
       "    <tr>\n",
       "      <th>7</th>\n",
       "      <td>HOUSTON</td>\n",
       "      <td>COS20180000897</td>\n",
       "      <td>HARRIS</td>\n",
       "      <td>1470271</td>\n",
       "      <td>NGUYEN, BETH MARIA</td>\n",
       "      <td>The Respondent's license was revoked upon Resp...</td>\n",
       "      <td>77083</td>\n",
       "    </tr>\n",
       "    <tr>\n",
       "      <th>8</th>\n",
       "      <td>AMARILLO</td>\n",
       "      <td>COS20170023893</td>\n",
       "      <td>POTTER</td>\n",
       "      <td>1196244, 767015, 767014</td>\n",
       "      <td>NGUYEN, TRUNG N</td>\n",
       "      <td>Respondent failed to clean, disinfect, and ste...</td>\n",
       "      <td>79106</td>\n",
       "    </tr>\n",
       "    <tr>\n",
       "      <th>9</th>\n",
       "      <td>PITTSBURG</td>\n",
       "      <td>COS20180004076</td>\n",
       "      <td>CAMP</td>\n",
       "      <td>759931</td>\n",
       "      <td>NGUYEN, NGAT THI</td>\n",
       "      <td>Respondent failed to follow whirlpool foot spa...</td>\n",
       "      <td>75686</td>\n",
       "    </tr>\n",
       "  </tbody>\n",
       "</table>\n",
       "</div>"
      ],
      "text/plain": [
       "          City Complaint_number   County           License_numbers  \\\n",
       "0  SAN ANTONIO   COS20180004289    BEXAR  780948, 1706491, 1699123   \n",
       "1      EL PASO   COS20180006594  EL PASO                    737708   \n",
       "2     LONGVIEW   COS20180000257    GREGG                    731665   \n",
       "3      HOUSTON   COS20180004915   HARRIS           1347649, 760528   \n",
       "4  SAN ANTONIO   COS20180009255    BEXAR                    767339   \n",
       "5    ARLINGTON   COS20140018343  TARRANT                    681274   \n",
       "6       EULESS   COS20180008846  TARRANT           721373, 1142884   \n",
       "7      HOUSTON   COS20180000897   HARRIS                   1470271   \n",
       "8     AMARILLO   COS20170023893   POTTER   1196244, 767015, 767014   \n",
       "9    PITTSBURG   COS20180004076     CAMP                    759931   \n",
       "\n",
       "                    Name                              Violation_description  \\\n",
       "0       NGUYEN, TOAN HUU  Respondent failed to clean and sanitize whirlp...   \n",
       "1      NGUYEN, HANH CONG  Respondent failed to clean and sanitize whirlp...   \n",
       "2      NGUYEN, KHIEM VAN  Respondent failed to follow whirlpool foot spa...   \n",
       "3  NGUYEN, DIEP THI NGOC  Respondent failed to disinfect tools, implemen...   \n",
       "4     NGUYEN, LAN T-THUY  Respondent failed to clean, disinfect, and ste...   \n",
       "5         NGUYEN, TUAN A  Respondent failed to clean and disinfect all w...   \n",
       "6         NGUYEN, THAO B  Respondent failed to clean and sanitize whirlp...   \n",
       "7     NGUYEN, BETH MARIA  The Respondent's license was revoked upon Resp...   \n",
       "8        NGUYEN, TRUNG N  Respondent failed to clean, disinfect, and ste...   \n",
       "9       NGUYEN, NGAT THI  Respondent failed to follow whirlpool foot spa...   \n",
       "\n",
       "     Zip  \n",
       "0  78217  \n",
       "1  79934  \n",
       "2  75604  \n",
       "3  77014  \n",
       "4  78255  \n",
       "5  76011  \n",
       "6  76039  \n",
       "7  77083  \n",
       "8  79106  \n",
       "9  75686  "
      ]
     },
     "execution_count": 19,
     "metadata": {},
     "output_type": "execute_result"
    }
   ],
   "source": [
    "import pandas as pd\n",
    "\n",
    "df = pd.DataFrame(rows)\n",
    "df.head(10)"
   ]
  },
  {
   "cell_type": "code",
   "execution_count": 20,
   "metadata": {},
   "outputs": [],
   "source": [
    "df.to_csv(\"cosmetology_violations.csv\", index=False)"
   ]
  },
  {
   "cell_type": "code",
   "execution_count": null,
   "metadata": {},
   "outputs": [],
   "source": []
  },
  {
   "cell_type": "markdown",
   "metadata": {},
   "source": [
    "### Open the CSV file and examine the first few. Make sure you didn't save an extra weird unnamed column."
   ]
  },
  {
   "cell_type": "code",
   "execution_count": 22,
   "metadata": {},
   "outputs": [
    {
     "ename": "NameError",
     "evalue": "name 'cosmetology_violations' is not defined",
     "output_type": "error",
     "traceback": [
      "\u001b[0;31m---------------------------------------------------------------------------\u001b[0m",
      "\u001b[0;31mNameError\u001b[0m                                 Traceback (most recent call last)",
      "\u001b[0;32m<ipython-input-22-a674985f2a50>\u001b[0m in \u001b[0;36m<module>\u001b[0;34m()\u001b[0m\n\u001b[0;32m----> 1\u001b[0;31m \u001b[0mcosmetology_violations\u001b[0m\u001b[0;34m.\u001b[0m\u001b[0mcsv\u001b[0m\u001b[0;34m.\u001b[0m\u001b[0mhead\u001b[0m\u001b[0;34m(\u001b[0m\u001b[0;34m)\u001b[0m\u001b[0;34m\u001b[0m\u001b[0m\n\u001b[0m",
      "\u001b[0;31mNameError\u001b[0m: name 'cosmetology_violations' is not defined"
     ]
    }
   ],
   "source": []
  },
  {
   "cell_type": "code",
   "execution_count": null,
   "metadata": {},
   "outputs": [],
   "source": []
  }
 ],
 "metadata": {
  "kernelspec": {
   "display_name": "Python 3",
   "language": "python",
   "name": "python3"
  },
  "language_info": {
   "codemirror_mode": {
    "name": "ipython",
    "version": 3
   },
   "file_extension": ".py",
   "mimetype": "text/x-python",
   "name": "python",
   "nbconvert_exporter": "python",
   "pygments_lexer": "ipython3",
   "version": "3.6.5"
  }
 },
 "nbformat": 4,
 "nbformat_minor": 2
}
