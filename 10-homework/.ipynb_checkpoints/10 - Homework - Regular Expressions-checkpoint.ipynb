{
 "cells": [
  {
   "cell_type": "markdown",
   "metadata": {},
   "source": [
    "# Homework 10: Cleaning data with Regular Expressions\n",
    "\n",
    "Time to use regular expressions!\n",
    "\n",
    "# Hints and notes\n",
    "\n",
    "### Opening files in subdirectories\n",
    "\n",
    "Notice that this notebook might be **homework/**, but!!! the csvs and text files might be in **homework/scraped/** or **/homework/scraped/minutes_pdfs** or **/homework/pdfs/**. To open a file in a subdirectory, instead of having the filename be `\"file.csv\"` you'll just use `\"some/subfolder/file.csv\"`\n",
    "\n",
    "### Opening text files\n",
    "\n",
    "This will open up a file, read it in and show you the first 500 characters.\n",
    "\n",
    "```python\n",
    "contents = open(\"your-filename.txt\").read()\n",
    "contents[0:500]\n",
    "```\n",
    "\n",
    "> You might need `open(\"your-filename.txt\", encoding=\"utf8\").read()`\n",
    "\n",
    "### Using regex\n",
    "\n",
    "For some dumb reason you need to put `r` in front of the string you use when you're talking about regex. Just plain `\"(\\d\\d\\d)\"` will usually work, but *sometimes* it won't and you'll need `r\"(\\d\\d\\d)`. It's best to just use the `r` all of the time, if you can remember!\n",
    "\n",
    "### Using `.str.extract`\n",
    "\n",
    "When you use `.str.extract`, you're always going to **capture one thing** and save it to a new column. You need to wrap the things you're interested in with parenthesis `(` `)`.\n",
    "\n",
    "```python\n",
    "df['phone_number'] = df['old_column'].str.extract(r\"My phone number is (\\d\\d\\d-\\d\\d\\d-\\d\\d\\d\\d)\")\n",
    "```\n",
    "\n",
    "### Setting pandas options\n",
    "\n",
    "Pandas has a lot of options, like how many columns or rows it will show you, or how many characters it will show in a column before it stops showing you anything. Here are a few useful ones:\n",
    "\n",
    "* `display.max_cols`: Number of columns to show at once\n",
    "* `display.max_rows`: Number of rows to show at once\n",
    "* `display.max_colwidth`: Maximum number of characters displayed from a string\n",
    "\n",
    "You can set them using `pd.set_option(\"display.max_rows\", 1000)`, for example, to show 1000 rows at a time. You can find a lot more at https://pandas.pydata.org/pandas-docs/stable/generated/pandas.set_option.html\n",
    "\n",
    "### Regular expressions reference\n",
    "\n",
    "I personally think http://www.regular-expressions.info/ is a wonderful wonderful reference (and tutorial), even if it's ugly! But here's a quick reference for you:\n",
    "\n",
    "* `\\d` is a digit\n",
    "* `\\d*` is zero or more digits \n",
    "* `\\d+` is one or more digits\n",
    "* `.` matches anything for ONE character\n",
    "* `.*` is \"give me anything forever\"\n",
    "* `\\s` is whitespace, a.k.a. spaces and tabs\n",
    "* `\\w` is a word character, which includes capital and lowercase letters, numbers and hyphens.\n",
    "* You can put `*` after anything, so `\\w*` would mean \"as many word characters as you can find\"\n",
    "* `\\b` is a word boundary (you'll need the `r\"\"` thing for this one)\n",
    "* `( )` is a \"capture group\" for saving something\n",
    "* `\\1` is used when doing find/replace to say \"put the first captured group here\" (note, it's a dollar sign instead of a backslash in some editors)\n",
    "* `[ABCDE]` is a character class, which means \"match one of these, I don't care which\"\n",
    "* dollar sign means \"end of the line\"\n",
    "* caret ^ means \"beginning of the line\"\n",
    "* `\\.` means \"no really seriously I mean a period not just anything\"\n",
    "* You can use `\\` with anything else that would normally be a special character, too, not just periods. `(` or `[` or whatever.\n",
    "\n",
    "### Cleaning up extracted columns\n",
    "\n",
    "Sometimes you get `\\n` (newlines) or spaces or `\\t` (tabs) or stuff at the beginning or the end of your column. `.str.strip()` will usually take care of that, just attach it after your `.str.extract()`\n",
    "\n",
    "After you extract something, it's still a string even though you look at it and know it's a number. Use `.astype(int)` to turn it into an integer (no decimal) or `.astype(float)` to turn it into a float (yes decimal)\n",
    "\n",
    "### Writing regular expressions in general\n",
    "\n",
    "Even if I'm using regex in pandas or Python, I like to test them in my text editor with \"Find.\" The highlighting really helps me see if I'm matching things! I also like to think \"what stays the same?\" when designing patterns, write those parts first, then fill in the blanks with what I want to capture."
   ]
  },
  {
   "cell_type": "markdown",
   "metadata": {},
   "source": [
    "## Importing\n",
    "\n",
    "There might be more, I just wanted to put this up here for the `pd.set_option` part. It allows you to see a lot of content in a single column of pandas, which will be important for some parts below."
   ]
  },
  {
   "cell_type": "code",
   "execution_count": 1,
   "metadata": {},
   "outputs": [],
   "source": [
    "import re\n",
    "import pandas as pd\n",
    "pd.set_option('display.max_colwidth', 500)"
   ]
  },
  {
   "cell_type": "markdown",
   "metadata": {},
   "source": [
    "# Part 1: Using `.str.extract` to pull data from columns in pandas\n",
    "\n",
    "## 1.1 H&M\n",
    "\n",
    "Open up `hm.csv` from the `scraped` directory. I want **four new columns**:\n",
    "\n",
    "1. `price_original`, the original price, one of the new price\n",
    "2. `price_discounted`, the discounted price\n",
    "3. `pct_discount`, the percent discount\n",
    "4. `article_id`, the article id (from the url)\n",
    "\n",
    "Save as **hm_cleaned.csv**.\n",
    "\n",
    "**Note:** When you look at it, it... won't look right. I don't know why, pandas is weird. Look at the `price` column by itself using `df['price']` before you write your regex.\n",
    "\n",
    "**Tip:** Remember that `$` is a special regex symbol! You might need to escape it.\n",
    "\n",
    "**Tip:** When doing `.str.extract`, the whole match doesn't get captured, only what you put `()` around! Think about anchoring to different points of the string, or things in the string.\n",
    "\n",
    "**Tip:** Not all prices have cents!\n",
    "\n",
    "**Tip:** Your first instinct about how to compute the percent discount is probably wrong"
   ]
  },
  {
   "cell_type": "code",
   "execution_count": 2,
   "metadata": {},
   "outputs": [
    {
     "data": {
      "text/html": [
       "<div>\n",
       "<style scoped>\n",
       "    .dataframe tbody tr th:only-of-type {\n",
       "        vertical-align: middle;\n",
       "    }\n",
       "\n",
       "    .dataframe tbody tr th {\n",
       "        vertical-align: top;\n",
       "    }\n",
       "\n",
       "    .dataframe thead th {\n",
       "        text-align: right;\n",
       "    }\n",
       "</style>\n",
       "<table border=\"1\" class=\"dataframe\">\n",
       "  <thead>\n",
       "    <tr style=\"text-align: right;\">\n",
       "      <th></th>\n",
       "      <th>name</th>\n",
       "      <th>price</th>\n",
       "      <th>url</th>\n",
       "    </tr>\n",
       "  </thead>\n",
       "  <tbody>\n",
       "    <tr>\n",
       "      <th>0</th>\n",
       "      <td>Washed Linen Duvet Cover Set</td>\n",
       "      <td>$59.99 $129</td>\n",
       "      <td>http://www.hm.com/us/product/13472?article=13472-N</td>\n",
       "    </tr>\n",
       "    <tr>\n",
       "      <th>1</th>\n",
       "      <td>Candle in Glass Jar</td>\n",
       "      <td>$6.99 $17.99</td>\n",
       "      <td>http://www.hm.com/us/product/35079?article=35079-D</td>\n",
       "    </tr>\n",
       "    <tr>\n",
       "      <th>2</th>\n",
       "      <td>Glittery Cushion Cover</td>\n",
       "      <td>$7.99 $17.99</td>\n",
       "      <td>http://www.hm.com/us/product/72462?article=72462-A</td>\n",
       "    </tr>\n",
       "    <tr>\n",
       "      <th>3</th>\n",
       "      <td>Textured-weave Cushion Cover</td>\n",
       "      <td>$6.99 $12.99</td>\n",
       "      <td>http://www.hm.com/us/product/58926?article=58926-C</td>\n",
       "    </tr>\n",
       "    <tr>\n",
       "      <th>4</th>\n",
       "      <td>Stoneware Bowl</td>\n",
       "      <td>$17.99 $24.99</td>\n",
       "      <td>http://www.hm.com/us/product/74242?article=74242-A</td>\n",
       "    </tr>\n",
       "  </tbody>\n",
       "</table>\n",
       "</div>"
      ],
      "text/plain": [
       "                           name          price  \\\n",
       "0  Washed Linen Duvet Cover Set    $59.99 $129   \n",
       "1           Candle in Glass Jar   $6.99 $17.99   \n",
       "2        Glittery Cushion Cover   $7.99 $17.99   \n",
       "3  Textured-weave Cushion Cover   $6.99 $12.99   \n",
       "4                Stoneware Bowl  $17.99 $24.99   \n",
       "\n",
       "                                                  url  \n",
       "0  http://www.hm.com/us/product/13472?article=13472-N  \n",
       "1  http://www.hm.com/us/product/35079?article=35079-D  \n",
       "2  http://www.hm.com/us/product/72462?article=72462-A  \n",
       "3  http://www.hm.com/us/product/58926?article=58926-C  \n",
       "4  http://www.hm.com/us/product/74242?article=74242-A  "
      ]
     },
     "execution_count": 2,
     "metadata": {},
     "output_type": "execute_result"
    }
   ],
   "source": [
    "df = pd.read_csv(\"scraped/hm.csv\")\n",
    "df.head()"
   ]
  },
  {
   "cell_type": "code",
   "execution_count": 3,
   "metadata": {},
   "outputs": [
    {
     "data": {
      "text/plain": [
       "0      $59.99 $129\n",
       "1     $6.99 $17.99\n",
       "2     $7.99 $17.99\n",
       "3     $6.99 $12.99\n",
       "4    $17.99 $24.99\n",
       "Name: price, dtype: object"
      ]
     },
     "execution_count": 3,
     "metadata": {},
     "output_type": "execute_result"
    }
   ],
   "source": [
    "df['price'].head()"
   ]
  },
  {
   "cell_type": "code",
   "execution_count": 4,
   "metadata": {},
   "outputs": [
    {
     "name": "stdout",
     "output_type": "stream",
     "text": [
      "        0\n",
      "0   59.99\n",
      "1    6.99\n",
      "2    7.99\n",
      "3    6.99\n",
      "4   17.99\n",
      "5    3.99\n",
      "6    7.99\n",
      "7    7.99\n",
      "8    9.99\n",
      "9   27.99\n",
      "10   2.99\n",
      "11   2.99\n",
      "12   9.99\n",
      "13  39.99\n",
      "14  39.99\n",
      "15   7.99\n",
      "16  19.99\n",
      "17   2.99\n",
      "18   7.99\n",
      "19  14.99\n",
      "20   9.99\n",
      "21   7.99\n",
      "22   7.99\n",
      "23   4.99\n",
      "24   9.99\n",
      "25   7.99\n",
      "26   3.99\n",
      "27   7.99\n",
      "28   2.99\n",
      "29   9.99\n",
      "30  14.99\n",
      "31   7.99\n",
      "32  24.99\n",
      "33  29.99\n",
      "34   4.99\n",
      "35  19.99\n",
      "36   2.99\n",
      "37  14.99\n",
      "38   6.99\n",
      "39   6.99\n",
      "40   6.99\n",
      "41     99\n",
      "42  54.99\n",
      "43   6.99\n",
      "44   4.99\n",
      "45   7.99\n",
      "46   3.99\n",
      "47   6.99\n",
      "48   4.99\n",
      "49   2.99\n",
      "50   4.99\n",
      "51   6.99\n",
      "52   2.99\n",
      "53  34.99\n",
      "54   7.99\n",
      "55  34.99\n",
      "56   2.99\n",
      "57  14.99\n",
      "58   5.99\n",
      "59  12.99\n",
      "        0\n",
      "0   59.99\n",
      "1    6.99\n",
      "2    7.99\n",
      "3    6.99\n",
      "4   17.99\n",
      "5    3.99\n",
      "6    7.99\n",
      "7    7.99\n",
      "8    9.99\n",
      "9   27.99\n",
      "10   2.99\n",
      "11   2.99\n",
      "12   9.99\n",
      "13  39.99\n",
      "14  39.99\n",
      "15   7.99\n",
      "16  19.99\n",
      "17   2.99\n",
      "18   7.99\n",
      "19  14.99\n",
      "20   9.99\n",
      "21   7.99\n",
      "22   7.99\n",
      "23   4.99\n",
      "24   9.99\n",
      "25   7.99\n",
      "26   3.99\n",
      "27   7.99\n",
      "28   2.99\n",
      "29   9.99\n",
      "30  14.99\n",
      "31   7.99\n",
      "32  24.99\n",
      "33  29.99\n",
      "34   4.99\n",
      "35  19.99\n",
      "36   2.99\n",
      "37  14.99\n",
      "38   6.99\n",
      "39   6.99\n",
      "40   6.99\n",
      "41     99\n",
      "42  54.99\n",
      "43   6.99\n",
      "44   4.99\n",
      "45   7.99\n",
      "46   3.99\n",
      "47   6.99\n",
      "48   4.99\n",
      "49   2.99\n",
      "50   4.99\n",
      "51   6.99\n",
      "52   2.99\n",
      "53  34.99\n",
      "54   7.99\n",
      "55  34.99\n",
      "56   2.99\n",
      "57  14.99\n",
      "58   5.99\n",
      "59  12.99\n",
      "        0\n",
      "0   59.99\n",
      "1    6.99\n",
      "2    7.99\n",
      "3    6.99\n",
      "4   17.99\n",
      "5    3.99\n",
      "6    7.99\n",
      "7    7.99\n",
      "8    9.99\n",
      "9   27.99\n",
      "10   2.99\n",
      "11   2.99\n",
      "12   9.99\n",
      "13  39.99\n",
      "14  39.99\n",
      "15   7.99\n",
      "16  19.99\n",
      "17   2.99\n",
      "18   7.99\n",
      "19  14.99\n",
      "20   9.99\n",
      "21   7.99\n",
      "22   7.99\n",
      "23   4.99\n",
      "24   9.99\n",
      "25   7.99\n",
      "26   3.99\n",
      "27   7.99\n",
      "28   2.99\n",
      "29   9.99\n",
      "30  14.99\n",
      "31   7.99\n",
      "32  24.99\n",
      "33  29.99\n",
      "34   4.99\n",
      "35  19.99\n",
      "36   2.99\n",
      "37  14.99\n",
      "38   6.99\n",
      "39   6.99\n",
      "40   6.99\n",
      "41     99\n",
      "42  54.99\n",
      "43   6.99\n",
      "44   4.99\n",
      "45   7.99\n",
      "46   3.99\n",
      "47   6.99\n",
      "48   4.99\n",
      "49   2.99\n",
      "50   4.99\n",
      "51   6.99\n",
      "52   2.99\n",
      "53  34.99\n",
      "54   7.99\n",
      "55  34.99\n",
      "56   2.99\n",
      "57  14.99\n",
      "58   5.99\n",
      "59  12.99\n"
     ]
    }
   ],
   "source": [
    "for price in df:\n",
    "    price_discounted = df.price.str.extract(r\"^[$](\\d*[.]*\\d*)\\b\")\n",
    "    print(price_discounted)\n",
    "    df['price_discounted'] = price_discounted"
   ]
  },
  {
   "cell_type": "code",
   "execution_count": 5,
   "metadata": {},
   "outputs": [
    {
     "name": "stdout",
     "output_type": "stream",
     "text": [
      "        0\n",
      "0     129\n",
      "1   17.99\n",
      "2   17.99\n",
      "3   12.99\n",
      "4   24.99\n",
      "5    9.99\n",
      "6   17.99\n",
      "7   17.99\n",
      "8   17.99\n",
      "9   34.99\n",
      "10   5.99\n",
      "11   5.99\n",
      "12  12.99\n",
      "13  49.99\n",
      "14  49.99\n",
      "15  17.99\n",
      "16  29.99\n",
      "17   5.99\n",
      "18  17.99\n",
      "19  24.99\n",
      "20  24.99\n",
      "21  12.99\n",
      "22  17.99\n",
      "23   9.99\n",
      "24  12.99\n",
      "25  17.99\n",
      "26   6.99\n",
      "27  17.99\n",
      "28   6.99\n",
      "29  12.99\n",
      "30  34.99\n",
      "31  17.99\n",
      "32  49.99\n",
      "33  79.99\n",
      "34  12.99\n",
      "35  24.99\n",
      "36   5.99\n",
      "37  34.99\n",
      "38  17.99\n",
      "39  17.99\n",
      "40  17.99\n",
      "41    199\n",
      "42     99\n",
      "43  17.99\n",
      "44  12.99\n",
      "45  17.99\n",
      "46   9.99\n",
      "47  17.99\n",
      "48  12.99\n",
      "49   5.99\n",
      "50   9.99\n",
      "51  12.99\n",
      "52   5.99\n",
      "53  79.99\n",
      "54  17.99\n",
      "55  79.99\n",
      "56   5.99\n",
      "57  24.99\n",
      "58  12.99\n",
      "59  17.99\n",
      "        0\n",
      "0     129\n",
      "1   17.99\n",
      "2   17.99\n",
      "3   12.99\n",
      "4   24.99\n",
      "5    9.99\n",
      "6   17.99\n",
      "7   17.99\n",
      "8   17.99\n",
      "9   34.99\n",
      "10   5.99\n",
      "11   5.99\n",
      "12  12.99\n",
      "13  49.99\n",
      "14  49.99\n",
      "15  17.99\n",
      "16  29.99\n",
      "17   5.99\n",
      "18  17.99\n",
      "19  24.99\n",
      "20  24.99\n",
      "21  12.99\n",
      "22  17.99\n",
      "23   9.99\n",
      "24  12.99\n",
      "25  17.99\n",
      "26   6.99\n",
      "27  17.99\n",
      "28   6.99\n",
      "29  12.99\n",
      "30  34.99\n",
      "31  17.99\n",
      "32  49.99\n",
      "33  79.99\n",
      "34  12.99\n",
      "35  24.99\n",
      "36   5.99\n",
      "37  34.99\n",
      "38  17.99\n",
      "39  17.99\n",
      "40  17.99\n",
      "41    199\n",
      "42     99\n",
      "43  17.99\n",
      "44  12.99\n",
      "45  17.99\n",
      "46   9.99\n",
      "47  17.99\n",
      "48  12.99\n",
      "49   5.99\n",
      "50   9.99\n",
      "51  12.99\n",
      "52   5.99\n",
      "53  79.99\n",
      "54  17.99\n",
      "55  79.99\n",
      "56   5.99\n",
      "57  24.99\n",
      "58  12.99\n",
      "59  17.99\n",
      "        0\n",
      "0     129\n",
      "1   17.99\n",
      "2   17.99\n",
      "3   12.99\n",
      "4   24.99\n",
      "5    9.99\n",
      "6   17.99\n",
      "7   17.99\n",
      "8   17.99\n",
      "9   34.99\n",
      "10   5.99\n",
      "11   5.99\n",
      "12  12.99\n",
      "13  49.99\n",
      "14  49.99\n",
      "15  17.99\n",
      "16  29.99\n",
      "17   5.99\n",
      "18  17.99\n",
      "19  24.99\n",
      "20  24.99\n",
      "21  12.99\n",
      "22  17.99\n",
      "23   9.99\n",
      "24  12.99\n",
      "25  17.99\n",
      "26   6.99\n",
      "27  17.99\n",
      "28   6.99\n",
      "29  12.99\n",
      "30  34.99\n",
      "31  17.99\n",
      "32  49.99\n",
      "33  79.99\n",
      "34  12.99\n",
      "35  24.99\n",
      "36   5.99\n",
      "37  34.99\n",
      "38  17.99\n",
      "39  17.99\n",
      "40  17.99\n",
      "41    199\n",
      "42     99\n",
      "43  17.99\n",
      "44  12.99\n",
      "45  17.99\n",
      "46   9.99\n",
      "47  17.99\n",
      "48  12.99\n",
      "49   5.99\n",
      "50   9.99\n",
      "51  12.99\n",
      "52   5.99\n",
      "53  79.99\n",
      "54  17.99\n",
      "55  79.99\n",
      "56   5.99\n",
      "57  24.99\n",
      "58  12.99\n",
      "59  17.99\n",
      "        0\n",
      "0     129\n",
      "1   17.99\n",
      "2   17.99\n",
      "3   12.99\n",
      "4   24.99\n",
      "5    9.99\n",
      "6   17.99\n",
      "7   17.99\n",
      "8   17.99\n",
      "9   34.99\n",
      "10   5.99\n",
      "11   5.99\n",
      "12  12.99\n",
      "13  49.99\n",
      "14  49.99\n",
      "15  17.99\n",
      "16  29.99\n",
      "17   5.99\n",
      "18  17.99\n",
      "19  24.99\n",
      "20  24.99\n",
      "21  12.99\n",
      "22  17.99\n",
      "23   9.99\n",
      "24  12.99\n",
      "25  17.99\n",
      "26   6.99\n",
      "27  17.99\n",
      "28   6.99\n",
      "29  12.99\n",
      "30  34.99\n",
      "31  17.99\n",
      "32  49.99\n",
      "33  79.99\n",
      "34  12.99\n",
      "35  24.99\n",
      "36   5.99\n",
      "37  34.99\n",
      "38  17.99\n",
      "39  17.99\n",
      "40  17.99\n",
      "41    199\n",
      "42     99\n",
      "43  17.99\n",
      "44  12.99\n",
      "45  17.99\n",
      "46   9.99\n",
      "47  17.99\n",
      "48  12.99\n",
      "49   5.99\n",
      "50   9.99\n",
      "51  12.99\n",
      "52   5.99\n",
      "53  79.99\n",
      "54  17.99\n",
      "55  79.99\n",
      "56   5.99\n",
      "57  24.99\n",
      "58  12.99\n",
      "59  17.99\n"
     ]
    }
   ],
   "source": [
    "for price in df:\n",
    "    price_original = df.price.str.extract(r\" [$](\\d*[.]*\\d*)$\")\n",
    "    print(price_original)\n",
    "    df['price_original'] = price_original"
   ]
  },
  {
   "cell_type": "code",
   "execution_count": 6,
   "metadata": {},
   "outputs": [
    {
     "data": {
      "text/html": [
       "<div>\n",
       "<style scoped>\n",
       "    .dataframe tbody tr th:only-of-type {\n",
       "        vertical-align: middle;\n",
       "    }\n",
       "\n",
       "    .dataframe tbody tr th {\n",
       "        vertical-align: top;\n",
       "    }\n",
       "\n",
       "    .dataframe thead th {\n",
       "        text-align: right;\n",
       "    }\n",
       "</style>\n",
       "<table border=\"1\" class=\"dataframe\">\n",
       "  <thead>\n",
       "    <tr style=\"text-align: right;\">\n",
       "      <th></th>\n",
       "      <th>name</th>\n",
       "      <th>price</th>\n",
       "      <th>url</th>\n",
       "      <th>price_discounted</th>\n",
       "      <th>price_original</th>\n",
       "    </tr>\n",
       "  </thead>\n",
       "  <tbody>\n",
       "    <tr>\n",
       "      <th>0</th>\n",
       "      <td>Washed Linen Duvet Cover Set</td>\n",
       "      <td>$59.99 $129</td>\n",
       "      <td>http://www.hm.com/us/product/13472?article=13472-N</td>\n",
       "      <td>59.99</td>\n",
       "      <td>129</td>\n",
       "    </tr>\n",
       "    <tr>\n",
       "      <th>1</th>\n",
       "      <td>Candle in Glass Jar</td>\n",
       "      <td>$6.99 $17.99</td>\n",
       "      <td>http://www.hm.com/us/product/35079?article=35079-D</td>\n",
       "      <td>6.99</td>\n",
       "      <td>17.99</td>\n",
       "    </tr>\n",
       "    <tr>\n",
       "      <th>2</th>\n",
       "      <td>Glittery Cushion Cover</td>\n",
       "      <td>$7.99 $17.99</td>\n",
       "      <td>http://www.hm.com/us/product/72462?article=72462-A</td>\n",
       "      <td>7.99</td>\n",
       "      <td>17.99</td>\n",
       "    </tr>\n",
       "    <tr>\n",
       "      <th>3</th>\n",
       "      <td>Textured-weave Cushion Cover</td>\n",
       "      <td>$6.99 $12.99</td>\n",
       "      <td>http://www.hm.com/us/product/58926?article=58926-C</td>\n",
       "      <td>6.99</td>\n",
       "      <td>12.99</td>\n",
       "    </tr>\n",
       "    <tr>\n",
       "      <th>4</th>\n",
       "      <td>Stoneware Bowl</td>\n",
       "      <td>$17.99 $24.99</td>\n",
       "      <td>http://www.hm.com/us/product/74242?article=74242-A</td>\n",
       "      <td>17.99</td>\n",
       "      <td>24.99</td>\n",
       "    </tr>\n",
       "  </tbody>\n",
       "</table>\n",
       "</div>"
      ],
      "text/plain": [
       "                           name          price  \\\n",
       "0  Washed Linen Duvet Cover Set    $59.99 $129   \n",
       "1           Candle in Glass Jar   $6.99 $17.99   \n",
       "2        Glittery Cushion Cover   $7.99 $17.99   \n",
       "3  Textured-weave Cushion Cover   $6.99 $12.99   \n",
       "4                Stoneware Bowl  $17.99 $24.99   \n",
       "\n",
       "                                                  url price_discounted  \\\n",
       "0  http://www.hm.com/us/product/13472?article=13472-N            59.99   \n",
       "1  http://www.hm.com/us/product/35079?article=35079-D             6.99   \n",
       "2  http://www.hm.com/us/product/72462?article=72462-A             7.99   \n",
       "3  http://www.hm.com/us/product/58926?article=58926-C             6.99   \n",
       "4  http://www.hm.com/us/product/74242?article=74242-A            17.99   \n",
       "\n",
       "  price_original  \n",
       "0            129  \n",
       "1          17.99  \n",
       "2          17.99  \n",
       "3          12.99  \n",
       "4          24.99  "
      ]
     },
     "execution_count": 6,
     "metadata": {},
     "output_type": "execute_result"
    }
   ],
   "source": [
    "df.head()"
   ]
  },
  {
   "cell_type": "code",
   "execution_count": 7,
   "metadata": {},
   "outputs": [],
   "source": [
    "df['price_discounted'] = df.price_discounted.astype(float)"
   ]
  },
  {
   "cell_type": "code",
   "execution_count": 8,
   "metadata": {},
   "outputs": [],
   "source": [
    "df['price_original'] = df.price_original.astype(float)"
   ]
  },
  {
   "cell_type": "code",
   "execution_count": 14,
   "metadata": {},
   "outputs": [],
   "source": [
    "for row in df:\n",
    "    difference = df.price_original - df.price_discounted\n",
    "    pct_discount = difference / df.price_original\n",
    "    df['pct_discount'] = pct_discount * 100"
   ]
  },
  {
   "cell_type": "code",
   "execution_count": 15,
   "metadata": {},
   "outputs": [],
   "source": [
    "df['pct_discount'] = df.pct_discount.round()"
   ]
  },
  {
   "cell_type": "code",
   "execution_count": 16,
   "metadata": {},
   "outputs": [
    {
     "data": {
      "text/html": [
       "<div>\n",
       "<style scoped>\n",
       "    .dataframe tbody tr th:only-of-type {\n",
       "        vertical-align: middle;\n",
       "    }\n",
       "\n",
       "    .dataframe tbody tr th {\n",
       "        vertical-align: top;\n",
       "    }\n",
       "\n",
       "    .dataframe thead th {\n",
       "        text-align: right;\n",
       "    }\n",
       "</style>\n",
       "<table border=\"1\" class=\"dataframe\">\n",
       "  <thead>\n",
       "    <tr style=\"text-align: right;\">\n",
       "      <th></th>\n",
       "      <th>name</th>\n",
       "      <th>price</th>\n",
       "      <th>url</th>\n",
       "      <th>price_discounted</th>\n",
       "      <th>price_original</th>\n",
       "      <th>pct_discount</th>\n",
       "    </tr>\n",
       "  </thead>\n",
       "  <tbody>\n",
       "    <tr>\n",
       "      <th>0</th>\n",
       "      <td>Washed Linen Duvet Cover Set</td>\n",
       "      <td>$59.99 $129</td>\n",
       "      <td>http://www.hm.com/us/product/13472?article=13472-N</td>\n",
       "      <td>59.99</td>\n",
       "      <td>129.00</td>\n",
       "      <td>53.0</td>\n",
       "    </tr>\n",
       "    <tr>\n",
       "      <th>1</th>\n",
       "      <td>Candle in Glass Jar</td>\n",
       "      <td>$6.99 $17.99</td>\n",
       "      <td>http://www.hm.com/us/product/35079?article=35079-D</td>\n",
       "      <td>6.99</td>\n",
       "      <td>17.99</td>\n",
       "      <td>61.0</td>\n",
       "    </tr>\n",
       "    <tr>\n",
       "      <th>2</th>\n",
       "      <td>Glittery Cushion Cover</td>\n",
       "      <td>$7.99 $17.99</td>\n",
       "      <td>http://www.hm.com/us/product/72462?article=72462-A</td>\n",
       "      <td>7.99</td>\n",
       "      <td>17.99</td>\n",
       "      <td>56.0</td>\n",
       "    </tr>\n",
       "    <tr>\n",
       "      <th>3</th>\n",
       "      <td>Textured-weave Cushion Cover</td>\n",
       "      <td>$6.99 $12.99</td>\n",
       "      <td>http://www.hm.com/us/product/58926?article=58926-C</td>\n",
       "      <td>6.99</td>\n",
       "      <td>12.99</td>\n",
       "      <td>46.0</td>\n",
       "    </tr>\n",
       "    <tr>\n",
       "      <th>4</th>\n",
       "      <td>Stoneware Bowl</td>\n",
       "      <td>$17.99 $24.99</td>\n",
       "      <td>http://www.hm.com/us/product/74242?article=74242-A</td>\n",
       "      <td>17.99</td>\n",
       "      <td>24.99</td>\n",
       "      <td>28.0</td>\n",
       "    </tr>\n",
       "  </tbody>\n",
       "</table>\n",
       "</div>"
      ],
      "text/plain": [
       "                           name          price  \\\n",
       "0  Washed Linen Duvet Cover Set    $59.99 $129   \n",
       "1           Candle in Glass Jar   $6.99 $17.99   \n",
       "2        Glittery Cushion Cover   $7.99 $17.99   \n",
       "3  Textured-weave Cushion Cover   $6.99 $12.99   \n",
       "4                Stoneware Bowl  $17.99 $24.99   \n",
       "\n",
       "                                                  url  price_discounted  \\\n",
       "0  http://www.hm.com/us/product/13472?article=13472-N             59.99   \n",
       "1  http://www.hm.com/us/product/35079?article=35079-D              6.99   \n",
       "2  http://www.hm.com/us/product/72462?article=72462-A              7.99   \n",
       "3  http://www.hm.com/us/product/58926?article=58926-C              6.99   \n",
       "4  http://www.hm.com/us/product/74242?article=74242-A             17.99   \n",
       "\n",
       "   price_original  pct_discount  \n",
       "0          129.00          53.0  \n",
       "1           17.99          61.0  \n",
       "2           17.99          56.0  \n",
       "3           12.99          46.0  \n",
       "4           24.99          28.0  "
      ]
     },
     "execution_count": 16,
     "metadata": {},
     "output_type": "execute_result"
    }
   ],
   "source": [
    "df.to_csv(\"superfund-redevelopment-focus-list-updated.csv\", index=False)"
   ]
  },
  {
   "cell_type": "code",
   "execution_count": 17,
   "metadata": {},
   "outputs": [],
   "source": [
    "for row in df:\n",
    "    df['article_id'] = df.url.str.extract(r\"article=(.*)$\")\n",
    "    "
   ]
  },
  {
   "cell_type": "code",
   "execution_count": 19,
   "metadata": {},
   "outputs": [],
   "source": [
    "df.to_csv(\"hm_cleaned.csv\", index=False)"
   ]
  },
  {
   "cell_type": "markdown",
   "metadata": {},
   "source": [
    "## 1.2 Sci-Fi Authors\n",
    "\n",
    "Open up `sci-fi.csv` to clean. Get rid of the `\\n` on the title and and give me six new columns:\n",
    "\n",
    "* `avg_rating`\n",
    "* `rating_count`\n",
    "* `total_score`\n",
    "* `score_votes`\n",
    "* `series` the series the book belongs to\n",
    "* `series_no` the book in the series that it is\n",
    "\n",
    "For series, I'm talking about e.g. `(The Hunger Games, #1)` is `series` \"The Hunter Games\" and `series_no` 1.\n",
    "\n",
    "Save as **sci-fi_cleaned.csv**.\n",
    "\n",
    "**Tip:** You don't need regex to clean the title - there's a special thing that removes whitespace from the beginning/end of strings\n",
    "\n",
    "**Tip:** Remember that `(` and `)` are special characters\n",
    "\n",
    "**BONUS:** When you make the `total_score` column, pay close attention to it. If you notice the problem, fix it.\n",
    "\n",
    "**BONUS:** You don't need these columns to be numbers, but life would be better if they were. "
   ]
  },
  {
   "cell_type": "code",
   "execution_count": 21,
   "metadata": {},
   "outputs": [
    {
     "data": {
      "text/html": [
       "<div>\n",
       "<style scoped>\n",
       "    .dataframe tbody tr th:only-of-type {\n",
       "        vertical-align: middle;\n",
       "    }\n",
       "\n",
       "    .dataframe tbody tr th {\n",
       "        vertical-align: top;\n",
       "    }\n",
       "\n",
       "    .dataframe thead th {\n",
       "        text-align: right;\n",
       "    }\n",
       "</style>\n",
       "<table border=\"1\" class=\"dataframe\">\n",
       "  <thead>\n",
       "    <tr style=\"text-align: right;\">\n",
       "      <th></th>\n",
       "      <th>full_rating</th>\n",
       "      <th>full_score</th>\n",
       "      <th>rank</th>\n",
       "      <th>title</th>\n",
       "      <th>url</th>\n",
       "    </tr>\n",
       "  </thead>\n",
       "  <tbody>\n",
       "    <tr>\n",
       "      <th>0</th>\n",
       "      <td>4.07 avg rating — 785,502 ratings</td>\n",
       "      <td>\\nscore: 28,539,\\n              and\\n292 people voted\\n               \\n              \\n</td>\n",
       "      <td>1</td>\n",
       "      <td>\\nThe Handmaid's Tale\\n</td>\n",
       "      <td>/book/show/38447.The_Handmaid_s_Tale</td>\n",
       "    </tr>\n",
       "    <tr>\n",
       "      <th>1</th>\n",
       "      <td>4.34 avg rating — 5,212,935 ratings</td>\n",
       "      <td>\\nscore: 27,566,\\n              and\\n282 people voted\\n               \\n              \\n</td>\n",
       "      <td>2</td>\n",
       "      <td>\\nThe Hunger Games (The Hunger Games, #1)\\n</td>\n",
       "      <td>/book/show/2767052-the-hunger-games</td>\n",
       "    </tr>\n",
       "    <tr>\n",
       "      <th>2</th>\n",
       "      <td>3.76 avg rating — 922,308 ratings</td>\n",
       "      <td>\\nscore: 20,049,\\n              and\\n205 people voted\\n               \\n              \\n</td>\n",
       "      <td>3</td>\n",
       "      <td>\\nFrankenstein, or The Modern Prometheus\\n</td>\n",
       "      <td>/book/show/18490.Frankenstein_or_The_Modern_Prometheus</td>\n",
       "    </tr>\n",
       "    <tr>\n",
       "      <th>3</th>\n",
       "      <td>4.04 avg rating — 702,272 ratings</td>\n",
       "      <td>\\nscore: 17,684,\\n              and\\n185 people voted\\n               \\n              \\n</td>\n",
       "      <td>4</td>\n",
       "      <td>\\nA Wrinkle in Time (A Wrinkle in Time Quintet, #1)\\n</td>\n",
       "      <td>/book/show/18131.A_Wrinkle_in_Time</td>\n",
       "    </tr>\n",
       "    <tr>\n",
       "      <th>4</th>\n",
       "      <td>4.06 avg rating — 77,664 ratings</td>\n",
       "      <td>\\nscore: 16,070,\\n              and\\n165 people voted\\n               \\n              \\n</td>\n",
       "      <td>5</td>\n",
       "      <td>\\nThe Left Hand of Darkness\\n</td>\n",
       "      <td>/book/show/18423.The_Left_Hand_of_Darkness</td>\n",
       "    </tr>\n",
       "  </tbody>\n",
       "</table>\n",
       "</div>"
      ],
      "text/plain": [
       "                            full_rating  \\\n",
       "0     4.07 avg rating — 785,502 ratings   \n",
       "1   4.34 avg rating — 5,212,935 ratings   \n",
       "2     3.76 avg rating — 922,308 ratings   \n",
       "3     4.04 avg rating — 702,272 ratings   \n",
       "4      4.06 avg rating — 77,664 ratings   \n",
       "\n",
       "                                                                                             full_score  \\\n",
       "0  \\nscore: 28,539,\\n              and\\n292 people voted\\n               \\n              \\n               \n",
       "1  \\nscore: 27,566,\\n              and\\n282 people voted\\n               \\n              \\n               \n",
       "2  \\nscore: 20,049,\\n              and\\n205 people voted\\n               \\n              \\n               \n",
       "3  \\nscore: 17,684,\\n              and\\n185 people voted\\n               \\n              \\n               \n",
       "4  \\nscore: 16,070,\\n              and\\n165 people voted\\n               \\n              \\n               \n",
       "\n",
       "   rank                                                  title  \\\n",
       "0     1                                \\nThe Handmaid's Tale\\n   \n",
       "1     2            \\nThe Hunger Games (The Hunger Games, #1)\\n   \n",
       "2     3             \\nFrankenstein, or The Modern Prometheus\\n   \n",
       "3     4  \\nA Wrinkle in Time (A Wrinkle in Time Quintet, #1)\\n   \n",
       "4     5                          \\nThe Left Hand of Darkness\\n   \n",
       "\n",
       "                                                      url  \n",
       "0                    /book/show/38447.The_Handmaid_s_Tale  \n",
       "1                     /book/show/2767052-the-hunger-games  \n",
       "2  /book/show/18490.Frankenstein_or_The_Modern_Prometheus  \n",
       "3                      /book/show/18131.A_Wrinkle_in_Time  \n",
       "4              /book/show/18423.The_Left_Hand_of_Darkness  "
      ]
     },
     "execution_count": 21,
     "metadata": {},
     "output_type": "execute_result"
    }
   ],
   "source": [
    "df = pd.read_csv(\"scraped/sci-fi.csv\")\n",
    "df.head()"
   ]
  },
  {
   "cell_type": "code",
   "execution_count": 23,
   "metadata": {},
   "outputs": [],
   "source": [
    "df.title = df.title.str.strip()"
   ]
  },
  {
   "cell_type": "code",
   "execution_count": 30,
   "metadata": {},
   "outputs": [],
   "source": [
    "for row in df:\n",
    "    df['avg_rating'] = df.full_rating.str.extract(r\"(\\d*[.]*\\d*) avg rating\")"
   ]
  },
  {
   "cell_type": "code",
   "execution_count": 32,
   "metadata": {},
   "outputs": [],
   "source": [
    "for row in df:\n",
    "    df['rating_count'] = df.full_rating.str.extract(r\"(\\d*[,]*\\d*[,]*\\d*[,]*[\\d]*) ratings\")"
   ]
  },
  {
   "cell_type": "code",
   "execution_count": 37,
   "metadata": {},
   "outputs": [],
   "source": [
    "for row in df:\n",
    "    df['total_score'] = df.full_score.str.extract(r\"score: (\\d*[,]*\\d*[,]*\\d*),\")"
   ]
  },
  {
   "cell_type": "code",
   "execution_count": 39,
   "metadata": {},
   "outputs": [],
   "source": [
    "for row in df:\n",
    "    df['score_votes'] = df.full_score.str.extract(r\"(\\d*) people\")"
   ]
  },
  {
   "cell_type": "code",
   "execution_count": 45,
   "metadata": {},
   "outputs": [],
   "source": [
    "for row in df:\n",
    "    df['series'] = df.title.str.extract(r\"[(](.*)[,]\")"
   ]
  },
  {
   "cell_type": "code",
   "execution_count": 48,
   "metadata": {},
   "outputs": [],
   "source": [
    "for row in df:\n",
    "    df['series_no'] = df.title.str.extract(r\"#(\\d*)[)]\")"
   ]
  },
  {
   "cell_type": "code",
   "execution_count": 50,
   "metadata": {},
   "outputs": [],
   "source": [
    "df.to_csv(\"sci-fi_cleaned.csv\", index=False)"
   ]
  },
  {
   "cell_type": "markdown",
   "metadata": {},
   "source": [
    "## 1.3 Where you're just doing one of my former students' projects\n",
    "\n",
    "Once upon a time my student Stefan did a project that involved some lawyer stuff. Most of the content was in PDFs, though! I converted them to text files and put them into the `pdfs` folder, and gave you code below to open up each of them and save their contents into a dataframe.\n",
    "\n",
    "What a nice dataframe! I want you to add the following columns to it:\n",
    "\n",
    "* `lawyer_app`, the applicant's lawyer (pro se means that they did it themselves, that's fine)\n",
    "* `lawyer_gov`, the government's lawyer\n",
    "* `judge`, the name of the judge\n",
    "* `access`, whether the clearance is granted or denied (although you might miss a few)\n",
    "\n",
    "Save as **court_cleaned.csv**.\n",
    "\n",
    "**Note:** You can look at the original PDFs, they're also included.\n",
    "\n",
    "**Note:** This uses a fun utility called `glob`, which is mostly fun because you use it as `glob.glob`. It's used to find files that match a certain filename pattern.\n",
    "\n",
    "**BONUS:** You'll be happy once you get the judge, but make sure it doesn't have any extra punctuation on it.\n",
    "\n",
    "**BONUS:** You can for some words using `.str.contains(\"blah\")` and save it into new columns. Maybe `has_debt`, `has_bankruptcy`, etc.\n",
    "\n",
    "> It's okay if it isn't perfect. Converting PDF into data rarely is! Usually you get 90% of it done with computers, then send people to enter the other 10% by hand."
   ]
  },
  {
   "cell_type": "code",
   "execution_count": 57,
   "metadata": {},
   "outputs": [],
   "source": [
    "import glob\n",
    "filenames = glob.glob(\"pdfs/*.txt\")\n",
    "contents = [open(filename, encoding=\"utf8\").read() for filename in filenames]\n",
    "df = pd.DataFrame({'filename': filenames, 'content': contents})\n",
    "pd.set_option('display.max_colwidth', 1000)"
   ]
  },
  {
   "cell_type": "code",
   "execution_count": 59,
   "metadata": {},
   "outputs": [
    {
     "data": {
      "text/html": [
       "<div>\n",
       "<style scoped>\n",
       "    .dataframe tbody tr th:only-of-type {\n",
       "        vertical-align: middle;\n",
       "    }\n",
       "\n",
       "    .dataframe tbody tr th {\n",
       "        vertical-align: top;\n",
       "    }\n",
       "\n",
       "    .dataframe thead th {\n",
       "        text-align: right;\n",
       "    }\n",
       "</style>\n",
       "<table border=\"1\" class=\"dataframe\">\n",
       "  <thead>\n",
       "    <tr style=\"text-align: right;\">\n",
       "      <th></th>\n",
       "      <th>filename</th>\n",
       "      <th>content</th>\n",
       "    </tr>\n",
       "  </thead>\n",
       "  <tbody>\n",
       "    <tr>\n",
       "      <th>0</th>\n",
       "      <td>pdfs/11-02438.h1.pdf.txt</td>\n",
       "      <td>\\n\\n                           DEPARTMENT OF DEFENSE \\n         DEFENSE OFFICE OF HEARINGS AND APPEALS \\n\\n           \\n             \\n\\n \\n \\nIn the matter of: \\n \\n \\n \\n \\nApplicant for Security Clearance \\n\\n \\n \\n\\n \\n\\nISCR Case No. 11-02438 \\n\\nFor Government: Stephanie C. Hess, Esq., Department Counsel \\n\\nFor Applicant: Pro se \\n\\nAppearances \\n\\n______________ \\n\\n \\nDecision \\n\\n______________ \\n\\n \\n\\n \\n\\n \\n\\n \\n \\n\\n \\n\\nCOACHER, Robert E., Administrative Judge: \\n\\n \\nApplicant has not mitigated the alcohol consumption security concerns. Eligibility \\n\\nfor access to classified information is denied.  \\n\\nStatement of the Case \\n\\nOn  June  16,  2015,  the  Department  of  Defense  Consolidated  Adjudications \\nFacility (DOD CAF) issued Applicant a Statement of Reasons (SOR) detailing security \\nconcerns  under  Guideline  G,  alcohol  consumption.  DOD  CAF  acted  under  Executive \\nOrder  (EO)  10865, ...</td>\n",
       "    </tr>\n",
       "  </tbody>\n",
       "</table>\n",
       "</div>"
      ],
      "text/plain": [
       "                   filename  \\\n",
       "0  pdfs/11-02438.h1.pdf.txt   \n",
       "\n",
       "                                                                                                                                                                                                                                                                                                                                                                                                                                                                                                                                                                                                                                                                                                                                                                                                                                                                                                                                                                                                                                   content  \n",
       "0                                                                \\n\\n                           DEPARTMENT OF DEFENSE \\n         DEFENSE OFFICE OF HEARINGS AND APPEALS \\n\\n           \\n             \\n\\n \\n \\nIn the matter of: \\n \\n \\n \\n \\nApplicant for Security Clearance \\n\\n \\n \\n\\n \\n\\nISCR Case No. 11-02438 \\n\\nFor Government: Stephanie C. Hess, Esq., Department Counsel \\n\\nFor Applicant: Pro se \\n\\nAppearances \\n\\n______________ \\n\\n \\nDecision \\n\\n______________ \\n\\n \\n\\n \\n\\n \\n\\n \\n \\n\\n \\n\\nCOACHER, Robert E., Administrative Judge: \\n\\n \\nApplicant has not mitigated the alcohol consumption security concerns. Eligibility \\n\\nfor access to classified information is denied.  \\n\\nStatement of the Case \\n\\nOn  June  16,  2015,  the  Department  of  Defense  Consolidated  Adjudications \\nFacility (DOD CAF) issued Applicant a Statement of Reasons (SOR) detailing security \\nconcerns  under  Guideline  G,  alcohol  consumption.  DOD  CAF  acted  under  Executive \\nOrder  (EO)  10865, ...  "
      ]
     },
     "execution_count": 59,
     "metadata": {},
     "output_type": "execute_result"
    }
   ],
   "source": [
    "df.head(1)"
   ]
  },
  {
   "cell_type": "markdown",
   "metadata": {
    "collapsed": true
   },
   "source": [
    "Okay, now do the work and **make those new columns!**"
   ]
  },
  {
   "cell_type": "code",
   "execution_count": 66,
   "metadata": {},
   "outputs": [],
   "source": [
    "for file in df:\n",
    "    df['lawyer_app'] = df.content.str.extract(r\"For Applicant:(.*)\\n\")"
   ]
  },
  {
   "cell_type": "code",
   "execution_count": 68,
   "metadata": {
    "scrolled": true
   },
   "outputs": [],
   "source": [
    "for file in df:\n",
    "    df['lawyer_gov'] = df.content.str.extract(r\"For Government: (.*)\\n\")"
   ]
  },
  {
   "cell_type": "code",
   "execution_count": 76,
   "metadata": {},
   "outputs": [],
   "source": [
    "for file in df:\n",
    "    df['judge'] = df.content.str.extract(r\"(.*), Administrative Judge:\")"
   ]
  },
  {
   "cell_type": "code",
   "execution_count": 77,
   "metadata": {},
   "outputs": [
    {
     "data": {
      "text/html": [
       "<div>\n",
       "<style scoped>\n",
       "    .dataframe tbody tr th:only-of-type {\n",
       "        vertical-align: middle;\n",
       "    }\n",
       "\n",
       "    .dataframe tbody tr th {\n",
       "        vertical-align: top;\n",
       "    }\n",
       "\n",
       "    .dataframe thead th {\n",
       "        text-align: right;\n",
       "    }\n",
       "</style>\n",
       "<table border=\"1\" class=\"dataframe\">\n",
       "  <thead>\n",
       "    <tr style=\"text-align: right;\">\n",
       "      <th></th>\n",
       "      <th>filename</th>\n",
       "      <th>content</th>\n",
       "      <th>lawyer_app</th>\n",
       "      <th>lawyer_gov</th>\n",
       "      <th>judge</th>\n",
       "    </tr>\n",
       "  </thead>\n",
       "  <tbody>\n",
       "    <tr>\n",
       "      <th>0</th>\n",
       "      <td>pdfs/11-02438.h1.pdf.txt</td>\n",
       "      <td>\\n\\n                           DEPARTMENT OF DEFENSE \\n         DEFENSE OFFICE OF HEARINGS AND APPEALS \\n\\n           \\n             \\n\\n \\n \\nIn the matter of: \\n \\n \\n \\n \\nApplicant for Security Clearance \\n\\n \\n \\n\\n \\n\\nISCR Case No. 11-02438 \\n\\nFor Government: Stephanie C. Hess, Esq., Department Counsel \\n\\nFor Applicant: Pro se \\n\\nAppearances \\n\\n______________ \\n\\n \\nDecision \\n\\n______________ \\n\\n \\n\\n \\n\\n \\n\\n \\n \\n\\n \\n\\nCOACHER, Robert E., Administrative Judge: \\n\\n \\nApplicant has not mitigated the alcohol consumption security concerns. Eligibility \\n\\nfor access to classified information is denied.  \\n\\nStatement of the Case \\n\\nOn  June  16,  2015,  the  Department  of  Defense  Consolidated  Adjudications \\nFacility (DOD CAF) issued Applicant a Statement of Reasons (SOR) detailing security \\nconcerns  under  Guideline  G,  alcohol  consumption.  DOD  CAF  acted  under  Executive \\nOrder  (EO)  10865, ...</td>\n",
       "      <td>Pro se</td>\n",
       "      <td>Stephanie C. Hess, Esq., Department Counsel</td>\n",
       "      <td>COACHER, Robert E.</td>\n",
       "    </tr>\n",
       "    <tr>\n",
       "      <th>1</th>\n",
       "      <td>pdfs/11-03073.h1.pdf.txt</td>\n",
       "      <td>\\n\\n                        DEPARTMENT OF DEFENSE \\n\\n         DEFENSE OFFICE OF HEARINGS AND APPEALS \\n\\n \\n \\nIn the matter of: \\n \\n \\n \\nApplicant for Security Clearance \\n\\n \\n\\n \\n\\nISCR Case No. 11-03073 \\n\\n           \\n             \\n\\n) \\n) \\n) \\n) \\n) \\n \\n \\n\\n \\n \\n\\nAppearances \\n\\n______________ \\n\\n \\nDecision \\n\\n______________ \\n\\n \\n\\n \\n\\n \\n\\n \\n \\n\\nFor Government: Robert J. Kilmartin, Esq., Department Counsel \\n\\nFor Applicant: Mark S. Zaid, Esq. \\n\\nLOUGHRAN, Edward W., Administrative Judge: \\n\\n \\nApplicant  mitigated  the  financial  considerations  security  concerns.  Eligibility  for \\n\\naccess to classified information is granted.  \\n \\n\\nStatement of the Case \\n\\nOn October 28, 2014, the Department of Defense (DOD) issued a Statement of \\nReasons  (SOR)  to  Applicant  detailing  security  concerns  under  Guideline  F,  financial \\nconsiderations. The action was taken under Executive Order...</td>\n",
       "      <td>Mark S. Zaid, Esq.</td>\n",
       "      <td>Robert J. Kilmartin, Esq., Department Counsel</td>\n",
       "      <td>LOUGHRAN, Edward W.</td>\n",
       "    </tr>\n",
       "    <tr>\n",
       "      <th>2</th>\n",
       "      <td>pdfs/11-04909.h1.pdf.txt</td>\n",
       "      <td>\\n\\n            DEFENSE OFFICE OF HEARINGS AND APPEALS \\n\\n    DEPARTMENT OF DEFENSE \\n\\n          \\n             \\n\\n \\n\\n \\nIn the matter of: \\n \\n \\n \\nApplicant for Security Clearance \\n\\n \\n \\n\\n \\n\\nISCR Case No. 11-04909 \\n\\n \\n\\nFor Government: Richard Stevens, Esq., Department Counsel \\n\\nFor Applicant: Pro se \\n\\n \\n\\n \\nDUFFY, James F., Administrative Judge: \\n\\n \\nApplicant  mitigated \\n\\nconsiderations). Clearance is granted. \\n\\nthe  security  concerns  under  Guideline  F  (financial \\n\\nStatement of the Case \\n\\nOn April 5, 2015, the Department of Defense (DOD) Consolidated Adjudications \\nFacility  (CAF)  issued  Applicant  a  Statement  of  Reasons  (SOR)  detailing  security \\nconcerns under Guideline F. DOD CAF took that action under Executive Order 10865, \\nSafeguarding  Classified  Information  Within  Industry,  dated  February  20,  1960,  as \\namended;  DOD  Directive  5220.6,  Defense  Industria...</td>\n",
       "      <td>Pro se</td>\n",
       "      <td>Richard Stevens, Esq., Department Counsel</td>\n",
       "      <td>DUFFY, James F.</td>\n",
       "    </tr>\n",
       "    <tr>\n",
       "      <th>3</th>\n",
       "      <td>pdfs/11-07728.h1.pdf.txt</td>\n",
       "      <td>DEPARTMENT OF DEFENSE \\n\\n       DEFENSE OFFICE OF HEARINGS AND APPEALS \\n\\n \\nIn the matter of: \\n \\n \\n \\nApplicant for Security Clearance  \\n\\n------------------------    \\n \\n\\n \\n\\nISCR Case No. 11-07728 \\n\\n           \\n             \\n\\n) \\n) \\n) \\n) \\n) \\n \\n \\n\\n \\n\\n \\n \\n\\nAppearances \\n\\n___________ \\n\\n \\nDecision \\n\\n___________ \\n\\nFor Government: Julie R. Mendez, Esq., Department Counsel \\n\\nFor Applicant: Mark S. Zaid, Esq. \\n\\n \\n\\nHARVEY, Mark, Administrative Judge: \\n \\nApplicant’s statement of reasons (SOR) alleges two allegations under Guideline \\n \\nK  (handling  protected  information)  and  five  allegations  under  Guideline  E  (personal \\nconduct).  All  allegations  relate  to  his  handling  of  confidential  data  in  December  2007 \\nand January 2008 and his participation in the follow-up investigation in 2009 and 2010. \\nApplicant was assured that “trusted downloads” provided by the Navy and Company L \\ndid not contain classified information, when...</td>\n",
       "      <td>Mark S. Zaid, Esq.</td>\n",
       "      <td>Julie R. Mendez, Esq., Department Counsel</td>\n",
       "      <td>HARVEY, Mark</td>\n",
       "    </tr>\n",
       "    <tr>\n",
       "      <th>4</th>\n",
       "      <td>pdfs/11-08313.h1.pdf.txt</td>\n",
       "      <td>\\n\\n                           DEPARTMENT OF DEFENSE \\n         DEFENSE OFFICE OF HEARINGS AND APPEALS \\n\\n \\n\\nISCR Case No. 11-08313 \\n\\n \\nIn the matter of: \\n \\n \\n \\nApplicant for Security Clearance \\n\\n--------------- \\n \\n\\n \\n\\n           \\n             \\n\\n) \\n) \\n) \\n) \\n) \\n \\n\\n \\n \\n\\nAppearances \\n\\n______________ \\n\\n \\nDecision \\n\\n______________ \\n\\nFor Government: Julie R. Mendez, Esquire, Department Counsel \\n\\nFor Applicant: Pro se \\n\\n \\n \\n\\n \\n\\nMARSHALL, Jr., Arthur E., Administrative Judge: \\n\\n \\n                                        Statement of the Case \\n \\nOn  April  4,  2014,  the  Department  of  Defense  (DOD)  issued  Applicant  a \\nStatement  of  Reasons  (SOR)  detailing  security  concerns  under  Guideline  B  (Foreign \\nInfluence) and Guideline E (Personal Conduct).1 In a response signed April 28, 2014, \\nApplicant admitted all allegations and requested a hearing based on the writte...</td>\n",
       "      <td>Pro se</td>\n",
       "      <td>Julie R. Mendez, Esquire, Department Counsel</td>\n",
       "      <td>MARSHALL, Jr., Arthur E.</td>\n",
       "    </tr>\n",
       "  </tbody>\n",
       "</table>\n",
       "</div>"
      ],
      "text/plain": [
       "                   filename  \\\n",
       "0  pdfs/11-02438.h1.pdf.txt   \n",
       "1  pdfs/11-03073.h1.pdf.txt   \n",
       "2  pdfs/11-04909.h1.pdf.txt   \n",
       "3  pdfs/11-07728.h1.pdf.txt   \n",
       "4  pdfs/11-08313.h1.pdf.txt   \n",
       "\n",
       "                                                                                                                                                                                                                                                                                                                                                                                                                                                                                                                                                                                                                                                                                                                                                                                                                                                                                                                                                                                                                                   content  \\\n",
       "0                                                                \\n\\n                           DEPARTMENT OF DEFENSE \\n         DEFENSE OFFICE OF HEARINGS AND APPEALS \\n\\n           \\n             \\n\\n \\n \\nIn the matter of: \\n \\n \\n \\n \\nApplicant for Security Clearance \\n\\n \\n \\n\\n \\n\\nISCR Case No. 11-02438 \\n\\nFor Government: Stephanie C. Hess, Esq., Department Counsel \\n\\nFor Applicant: Pro se \\n\\nAppearances \\n\\n______________ \\n\\n \\nDecision \\n\\n______________ \\n\\n \\n\\n \\n\\n \\n\\n \\n \\n\\n \\n\\nCOACHER, Robert E., Administrative Judge: \\n\\n \\nApplicant has not mitigated the alcohol consumption security concerns. Eligibility \\n\\nfor access to classified information is denied.  \\n\\nStatement of the Case \\n\\nOn  June  16,  2015,  the  Department  of  Defense  Consolidated  Adjudications \\nFacility (DOD CAF) issued Applicant a Statement of Reasons (SOR) detailing security \\nconcerns  under  Guideline  G,  alcohol  consumption.  DOD  CAF  acted  under  Executive \\nOrder  (EO)  10865, ...   \n",
       "1                                                                \\n\\n                        DEPARTMENT OF DEFENSE \\n\\n         DEFENSE OFFICE OF HEARINGS AND APPEALS \\n\\n \\n \\nIn the matter of: \\n \\n \\n \\nApplicant for Security Clearance \\n\\n \\n\\n \\n\\nISCR Case No. 11-03073 \\n\\n           \\n             \\n\\n) \\n) \\n) \\n) \\n) \\n \\n \\n\\n \\n \\n\\nAppearances \\n\\n______________ \\n\\n \\nDecision \\n\\n______________ \\n\\n \\n\\n \\n\\n \\n\\n \\n \\n\\nFor Government: Robert J. Kilmartin, Esq., Department Counsel \\n\\nFor Applicant: Mark S. Zaid, Esq. \\n\\nLOUGHRAN, Edward W., Administrative Judge: \\n\\n \\nApplicant  mitigated  the  financial  considerations  security  concerns.  Eligibility  for \\n\\naccess to classified information is granted.  \\n \\n\\nStatement of the Case \\n\\nOn October 28, 2014, the Department of Defense (DOD) issued a Statement of \\nReasons  (SOR)  to  Applicant  detailing  security  concerns  under  Guideline  F,  financial \\nconsiderations. The action was taken under Executive Order...   \n",
       "2                                                                \\n\\n            DEFENSE OFFICE OF HEARINGS AND APPEALS \\n\\n    DEPARTMENT OF DEFENSE \\n\\n          \\n             \\n\\n \\n\\n \\nIn the matter of: \\n \\n \\n \\nApplicant for Security Clearance \\n\\n \\n \\n\\n \\n\\nISCR Case No. 11-04909 \\n\\n \\n\\nFor Government: Richard Stevens, Esq., Department Counsel \\n\\nFor Applicant: Pro se \\n\\n \\n\\n \\nDUFFY, James F., Administrative Judge: \\n\\n \\nApplicant  mitigated \\n\\nconsiderations). Clearance is granted. \\n\\nthe  security  concerns  under  Guideline  F  (financial \\n\\nStatement of the Case \\n\\nOn April 5, 2015, the Department of Defense (DOD) Consolidated Adjudications \\nFacility  (CAF)  issued  Applicant  a  Statement  of  Reasons  (SOR)  detailing  security \\nconcerns under Guideline F. DOD CAF took that action under Executive Order 10865, \\nSafeguarding  Classified  Information  Within  Industry,  dated  February  20,  1960,  as \\namended;  DOD  Directive  5220.6,  Defense  Industria...   \n",
       "3     DEPARTMENT OF DEFENSE \\n\\n       DEFENSE OFFICE OF HEARINGS AND APPEALS \\n\\n \\nIn the matter of: \\n \\n \\n \\nApplicant for Security Clearance  \\n\\n------------------------    \\n \\n\\n \\n\\nISCR Case No. 11-07728 \\n\\n           \\n             \\n\\n) \\n) \\n) \\n) \\n) \\n \\n \\n\\n \\n\\n \\n \\n\\nAppearances \\n\\n___________ \\n\\n \\nDecision \\n\\n___________ \\n\\nFor Government: Julie R. Mendez, Esq., Department Counsel \\n\\nFor Applicant: Mark S. Zaid, Esq. \\n\\n \\n\\nHARVEY, Mark, Administrative Judge: \\n \\nApplicant’s statement of reasons (SOR) alleges two allegations under Guideline \\n \\nK  (handling  protected  information)  and  five  allegations  under  Guideline  E  (personal \\nconduct).  All  allegations  relate  to  his  handling  of  confidential  data  in  December  2007 \\nand January 2008 and his participation in the follow-up investigation in 2009 and 2010. \\nApplicant was assured that “trusted downloads” provided by the Navy and Company L \\ndid not contain classified information, when...   \n",
       "4                                                              \\n\\n                           DEPARTMENT OF DEFENSE \\n         DEFENSE OFFICE OF HEARINGS AND APPEALS \\n\\n \\n\\nISCR Case No. 11-08313 \\n\\n \\nIn the matter of: \\n \\n \\n \\nApplicant for Security Clearance \\n\\n--------------- \\n \\n\\n \\n\\n           \\n             \\n\\n) \\n) \\n) \\n) \\n) \\n \\n\\n \\n \\n\\nAppearances \\n\\n______________ \\n\\n \\nDecision \\n\\n______________ \\n\\nFor Government: Julie R. Mendez, Esquire, Department Counsel \\n\\nFor Applicant: Pro se \\n\\n \\n \\n\\n \\n\\nMARSHALL, Jr., Arthur E., Administrative Judge: \\n\\n \\n                                        Statement of the Case \\n \\nOn  April  4,  2014,  the  Department  of  Defense  (DOD)  issued  Applicant  a \\nStatement  of  Reasons  (SOR)  detailing  security  concerns  under  Guideline  B  (Foreign \\nInfluence) and Guideline E (Personal Conduct).1 In a response signed April 28, 2014, \\nApplicant admitted all allegations and requested a hearing based on the writte...   \n",
       "\n",
       "             lawyer_app                                      lawyer_gov  \\\n",
       "0               Pro se     Stephanie C. Hess, Esq., Department Counsel    \n",
       "1   Mark S. Zaid, Esq.   Robert J. Kilmartin, Esq., Department Counsel    \n",
       "2               Pro se       Richard Stevens, Esq., Department Counsel    \n",
       "3   Mark S. Zaid, Esq.       Julie R. Mendez, Esq., Department Counsel    \n",
       "4               Pro se    Julie R. Mendez, Esquire, Department Counsel    \n",
       "\n",
       "                      judge  \n",
       "0        COACHER, Robert E.  \n",
       "1       LOUGHRAN, Edward W.  \n",
       "2           DUFFY, James F.  \n",
       "3              HARVEY, Mark  \n",
       "4  MARSHALL, Jr., Arthur E.  "
      ]
     },
     "execution_count": 77,
     "metadata": {},
     "output_type": "execute_result"
    }
   ],
   "source": [
    "df.to_csv(\"sci-fi_cleaned.csv\", index=False)"
   ]
  },
  {
   "cell_type": "code",
   "execution_count": 78,
   "metadata": {},
   "outputs": [],
   "source": [
    "for file in df:\n",
    "    df['access'] = df.content.str.extract(r\"access to classified information is (.*)[.]\")"
   ]
  },
  {
   "cell_type": "code",
   "execution_count": 80,
   "metadata": {},
   "outputs": [],
   "source": [
    "df.to_csv(\"court_cleaned.csv\", index=False)"
   ]
  },
  {
   "cell_type": "markdown",
   "metadata": {},
   "source": [
    "# Reading books\n",
    "\n",
    "When you're doing text work, you're legally obligated work on Jane Austen's Pride and Prejudice (at least I *think* so). Let's do some naive analysis of it!\n",
    "\n",
    "## Read in Jane Austen's Pride and Prejudice (without moving the file!)\n",
    "\n",
    "It's in the `data/` directory, and named `Austen_Pride.txt`."
   ]
  },
  {
   "cell_type": "code",
   "execution_count": 81,
   "metadata": {},
   "outputs": [],
   "source": [
    "f = open('data/Austen_Pride.txt', 'r')\n",
    "book = f.read()"
   ]
  },
  {
   "cell_type": "markdown",
   "metadata": {},
   "source": [
    "## Look at the first 500 or so characters of it "
   ]
  },
  {
   "cell_type": "code",
   "execution_count": 82,
   "metadata": {},
   "outputs": [
    {
     "data": {
      "text/plain": [
       "' Pride and Prejudice\\nby Jane Austen\\nChapter 1\\nIt is a truth universally acknowledged, that a single man in possession of a good fortune, must be in want of a wife.\\nHowever little known the feelings or views of such a man may be on his first entering a neighbourhood, this truth is so well fixed in the minds of the surrounding families, that he is considered the rightful property of some one or other of their daughters.\\n\"My dear Mr. Bennet,\" said his lady to him one day, \"have you heard that Nethe'"
      ]
     },
     "execution_count": 82,
     "metadata": {},
     "output_type": "execute_result"
    }
   ],
   "source": [
    "book[:500]"
   ]
  },
  {
   "cell_type": "markdown",
   "metadata": {},
   "source": [
    "## Use a regular expression to find every \"he\" or \"she\" in the book. There should be about 3000 of them.\n",
    "\n",
    "**Tip:** Do you know about **word boundaries?** `\\b` means \"the beginning of end of a word.\"\n",
    "\n",
    "**Tip:** You might also want to use `re.IGNORECASE`. Maybe you'll need to google it? \n",
    "\n",
    "**Tip:** Do NOT use `re.compile`"
   ]
  },
  {
   "cell_type": "code",
   "execution_count": 110,
   "metadata": {},
   "outputs": [],
   "source": [
    "pronouns = re.findall(r\"\\b[Ss]*[Hh][e]\\b\", book)"
   ]
  },
  {
   "cell_type": "code",
   "execution_count": 111,
   "metadata": {},
   "outputs": [
    {
     "data": {
      "text/plain": [
       "3047"
      ]
     },
     "execution_count": 111,
     "metadata": {},
     "output_type": "execute_result"
    }
   ],
   "source": [
    "len(pronouns)"
   ]
  },
  {
   "cell_type": "code",
   "execution_count": 112,
   "metadata": {},
   "outputs": [
    {
     "name": "stdout",
     "output_type": "stream",
     "text": [
      "['he', 'he', 'she', 'she', 'he', 'he', 'he', 'he', 'he', 'he', 'she', 'he', 'he', 'she', 'he', 'She', 'she', 'she', 'He', 'he', 'she', 'he', 'She', 'She', 'she', 'she', 'she', 'he', 'he', 'he', 'she', 'she', 'he', 'he', 'she', 'he', 'he', 'He', 'he', 'He', 'he', 'he', 'he', 'She', 'he', 'she', 'he', 'he', 'he', 'he', 'he', 'he', 'he', 'he', 'He', 'he', 'he', 'She', 'he', 'he', 'She', 'She', 'she', 'she', 'he', 'he', 'He', 'he', 'he', 'she', 'she', 'he', 'she', 'he', 'he', 'he', 'he', 'she', 'he', 'she', 'he', 'he', 'he', 'he', 'He', 'she', 'She', 'she', 'he', 'He', 'he', 'she', 'He', 'she', 'He', 'he', 'He', 'he', 'she', 'he', 'he', 'he', 'he', 'He', 'he', 'He', 'he', 'he', 'he', 'he', 'he', 'she', 'he', 'he', 'he', 'he', 'he', 'he', 'he', 'he', 'he', 'he', 'he', 'he', 'he', 'he', 'he', 'she', 'he', 'he', 'she', 'he', 'he', 'he', 'he', 'he', 'he', 'he', 'he', 'he', 'he', 'she', 'she', 'she', 'he', 'she', 'she', 'She', 'she', 'she', 'he', 'she', 'she', 'he', 'he', 'he', 'he', 'he', 'she', 'she', 'she', 'she', 'she', 'She', 'She', 'she', 'she', 'she', 'he', 'she', 'she', 'she', 'she', 'he', 'he', 'he', 'she', 'he', 'he', 'he', 'he', 'she', 'he', 'He', 'she', 'he', 'he', 'He', 'she', 'she', 'she', 'she', 'she', 'she', 'he', 'He', 'he', 'he', 'she', 'he', 'He', 'he', 'he', 'she', 'she', 'He', 'she', 'She', 'he', 'she', 'she', 'he', 'She', 'she', 'she', 'She', 'she', 'she', 'She', 'he', 'She', 'she', 'She', 'she', 'She', 'she', 'she', 'she', 'she', 'she', 'she', 'she', 'she', 'she', 'she', 'She', 'he', 'he', 'she', 'she', 'she', 'She', 'She', 'She', 'she', 'she', 'she', 'he', 'she', 'she', 'She', 'she', 'she', 'she', 'she', 'she', 'she', 'he', 'She', 'He', 'she', 'he', 'she', 'she', 'she', 'She', 'she', 'she', 'she', 'she', 'she', 'she', 'she', 'he', 'she', 'she', 'she', 'she', 'She', 'she', 'She', 'she', 'she', 'she', 'she', 'he', 'he', 'she', 'he', 'He', 'she', 'he', 'He', 'she', 'she', 'she', 'She', 'she', 'she', 'he', 'he', 'he', 'he', 'She', 'She', 'She', 'She', 'he', 'she', 'she', 'he', 'He', 'He', 'he', 'He', 'He', 'he', 'he', 'he', 'she', 'he', 'he', 'he', 'she', 'she', 'She', 'she', 'he', 'he', 'She', 'she', 'She', 'She', 'He', 'she', 'he', 'He', 'he', 'She', 'she', 'she', 'She', 'she', 'she', 'she', 'he', 'He', 'he', 'He', 'she', 'she', 'she', 'He', 'She', 'She', 'she', 'She', 'he', 'she', 'she', 'She', 'she', 'he', 'he', 'she', 'she', 'she', 'she', 'He', 'He', 'he', 'he', 'he', 'She', 'she', 'he', 'he', 'she', 'he', 'he', 'He', 'he', 'she', 'He', 'she', 'she', 'she', 'she', 'she', 'she', 'she', 'She', 'he', 'He', 'he', 'he', 'she', 'he', 'she', 'he', 'he', 'he', 'she', 'he', 'he', 'he', 'He', 'he', 'he', 'he', 'he', 'He', 'she', 'he', 'he', 'he', 'he', 'she', 'He', 'He', 'he', 'he', 'he', 'He', 'he', 'he', 'He', 'she', 'he', 'he', 'he', 'he', 'he', 'he', 'he', 'She', 'he', 'She', 'he', 'he', 'She', 'she', 'she', 'She', 'he', 'he', 'she', 'he', 'she', 'she', 'she', 'she', 'She', 'she', 'she', 'she', 'She', 'She', 'she', 'she', 'she', 'he', 'he', 'he', 'he', 'he', 'he', 'he', 'she', 'he', 'he', 'he', 'he', 'he', 'he', 'he', 'he', 'he', 'he', 'he', 'he', 'he', 'she', 'he', 'she', 'she', 'she', 'she', 'she', 'she', 'she', 'he', 'he', 'he', 'he', 'he', 'he', 'he', 'he', 'He', 'he', 'she', 'she', 'she', 'She', 'he', 'he', 'she', 'he', 'She', 'she', 'he', 'she', 'she', 'He', 'he', 'she', 'he', 'he', 'he', 'he', 'he', 'she', 'she', 'he', 'he', 'she', 'she', 'she', 'he', 'he', 'he', 'he', 'he', 'he', 'he', 'she', 'she', 'she', 'she', 'she', 'She', 'He', 'He', 'He', 'he', 'he', 'he', 'he', 'he', 'he', 'he', 'he', 'he', 'He', 'He', 'he', 'he', 'He', 'he', 'he', 'she', 'He', 'she', 'She', 'she', 'he', 'He', 'he', 'he', 'he', 'He', 'He', 'she', 'she', 'she', 'She', 'He', 'He', 'he', 'He', 'He', 'he', 'he', 'he', 'he', 'he', 'he', 'he', 'she', 'he', 'he', 'she', 'he', 'she', 'she', 'she', 'he', 'she', 'he', 'she', 'She', 'she', 'he', 'he', 'he', 'She', 'he', 'she', 'she', 'he', 'he', 'he', 'she', 'she', 'he', 'he', 'she', 'he', 'she', 'she', 'she', 'she', 'he', 'he', 'he', 'she', 'he', 'he', 'She', 'she', 'She', 'she', 'she', 'he', 'She', 'he', 'she', 'he', 'She', 'she', 'she', 'she', 'She', 'he', 'she', 'she', 'she', 'she', 'He', 'she', 'she', 'she', 'she', 'He', 'she', 'He', 'she', 'he', 'He', 'he', 'she', 'She', 'he', 'he', 'He', 'he', 'he', 'he', 'he', 'he', 'she', 'she', 'he', 'she', 'She', 'he', 'he', 'She', 'he', 'he', 'he', 'he', 'he', 'he', 'he', 'he', 'She', 'she', 'she', 'he', 'he', 'he', 'he', 'he', 'he', 'He', 'he', 'he', 'he', 'She', 'she', 'he', 'he', 'he', 'she', 'he', 'she', 'she', 'she', 'he', 'he', 'He', 'he', 'she', 'she', 'She', 'she', 'she', 'she', 'she', 'she', 'she', 'she', 'she', 'she', 'She', 'she', 'he', 'she', 'She', 'she', 'he', 'she', 'she', 'she', 'she', 'she', 'she', 'she', 'She', 'she', 'She', 'She', 'He', 'he', 'He', 'he', 'he', 'he', 'he', 'he', 'she', 'he', 'she', 'She', 'he', 'she', 'He', 'he', 'he', 'She', 'She', 'he', 'She', 'he', 'he', 'he', 'she', 'she', 'he', 'he', 'he', 'she', 'she', 'He', 'she', 'she', 'she', 'he', 'he', 'she', 'she', 'she', 'he', 'she', 'she', 'she', 'he', 'he', 'she', 'he', 'he', 'she', 'she', 'she', 'She', 'she', 'she', 'she', 'she', 'she', 'She', 'she', 'she', 'she', 'he', 'she', 'he', 'she', 'she', 'he', 'She', 'she', 'she', 'She', 'She', 'He', 'he', 'She', 'she', 'she', 'she', 'she', 'she', 'She', 'she', 'she', 'he', 'he', 'He', 'he', 'He', 'he', 'He', 'he', 'he', 'She', 'he', 'she', 'she', 'he', 'he', 'she', 'She', 'she', 'she', 'she', 'she', 'he', 'he', 'he', 'he', 'he', 'He', 'she', 'he', 'she', 'she', 'she', 'she', 'She', 'he', 'She', 'she', 'she', 'she', 'she', 'he', 'he', 'he', 'she', 'he', 'she', 'She', 'she', 'she', 'she', 'she', 'he', 'she', 'she', 'she', 'he', 'she', 'He', 'he', 'he', 'he', 'she', 'he', 'he', 'he', 'She', 'he', 'she', 'she', 'she', 'She', 'he', 'he', 'he', 'he', 'he', 'he', 'he', 'She', 'she', 'he', 'she', 'she', 'she', 'she', 'he', 'she', 'she', 'she', 'She', 'she', 'she', 'she', 'she', 'she', 'he', 'he', 'he', 'he', 'she', 'he', 'she', 'she', 'she', 'she', 'she', 'she', 'she', 'she', 'he', 'he', 'he', 'he', 'she', 'she', 'she', 'she', 'she', 'she', 'he', 'he', 'he', 'he', 'she', 'he', 'she', 'he', 'She', 'she', 'she', 'she', 'she', 'she', 'she', 'she', 'he', 'she', 'He', 'he', 'she', 'she', 'she', 'she', 'she', 'She', 'she', 'she', 'he', 'he', 'she', 'She', 'she', 'he', 'she', 'she', 'she', 'she', 'he', 'he', 'she', 'he', 'She', 'he', 'she', 'She', 'she', 'He', 'He', 'she', 'she', 'she', 'he', 'he', 'he', 'she', 'he', 'she', 'he', 'He', 'he', 'he', 'He', 'she', 'she', 'she', 'she', 'she', 'He', 'she', 'she', 'she', 'he', 'he', 'he', 'she', 'she', 'he', 'he', 'he', 'he', 'She', 'She', 'she', 'she', 'she', 'she', 'she', 'she', 'she', 'she', 'she', 'he', 'she', 'she', 'she', 'she', 'she', 'she', 'he', 'he', 'he', 'He', 'he', 'he', 'he', 'he', 'he', 'she', 'he', 'she', 'she', 'she', 'she', 'she', 'she', 'she', 'she', 'She', 'she', 'she', 'she', 'She', 'she', 'She', 'she', 'she', 'He', 'She', 'she', 'she', 'she', 'she', 'she', 'she', 'she', 'she', 'She', 'she', 'she', 'she', 'she', 'he', 'she', 'he', 'He', 'she', 'she', 'he', 'she', 'She', 'she', 'he', 'she', 'he', 'he', 'she', 'she', 'he', 'she', 'she', 'She', 'she', 'she', 'she', 'She', 'he', 'she', 'she', 'she', 'he', 'she', 'He', 'she', 'she', 'she', 'he', 'he', 'She', 'he', 'he', 'he', 'she', 'He', 'she', 'she', 'she', 'she', 'she', 'she', 'She', 'he', 'he', 'she', 'he', 'she', 'she', 'she', 'she', 'she', 'he', 'she', 'he', 'He', 'he', 'She', 'She', 'she', 'she', 'she', 'She', 'She', 'she', 'she', 'She', 'She', 'she', 'She', 'she', 'she', 'She', 'she', 'She', 'he', 'he', 'he', 'he', 'he', 'She', 'he', 'she', 'she', 'She', 'she', 'she', 'he', 'he', 'She', 'she', 'she', 'he', 'she', 'she', 'she', 'she', 'she', 'he', 'he', 'he', 'He', 'she', 'she', 'she', 'she', 'She', 'she', 'she', 'she', 'She', 'she', 'she', 'She', 'she', 'she', 'he', 'he', 'he', 'He', 'she', 'she', 'he', 'he', 'she', 'she', 'she', 'he', 'She', 'she', 'She', 'she', 'she', 'she', 'she', 'she', 'she', 'she', 'she', 'she', 'he', 'he', 'he', 'he', 'She', 'She', 'he', 'she', 'he', 'she', 'he', 'he', 'he', 'he', 'she', 'she', 'He', 'she', 'he', 'she', 'she', 'she', 'he', 'she', 'She', 'she', 'she', 'she', 'She', 'she', 'He', 'he', 'he', 'he', 'he', 'he', 'He', 'he', 'she', 'She', 'he', 'she', 'she', 'he', 'she', 'she', 'she', 'she', 'she', 'He', 'he', 'she', 'he', 'she', 'he', 'He', 'She', 'she', 'he', 'He', 'he', 'he', 'he', 'She', 'He', 'she', 'she', 'she', 'She', 'he', 'she', 'he', 'she', 'she', 'he', 'he', 'he', 'he', 'he', 'she', 'she', 'he', 'he', 'he', 'He', 'he', 'she', 'she', 'She', 'he', 'He', 'she', 'She', 'she', 'she', 'He', 'he', 'She', 'he', 'He', 'she', 'he', 'he', 'she', 'she', 'he', 'She', 'he', 'he', 'she', 'She', 'she', 'she', 'she', 'he', 'she', 'she', 'He', 'he', 'he', 'he', 'He', 'he', 'he', 'she', 'He', 'she', 'he', 'she', 'he', 'he', 'he', 'she', 'she', 'she', 'she', 'he', 'she', 'she', 'She', 'she', 'She', 'he', 'he', 'he', 'he', 'he', 'he', 'He', 'He', 'she', 'she', 'he', 'he', 'she', 'she', 'she', 'she', 'she', 'he', 'she', 'she', 'he', 'He', 'he', 'she', 'she', 'he', 'she', 'she', 'she', 'she', 'he', 'she', 'he', 'she', 'She', 'he', 'he', 'she', 'she', 'she', 'he', 'she', 'She', 'He', 'he', 'She', 'he', 'he', 'He', 'he', 'he', 'she', 'she', 'he', 'she', 'She', 'he', 'He', 'he', 'he', 'she', 'he', 'He', 'he', 'she', 'He', 'he', 'he', 'she', 'she', 'he', 'she', 'She', 'he', 'He', 'she', 'he', 'she', 'he', 'he', 'she', 'she', 'She', 'he', 'she', 'he', 'She', 'he', 'She', 'she', 'she', 'he', 'he', 'he', 'he', 'he', 'She', 'she', 'She', 'she', 'She', 'she', 'she', 'she', 'she', 'She', 'she', 'he', 'she', 'She', 'she', 'He', 'she', 'she', 'He', 'she', 'she', 'He', 'He', 'he', 'he', 'he', 'he', 'he', 'he', 'he', 'he', 'He', 'he', 'he', 'he', 'he', 'he', 'he', 'He', 'he', 'he', 'he', 'he', 'he', 'she', 'she', 'he', 'she', 'She', 'she', 'he', 'she', 'she', 'she', 'she', 'he', 'she', 'he', 'he', 'she', 'She', 'she', 'He', 'he', 'she', 'She', 'she', 'she', 'she', 'she', 'she', 'she', 'he', 'she', 'she', 'she', 'she', 'she', 'she', 'She', 'she', 'she', 'she', 'he', 'she', 'She', 'he', 'he', 'she', 'She', 'she', 'She', 'she', 'she', 'she', 'she', 'she', 'she', 'he', 'She', 'She', 'She', 'he', 'She', 'he', 'he', 'he', 'She', 'he', 'he', 'he', 'he', 'he', 'she', 'she', 'she', 'she', 'he', 'she', 'She', 'she', 'she', 'she', 'she', 'she', 'she', 'He', 'she', 'she', 'She', 'she', 'he', 'she', 'she', 'she', 'she', 'she', 'She', 'she', 'she', 'she', 'he', 'she', 'she', 'she', 'she', 'she', 'she', 'she', 'she', 'she', 'He', 'He', 'he', 'she', 'she', 'she', 'she', 'she', 'she', 'she', 'She', 'she', 'she', 'she', 'she', 'she', 'she', 'he', 'he', 'he', 'She', 'she', 'he', 'she', 'She', 'she', 'she', 'he', 'he', 'He', 'he', 'he', 'she', 'she', 'she', 'she', 'she', 'she', 'she', 'she', 'he', 'he', 'he', 'he', 'he', 'She', 'She', 'she', 'he', 'She', 'She', 'she', 'he', 'she', 'she', 'She', 'She', 'she', 'She', 'she', 'she', 'She', 'she', 'she', 'he', 'She', 'she', 'she', 'he', 'he', 'He', 'he', 'She', 'she', 'She', 'she', 'she', 'she', 'She', 'She', 'she', 'he', 'he', 'he', 'he', 'he', 'he', 'she', 'she', 'she', 'she', 'she', 'she', 'She', 'she', 'she', 'she', 'she', 'she', 'she', 'She', 'she', 'He', 'she', 'she', 'she', 'she', 'She', 'she', 'she', 'she', 'she', 'she', 'She', 'She', 'She', 'She', 'she', 'she', 'She', 'she', 'he', 'She', 'she', 'he', 'she', 'he', 'He', 'he', 'he', 'she', 'he', 'he', 'he', 'he', 'he', 'he', 'he', 'he', 'he', 'she', 'she', 'he', 'he', 'he', 'he', 'he', 'he', 'she', 'She', 'he', 'she', 'she', 'she', 'she', 'He', 'he', 'She', 'she', 'she', 'she', 'she', 'she', 'she', 'she', 'she', 'she', 'she', 'she', 'she', 'she', 'she', 'she', 'she', 'she', 'she', 'she', 'She', 'she', 'She', 'she', 'she', 'she', 'She', 'she', 'she', 'she', 'she', 'she', 'she', 'she', 'She', 'she', 'She', 'she', 'she', 'she', 'she', 'she', 'She', 'she', 'he', 'She', 'she', 'He', 'she', 'he', 'He', 'she', 'She', 'she', 'he', 'she', 'she', 'he', 'he', 'she', 'he', 'she', 'he', 'She', 'he', 'she', 'He', 'she', 'he', 'He', 'she', 'she', 'she', 'he', 'she', 'she', 'she', 'he', 'She', 'she', 'she', 'she', 'he', 'she', 'she', 'He', 'She', 'he', 'she', 'he', 'he', 'he', 'he', 'he', 'She', 'she', 'she', 'he', 'he', 'he', 'She', 'he', 'she', 'he', 'he', 'She', 'she', 'she', 'She', 'he', 'she', 'he', 'he', 'he', 'she', 'he', 'she', 'he', 'he', 'she', 'he', 'he', 'she', 'he', 'she', 'she', 'she', 'she', 'he', 'she', 'she', 'she', 'she', 'he', 'He', 'she', 'she', 'he', 'he', 'he', 'he', 'he', 'she', 'She', 'she', 'he', 'he', 'she', 'he', 'he', 'She', 'she', 'she', 'she', 'He', 'he', 'he', 'she', 'he', 'she', 'She', 'she', 'He', 'she', 'She', 'she', 'she', 'He', 'he', 'he', 'he', 'she', 'she', 'she', 'he', 'he', 'he', 'he', 'He', 'he', 'he', 'she', 'she', 'she', 'she', 'she', 'she', 'she', 'she', 'she', 'She', 'she', 'she', 'She', 'she', 'she', 'she', 'She', 'She', 'she', 'he', 'she', 'he', 'He', 'he', 'he', 'She', 'she', 'she', 'she', 'she', 'she', 'she', 'he', 'he', 'he', 'she', 'she', 'he', 'He', 'he', 'she', 'he', 'he', 'she', 'she', 'she', 'he', 'she', 'she', 'she', 'she', 'he', 'she', 'she', 'she', 'she', 'she', 'she', 'she', 'he', 'he', 'he', 'he', 'he', 'he', 'he', 'she', 'She', 'she', 'He', 'she', 'She', 'she', 'she', 'she', 'she', 'she', 'she', 'she', 'she', 'she', 'she', 'she', 'she', 'she', 'she', 'she', 'she', 'She', 'She', 'she', 'she', 'she', 'She', 'she', 'she', 'she', 'he', 'He', 'he', 'she', 'he', 'she', 'he', 'she', 'he', 'she', 'she', 'she', 'she', 'she', 'she', 'He', 'she', 'he', 'she', 'she', 'she', 'She', 'he', 'he', 'she', 'she', 'she', 'He', 'she', 'she', 'she', 'He', 'she', 'he', 'she', 'He', 'he', 'he', 'he', 'he', 'she', 'he', 'he', 'she', 'she', 'he', 'she', 'he', 'she', 'she', 'she', 'she', 'She', 'she', 'she', 'She', 'she', 'she', 'he', 'He', 'She', 'she', 'she', 'she', 'He', 'he', 'she', 'she', 'she', 'she', 'she', 'she', 'she', 'he', 'she', 'she', 'she', 'She', 'she', 'she', 'She', 'he', 'she', 'she', 'she', 'she', 'she', 'he', 'he', 'He', 'she', 'he', 'he', 'he', 'she', 'she', 'she', 'She', 'She', 'she', 'he', 'he', 'he', 'he', 'he', 'he', 'he', 'He', 'she', 'she', 'she', 'he', 'she', 'he', 'she', 'she', 'he', 'He', 'he', 'He', 'he', 'he', 'she', 'She', 'She', 'she', 'she', 'she', 'she', 'he', 'he', 'he', 'he', 'he', 'he', 'she', 'she', 'she', 'she', 'he', 'she', 'she', 'she', 'she', 'she', 'he', 'He', 'he', 'he', 'He', 'he', 'she', 'She', 'he', 'he', 'he', 'He', 'he', 'He', 'he', 'he', 'he', 'she', 'she', 'he', 'he', 'He', 'She', 'she', 'She', 'she', 'She', 'He', 'he', 'he', 'he', 'he', 'he', 'he', 'he', 'he', 'he', 'he', 'She', 'she', 'she', 'she', 'she', 'He', 'he', 'she', 'she', 'he', 'he', 'he', 'He', 'he', 'he', 'She', 'she', 'she', 'she', 'he', 'he', 'he', 'he', 'he', 'he', 'he', 'He', 'she', 'he', 'he', 'she', 'he', 'she', 'he', 'he', 'he', 'she', 'she', 'she', 'she', 'he', 'He', 'he', 'he', 'he', 'he', 'She', 'he', 'he', 'he', 'she', 'she', 'He', 'he', 'he', 'She', 'she', 'he', 'she', 'he', 'she', 'he', 'he', 'he', 'he', 'he', 'he', 'he', 'He', 'he', 'he', 'she', 'she', 'she', 'he', 'he', 'He', 'She', 'she', 'She', 'she', 'She', 'She', 'he', 'he', 'she', 'he', 'he', 'she', 'She', 'she', 'she', 'she', 'she', 'She', 'she', 'he', 'she', 'He', 'he', 'He', 'he', 'he', 'he', 'he', 'he', 'He', 'He', 'he', 'he', 'He', 'he', 'she', 'She', 'she', 'he', 'He', 'she', 'she', 'She', 'she', 'She', 'she', 'he', 'she', 'he', 'she', 'She', 'she', 'she', 'she', 'She', 'she', 'She', 'She', 'she', 'she', 'he', 'she', 'He', 'she', 'he', 'She', 'he', 'she', 'she', 'she', 'he', 'he', 'he', 'He', 'He', 'he', 'He', 'he', 'she', 'She', 'she', 'she', 'she', 'She', 'she', 'she', 'she', 'she', 'he', 'she', 'she', 'he', 'she', 'she', 'she', 'she', 'he', 'She', 'she', 'he', 'she', 'She', 'she', 'she', 'she', 'she', 'he', 'he', 'She', 'she', 'She', 'she', 'She', 'she', 'she', 'he', 'he', 'he', 'she', 'She', 'she', 'he', 'she', 'he', 'He', 'He', 'she', 'he', 'she', 'she', 'she', 'he', 'he', 'he', 'he', 'he', 'she', 'She', 'she', 'she', 'she', 'she', 'she', 'She', 'she', 'she', 'he', 'He', 'he', 'he', 'he', 'He', 'he', 'He', 'he', 'He', 'he', 'he', 'he', 'She', 'he', 'he', 'he', 'he', 'he', 'She', 'she', 'she', 'He', 'he', 'he', 'she', 'She', 'she', 'she', 'She', 'he', 'he', 'He', 'He', 'he', 'He', 'he', 'he', 'he', 'he', 'he', 'he', 'he', 'he', 'he', 'He', 'he', 'He', 'he', 'He', 'he', 'he', 'he', 'he', 'he', 'He', 'he', 'she', 'she', 'she', 'she', 'she', 'He', 'he', 'he', 'he', 'she', 'He', 'he', 'he', 'he', 'he', 'He', 'he', 'he', 'she', 'He', 'She', 'he', 'he', 'he', 'he', 'he', 'she', 'she', 'she', 'she', 'she', 'she', 'she', 'he', 'She', 'She', 'she', 'She', 'she', 'she', 'he', 'he', 'she', 'She', 'she', 'she', 'she', 'she', 'she', 'he', 'she', 'he', 'he', 'he', 'she', 'she', 'she', 'she', 'she', 'she', 'she', 'She', 'he', 'he', 'he', 'she', 'she', 'she', 'He', 'He', 'He', 'she', 'she', 'she', 'She', 'He', 'he', 'he', 'he', 'she', 'He', 'She', 'she', 'she', 'she', 'she', 'he', 'she', 'she', 'she', 'she', 'she', 'he', 'she', 'he', 'he', 'he', 'He', 'she', 'he', 'she', 'she', 'She', 'she', 'she', 'she', 'She', 'she', 'he', 'she', 'she', 'he', 'she', 'she', 'she', 'she', 'he', 'she', 'She', 'she', 'She', 'He', 'she', 'he', 'she', 'he', 'he', 'she', 'He', 'she', 'He', 'he', 'he', 'she', 'he', 'she', 'She', 'she', 'he', 'She', 'she', 'She', 'He', 'she', 'he', 'he', 'she', 'he', 'he', 'she', 'she', 'he', 'he', 'he', 'she', 'she', 'she', 'he', 'he', 'He', 'she', 'she', 'she', 'she', 'she', 'she', 'she', 'she', 'he', 'she', 'he', 'She', 'He', 'he', 'he', 'he', 'she', 'he', 'he', 'He', 'He', 'she', 'she', 'she', 'she', 'she', 'He', 'She', 'She', 'she', 'she', 'She', 'She', 'he', 'she', 'she', 'he', 'he', 'She', 'he', 'She', 'she', 'she', 'She', 'he', 'he', 'He', 'he', 'She', 'she', 'she', 'she', 'he', 'she', 'She', 'she', 'she', 'she', 'he', 'he', 'He', 'he', 'she', 'He', 'she', 'he', 'He', 'He', 'He', 'she', 'she', 'she', 'She', 'she', 'she', 'she', 'she', 'he', 'He', 'he', 'she', 'he', 'he', 'she', 'she', 'she', 'she', 'she', 'she', 'she', 'she', 'He', 'She', 'she', 'she', 'he', 'he', 'She', 'He', 'she', 'he', 'she', 'he', 'he', 'he', 'he', 'he', 'he', 'he', 'she', 'she', 'he', 'he', 'she', 'he', 'He', 'she', 'he', 'he', 'he', 'he', 'he', 'He', 'he', 'he', 'she', 'she', 'he', 'she', 'She', 'she', 'she', 'She', 'she', 'she', 'she', 'she', 'she', 'he', 'he', 'he', 'he', 'he', 'he', 'he', 'he', 'she', 'He', 'she', 'she', 'she', 'she', 'she', 'She', 'she', 'She', 'she', 'She', 'she', 'She', 'she', 'she', 'she', 'she', 'She', 'she', 'she', 'she', 'she', 'she', 'he', 'she', 'She', 'he', 'she', 'he', 'he', 'he', 'he', 'she', 'he', 'he', 'she', 'she', 'he', 'She', 'he', 'he', 'she', 'She', 'He', 'she', 'he', 'he', 'He', 'he', 'he', 'he', 'she', 'she', 'she', 'she', 'she', 'she', 'she', 'she', 'he', 'she', 'she', 'he', 'he', 'she', 'she', 'he', 'he', 'he', 'he', 'she', 'she', 'she', 'he', 'she', 'She', 'she', 'he', 'she', 'he', 'She', 'he', 'He', 'she', 'he', 'She', 'he', 'she', 'he', 'He', 'she', 'He', 'he', 'He', 'she', 'She', 'he', 'he', 'she', 'She', 'she', 'She', 'she', 'she', 'She', 'she', 'she', 'she', 'He', 'she', 'she', 'she', 'She', 'she', 'she', 'he', 'he', 'he', 'he', 'she', 'she', 'She', 'she', 'she', 'she', 'She', 'he', 'she', 'she', 'she', 'he', 'she', 'he', 'She', 'he', 'she', 'she', 'He', 'she', 'he', 'He', 'he', 'He', 'he', 'she', 'he', 'she', 'he', 'she', 'He', 'he', 'He', 'she', 'she', 'she', 'she', 'she', 'She', 'he', 'she', 'she', 'she', 'she', 'he', 'he', 'she', 'she', 'she', 'she', 'she', 'she', 'she', 'she', 'he', 'He', 'She', 'she', 'she', 'she', 'she', 'He', 'He', 'he', 'he', 'she', 'she', 'she', 'he', 'she', 'she', 'she', 'He', 'he', 'he', 'she', 'She', 'she', 'she', 'she', 'she', 'she', 'she', 'He', 'she', 'she', 'she', 'he', 'he', 'she', 'she', 'she', 'He', 'she', 'she', 'she', 'she', 'he', 'she']\n"
     ]
    }
   ],
   "source": [
    "print(pronouns)"
   ]
  },
  {
   "cell_type": "markdown",
   "metadata": {},
   "source": [
    "## Use a regular expression to find those same \"he\" or \"she\"s, but also match *the word after it*\n",
    "\n",
    "The first four should be:\n",
    "\n",
    "* he is\n",
    "* he had\n",
    "* she told\n",
    "* he came"
   ]
  },
  {
   "cell_type": "code",
   "execution_count": 176,
   "metadata": {},
   "outputs": [],
   "source": [
    "verbs = re.findall(r\"\\b([Ss]*[Hh][e]\\s\\w*\\b) \", book)"
   ]
  },
  {
   "cell_type": "code",
   "execution_count": 177,
   "metadata": {},
   "outputs": [
    {
     "data": {
      "text/plain": [
       "2673"
      ]
     },
     "execution_count": 177,
     "metadata": {},
     "output_type": "execute_result"
    }
   ],
   "source": [
    "len(verbs)"
   ]
  },
  {
   "cell_type": "markdown",
   "metadata": {},
   "source": [
    "## Use capture groups to save the pronoun (he/she) as one match and the word as another\n",
    "\n",
    "The first five should look like\n",
    "\n",
    "```\n",
    "[('he', 'is'),\n",
    " ('he', 'had'),\n",
    " ('she', 'told'),\n",
    " ('he', 'came'),\n",
    " ('he', 'agreed')]```"
   ]
  },
  {
   "cell_type": "code",
   "execution_count": 173,
   "metadata": {},
   "outputs": [],
   "source": [
    "capture_words = re.findall(r\"\\b([Ss]*[Hh][e]) (\\w*)\\b \", book)"
   ]
  },
  {
   "cell_type": "code",
   "execution_count": 175,
   "metadata": {},
   "outputs": [
    {
     "data": {
      "text/plain": [
       "2672"
      ]
     },
     "execution_count": 175,
     "metadata": {},
     "output_type": "execute_result"
    }
   ],
   "source": [
    "len(capture_words)"
   ]
  },
  {
   "cell_type": "markdown",
   "metadata": {},
   "source": [
    "## Save those matches into a dataframe\n",
    "\n",
    "You can give the column names with `columns=['pronoun', 'verb']`"
   ]
  },
  {
   "cell_type": "code",
   "execution_count": 178,
   "metadata": {},
   "outputs": [],
   "source": [
    "df = pd.DataFrame.from_dict(capture_words)"
   ]
  },
  {
   "cell_type": "code",
   "execution_count": 179,
   "metadata": {},
   "outputs": [],
   "source": [
    "df.columns=['pronoun', 'verb']"
   ]
  },
  {
   "cell_type": "code",
   "execution_count": 180,
   "metadata": {},
   "outputs": [
    {
     "data": {
      "text/html": [
       "<div>\n",
       "<style scoped>\n",
       "    .dataframe tbody tr th:only-of-type {\n",
       "        vertical-align: middle;\n",
       "    }\n",
       "\n",
       "    .dataframe tbody tr th {\n",
       "        vertical-align: top;\n",
       "    }\n",
       "\n",
       "    .dataframe thead th {\n",
       "        text-align: right;\n",
       "    }\n",
       "</style>\n",
       "<table border=\"1\" class=\"dataframe\">\n",
       "  <thead>\n",
       "    <tr style=\"text-align: right;\">\n",
       "      <th></th>\n",
       "      <th>pronoun</th>\n",
       "      <th>verb</th>\n",
       "    </tr>\n",
       "  </thead>\n",
       "  <tbody>\n",
       "    <tr>\n",
       "      <th>0</th>\n",
       "      <td>he</td>\n",
       "      <td>is</td>\n",
       "    </tr>\n",
       "    <tr>\n",
       "      <th>1</th>\n",
       "      <td>he</td>\n",
       "      <td>had</td>\n",
       "    </tr>\n",
       "    <tr>\n",
       "      <th>2</th>\n",
       "      <td>she</td>\n",
       "      <td>told</td>\n",
       "    </tr>\n",
       "    <tr>\n",
       "      <th>3</th>\n",
       "      <td>he</td>\n",
       "      <td>came</td>\n",
       "    </tr>\n",
       "    <tr>\n",
       "      <th>4</th>\n",
       "      <td>he</td>\n",
       "      <td>agreed</td>\n",
       "    </tr>\n",
       "  </tbody>\n",
       "</table>\n",
       "</div>"
      ],
      "text/plain": [
       "  pronoun    verb\n",
       "0      he      is\n",
       "1      he     had\n",
       "2     she    told\n",
       "3      he    came\n",
       "4      he  agreed"
      ]
     },
     "execution_count": 180,
     "metadata": {},
     "output_type": "execute_result"
    }
   ],
   "source": [
    "df.head()"
   ]
  },
  {
   "cell_type": "markdown",
   "metadata": {},
   "source": [
    "## How many times is each pronoun used?"
   ]
  },
  {
   "cell_type": "code",
   "execution_count": 181,
   "metadata": {},
   "outputs": [
    {
     "data": {
      "text/plain": [
       "she    1175\n",
       "he      958\n",
       "She     315\n",
       "He      224\n",
       "Name: pronoun, dtype: int64"
      ]
     },
     "execution_count": 181,
     "metadata": {},
     "output_type": "execute_result"
    }
   ],
   "source": [
    "df.pronoun.value_counts()"
   ]
  },
  {
   "cell_type": "markdown",
   "metadata": {},
   "source": [
    "## Oh, wait, clean that up.\n",
    "\n",
    "Make it only 'he' and 'she' lowercase.\n",
    "\n",
    "It should be about 1600 'she' and 1300 'he'"
   ]
  },
  {
   "cell_type": "code",
   "execution_count": 182,
   "metadata": {},
   "outputs": [],
   "source": [
    "df.pronoun = df.pronoun.str.lower()"
   ]
  },
  {
   "cell_type": "code",
   "execution_count": 183,
   "metadata": {},
   "outputs": [
    {
     "data": {
      "text/plain": [
       "she    1490\n",
       "he     1182\n",
       "Name: pronoun, dtype: int64"
      ]
     },
     "execution_count": 183,
     "metadata": {},
     "output_type": "execute_result"
    }
   ],
   "source": [
    "df.pronoun.value_counts()"
   ]
  },
  {
   "cell_type": "markdown",
   "metadata": {},
   "source": [
    "Uh oh, it looks like I lost about 100 pronouns somewhere. It happened a couple rows above but I fussed with it and can't figure it out."
   ]
  },
  {
   "cell_type": "markdown",
   "metadata": {},
   "source": [
    "## What are the top 20 most common verbs?"
   ]
  },
  {
   "cell_type": "code",
   "execution_count": 186,
   "metadata": {},
   "outputs": [
    {
     "data": {
      "text/plain": [
       "had        367\n",
       "was        359\n",
       "could      157\n",
       "is         133\n",
       "would       91\n",
       "has         68\n",
       "did         56\n",
       "will        46\n",
       "might       46\n",
       "should      40\n",
       "must        36\n",
       "felt        34\n",
       "saw         29\n",
       "thought     26\n",
       "then        26\n",
       "said        20\n",
       "does        19\n",
       "looked      18\n",
       "may         18\n",
       "found       17\n",
       "Name: verb, dtype: int64"
      ]
     },
     "execution_count": 186,
     "metadata": {},
     "output_type": "execute_result"
    }
   ],
   "source": [
    "df.verb.value_counts().head(20)"
   ]
  },
  {
   "cell_type": "markdown",
   "metadata": {},
   "source": [
    "## What are the top 20 most common verbs for 'he', and the top 20 most common for 'she'\n",
    "\n",
    "**Tip:** Don't use groupby, just filter. If you want to know how, though, you can also look at \"value counts for different categories\" on [this page](http://jonathansoma.com/lede/foundations-2017/classes/more-pandas/class-notes/)"
   ]
  },
  {
   "cell_type": "code",
   "execution_count": 196,
   "metadata": {},
   "outputs": [
    {
     "data": {
      "text/plain": [
       "pronoun  verb   \n",
       "he       had        164\n",
       "         was        155\n",
       "         is          69\n",
       "         has         49\n",
       "         could       36\n",
       "         would       34\n",
       "         should      25\n",
       "         did         24\n",
       "         must        23\n",
       "         will        23\n",
       "         might       21\n",
       "         may         13\n",
       "         never       12\n",
       "         thought     12\n",
       "         came        11\n",
       "         does        11\n",
       "         meant       11\n",
       "         then        11\n",
       "         looked       9\n",
       "         said         9\n",
       "she      was        204\n",
       "         had        203\n",
       "         could      121\n",
       "         is          64\n",
       "         would       57\n",
       "         did         32\n",
       "         felt        30\n",
       "         saw         26\n",
       "         might       25\n",
       "         will        23\n",
       "         has         19\n",
       "         should      15\n",
       "         then        15\n",
       "         thought     14\n",
       "         must        13\n",
       "         found       12\n",
       "         soon        12\n",
       "         said        11\n",
       "         knew        10\n",
       "         went        10\n",
       "Name: verb, dtype: int64"
      ]
     },
     "execution_count": 196,
     "metadata": {},
     "output_type": "execute_result"
    }
   ],
   "source": [
    "df.groupby(\"pronoun\")['verb'].value_counts().groupby(level=0).head(20)\n",
    "#why shouldn't I use groupby?"
   ]
  },
  {
   "cell_type": "code",
   "execution_count": null,
   "metadata": {},
   "outputs": [],
   "source": []
  },
  {
   "cell_type": "markdown",
   "metadata": {},
   "source": [
    "## Who cries more, men or women? Give me a percentage answer.\n",
    "\n",
    "**Tip:** It's `cried`, because of, you know, how books are written"
   ]
  },
  {
   "cell_type": "code",
   "execution_count": 197,
   "metadata": {},
   "outputs": [],
   "source": [
    "crying = df['verb'] == 'cried'"
   ]
  },
  {
   "cell_type": "code",
   "execution_count": 207,
   "metadata": {},
   "outputs": [
    {
     "data": {
      "text/plain": [
       "0       False\n",
       "1       False\n",
       "2       False\n",
       "3       False\n",
       "4       False\n",
       "5       False\n",
       "6       False\n",
       "7       False\n",
       "8       False\n",
       "9       False\n",
       "10      False\n",
       "11      False\n",
       "12      False\n",
       "13      False\n",
       "14      False\n",
       "15      False\n",
       "16      False\n",
       "17      False\n",
       "18      False\n",
       "19      False\n",
       "20      False\n",
       "21      False\n",
       "22      False\n",
       "23      False\n",
       "24      False\n",
       "25      False\n",
       "26      False\n",
       "27      False\n",
       "28      False\n",
       "29      False\n",
       "        ...  \n",
       "2642    False\n",
       "2643    False\n",
       "2644    False\n",
       "2645    False\n",
       "2646    False\n",
       "2647    False\n",
       "2648    False\n",
       "2649    False\n",
       "2650    False\n",
       "2651    False\n",
       "2652    False\n",
       "2653    False\n",
       "2654    False\n",
       "2655    False\n",
       "2656    False\n",
       "2657    False\n",
       "2658    False\n",
       "2659    False\n",
       "2660    False\n",
       "2661    False\n",
       "2662    False\n",
       "2663    False\n",
       "2664    False\n",
       "2665    False\n",
       "2666    False\n",
       "2667    False\n",
       "2668    False\n",
       "2669    False\n",
       "2670    False\n",
       "2671    False\n",
       "Name: verb, Length: 2672, dtype: bool"
      ]
     },
     "execution_count": 207,
     "metadata": {},
     "output_type": "execute_result"
    }
   ],
   "source": [
    "crying"
   ]
  },
  {
   "cell_type": "markdown",
   "metadata": {},
   "source": [
    "## How much more common is 'he' than 'she' in J.R.R. Tolkein's Fellowship of the Ring? How does that compare to Pride and Prejudice?\n",
    "\n",
    "The book is in the same directory."
   ]
  },
  {
   "cell_type": "code",
   "execution_count": null,
   "metadata": {},
   "outputs": [],
   "source": []
  }
 ],
 "metadata": {
  "kernelspec": {
   "display_name": "Python 3",
   "language": "python",
   "name": "python3"
  },
  "language_info": {
   "codemirror_mode": {
    "name": "ipython",
    "version": 3
   },
   "file_extension": ".py",
   "mimetype": "text/x-python",
   "name": "python",
   "nbconvert_exporter": "python",
   "pygments_lexer": "ipython3",
   "version": "3.6.5"
  }
 },
 "nbformat": 4,
 "nbformat_minor": 2
}
